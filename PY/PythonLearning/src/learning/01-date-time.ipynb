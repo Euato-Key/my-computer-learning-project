{
 "cells": [
  {
   "cell_type": "markdown",
   "id": "43026de3eb6e61af",
   "metadata": {},
   "source": [
    "# 这里主要来学习datetime"
   ]
  },
  {
   "cell_type": "code",
   "execution_count": 1,
   "id": "dedb5bd325e94d29",
   "metadata": {
    "jupyter": {
     "is_executing": true
    }
   },
   "outputs": [],
   "source": [
    "import datetime"
   ]
  },
  {
   "cell_type": "code",
   "execution_count": 2,
   "id": "78d8ffc9f6c1474c",
   "metadata": {
    "ExecuteTime": {
     "end_time": "2025-09-09T07:37:45.987494Z",
     "start_time": "2025-09-09T07:37:45.982962Z"
    }
   },
   "outputs": [],
   "source": [
    "today = datetime.date.today()"
   ]
  },
  {
   "cell_type": "code",
   "execution_count": 3,
   "id": "358cc897737a0bd8",
   "metadata": {
    "ExecuteTime": {
     "end_time": "2025-09-09T07:37:47.293822Z",
     "start_time": "2025-09-09T07:37:47.289405Z"
    }
   },
   "outputs": [
    {
     "name": "stdout",
     "output_type": "stream",
     "text": [
      "2025-09-12\n"
     ]
    }
   ],
   "source": [
    "print(today)"
   ]
  },
  {
   "cell_type": "code",
   "execution_count": 4,
   "id": "ddc147fe8f30de91",
   "metadata": {
    "ExecuteTime": {
     "end_time": "2025-09-09T07:37:49.435316Z",
     "start_time": "2025-09-09T07:37:49.430985Z"
    }
   },
   "outputs": [],
   "source": [
    "now = datetime.datetime.now()"
   ]
  },
  {
   "cell_type": "code",
   "execution_count": 5,
   "id": "ec8f1391738ef801",
   "metadata": {
    "ExecuteTime": {
     "end_time": "2025-09-09T07:37:51.557051Z",
     "start_time": "2025-09-09T07:37:51.552229Z"
    }
   },
   "outputs": [
    {
     "name": "stdout",
     "output_type": "stream",
     "text": [
      "2025-09-12 16:47:12.015977\n"
     ]
    }
   ],
   "source": [
    "print(now)"
   ]
  },
  {
   "cell_type": "code",
   "execution_count": 6,
   "id": "9a7ecba6d6b060a1",
   "metadata": {
    "ExecuteTime": {
     "end_time": "2025-09-09T07:38:04.250517Z",
     "start_time": "2025-09-09T07:38:04.245605Z"
    }
   },
   "outputs": [
    {
     "name": "stdout",
     "output_type": "stream",
     "text": [
      "1 day, 0:00:00\n"
     ]
    }
   ],
   "source": [
    "delta = datetime.timedelta(days=1)\n",
    "print(delta)"
   ]
  },
  {
   "cell_type": "code",
   "execution_count": 7,
   "id": "ab5ea0b94d7bd751",
   "metadata": {
    "ExecuteTime": {
     "end_time": "2025-09-09T07:42:08.403412Z",
     "start_time": "2025-09-09T07:42:08.399540Z"
    }
   },
   "outputs": [],
   "source": [
    "from datetime import date, datetime, time, timedelta"
   ]
  },
  {
   "cell_type": "code",
   "execution_count": 8,
   "id": "b2974c50180b6703",
   "metadata": {
    "ExecuteTime": {
     "end_time": "2025-09-09T07:42:10.237918Z",
     "start_time": "2025-09-09T07:42:10.233402Z"
    }
   },
   "outputs": [
    {
     "name": "stdout",
     "output_type": "stream",
     "text": [
      "2025-09-12\n"
     ]
    }
   ],
   "source": [
    "today = date.today()\n",
    "print(today)"
   ]
  },
  {
   "cell_type": "code",
   "execution_count": 9,
   "id": "b9ce99f1850ee1e2",
   "metadata": {
    "ExecuteTime": {
     "end_time": "2025-09-09T07:42:12.374741Z",
     "start_time": "2025-09-09T07:42:12.370287Z"
    }
   },
   "outputs": [
    {
     "name": "stdout",
     "output_type": "stream",
     "text": [
      "2025-09-12 16:49:10.270514\n"
     ]
    }
   ],
   "source": [
    "now = datetime.now()\n",
    "print(now)"
   ]
  },
  {
   "cell_type": "code",
   "execution_count": 10,
   "id": "7dc5db1d7340a20f",
   "metadata": {
    "ExecuteTime": {
     "end_time": "2025-09-09T07:42:51.547609Z",
     "start_time": "2025-09-09T07:42:51.541266Z"
    }
   },
   "outputs": [
    {
     "name": "stdout",
     "output_type": "stream",
     "text": [
      "2 days, 0:00:00\n"
     ]
    }
   ],
   "source": [
    "delta = timedelta(days=2)\n",
    "print(delta)"
   ]
  },
  {
   "cell_type": "markdown",
   "id": "9f58bb54002361d1",
   "metadata": {},
   "source": [
    "## 首先让我们来学习一下date类：用于处理日期（年 月 日）\n",
    "- 表示一个日历日期（年 月 日），不包含具体的时间信息\n",
    "- 构造函数：datetime.date(year,month,day)"
   ]
  },
  {
   "cell_type": "code",
   "execution_count": 11,
   "id": "50068e3cba6c81de",
   "metadata": {
    "ExecuteTime": {
     "end_time": "2025-09-09T07:48:48.891787Z",
     "start_time": "2025-09-09T07:48:48.884845Z"
    }
   },
   "outputs": [
    {
     "name": "stdout",
     "output_type": "stream",
     "text": [
      "2004-02-26\n"
     ]
    }
   ],
   "source": [
    "import datetime\n",
    "my_birthday = datetime.date(2004,2,26)\n",
    "print(my_birthday)"
   ]
  },
  {
   "cell_type": "markdown",
   "id": "cffab270c8613cc7",
   "metadata": {},
   "source": [
    "- 现在让我们来获取当前日期：datetime.date.tody()"
   ]
  },
  {
   "cell_type": "code",
   "execution_count": 12,
   "id": "f0d6ee026ff0498a",
   "metadata": {
    "ExecuteTime": {
     "end_time": "2025-09-09T07:51:46.037620Z",
     "start_time": "2025-09-09T07:51:46.032255Z"
    }
   },
   "outputs": [
    {
     "name": "stdout",
     "output_type": "stream",
     "text": [
      "2025-09-12\n"
     ]
    }
   ],
   "source": [
    "today = datetime.date.today()\n",
    "print(today)"
   ]
  },
  {
   "cell_type": "markdown",
   "id": "8ca8c74eb0c343e",
   "metadata": {},
   "source": [
    "- 访问日期的常见属性"
   ]
  },
  {
   "cell_type": "code",
   "execution_count": 35,
   "id": "4f2ce6d62d124f5c",
   "metadata": {
    "ExecuteTime": {
     "end_time": "2025-09-09T07:53:12.283988Z",
     "start_time": "2025-09-09T07:53:12.278968Z"
    }
   },
   "outputs": [
    {
     "name": "stdout",
     "output_type": "stream",
     "text": [
      "2004\n",
      "2\n",
      "26\n",
      "2004-02-26\n"
     ]
    }
   ],
   "source": [
    "print(my_birthday.year)\n",
    "print(my_birthday.month)\n",
    "print(my_birthday.day)\n",
    "print(my_birthday)"
   ]
  },
  {
   "cell_type": "markdown",
   "id": "ae8449e813e920a4",
   "metadata": {},
   "source": [
    "### 访问方法\n",
    "- .weekday()：返回星期几，整数表示。\n",
    "    - 周一 = 0, 周二 = 1, ..., 周日 = 6"
   ]
  },
  {
   "cell_type": "code",
   "execution_count": 36,
   "id": "b13415f697622e26",
   "metadata": {
    "ExecuteTime": {
     "end_time": "2025-09-09T07:54:50.920404Z",
     "start_time": "2025-09-09T07:54:50.916690Z"
    }
   },
   "outputs": [
    {
     "name": "stdout",
     "output_type": "stream",
     "text": [
      "3\n"
     ]
    }
   ],
   "source": [
    "print(my_birthday.weekday())"
   ]
  },
  {
   "cell_type": "markdown",
   "id": "544507348ec6fc3b",
   "metadata": {},
   "source": [
    "- .isoweekday():返回星期几，整数表示 (符合 ISO 8601 标准)。\n",
    "    - 周一 = 1, 周二 = 2, ..., 周日 = 7"
   ]
  },
  {
   "cell_type": "code",
   "execution_count": 38,
   "id": "e84801d903f5dbe0",
   "metadata": {
    "ExecuteTime": {
     "end_time": "2025-09-09T08:00:45.629282Z",
     "start_time": "2025-09-09T08:00:45.623140Z"
    }
   },
   "outputs": [
    {
     "name": "stdout",
     "output_type": "stream",
     "text": [
      "4\n"
     ]
    }
   ],
   "source": [
    "print(my_birthday.isoweekday())"
   ]
  },
  {
   "cell_type": "markdown",
   "id": "25e54988fae162d0",
   "metadata": {},
   "source": [
    "- .strftime(format)​：将日期对象格式化为字符串"
   ]
  },
  {
   "cell_type": "code",
   "execution_count": 13,
   "id": "80a9ab80df04629",
   "metadata": {
    "ExecuteTime": {
     "end_time": "2025-09-09T08:01:24.886229Z",
     "start_time": "2025-09-09T08:01:24.876773Z"
    }
   },
   "outputs": [
    {
     "name": "stdout",
     "output_type": "stream",
     "text": [
      "2004年02月26日\n"
     ]
    }
   ],
   "source": [
    "formatted_date = my_birthday.strftime(\"%Y年%m月%d日\")\n",
    "print(formatted_date)"
   ]
  },
  {
   "cell_type": "markdown",
   "id": "12bb8b6fc8646b97",
   "metadata": {},
   "source": [
    "- .replace(year=None, month=None, day=None)​：返回一个新的 date对象，其中指定的字段被替换，未指定的字段保持不变。"
   ]
  },
  {
   "cell_type": "code",
   "execution_count": 40,
   "id": "9b131c133d71472b",
   "metadata": {
    "ExecuteTime": {
     "end_time": "2025-09-09T08:02:11.462309Z",
     "start_time": "2025-09-09T08:02:11.457125Z"
    }
   },
   "outputs": [
    {
     "name": "stdout",
     "output_type": "stream",
     "text": [
      "1991-02-26\n"
     ]
    }
   ],
   "source": [
    "next_year_bday = my_birthday.replace(year=1991)\n",
    "print(next_year_bday)  # 输出: 1991-08-15"
   ]
  },
  {
   "cell_type": "markdown",
   "id": "d960c1f278ff0e53",
   "metadata": {},
   "source": [
    "## time类：处理时间（时、分、秒、微秒）​\n",
    "- 用途​：表示一天内的时间（时、分、秒、微秒），不包含日期信息。默认不包含时区信息 (naive)。\n",
    "- 创建 time对象：​\n",
    "    - 所有参数都是可选的，默认为 0。\n",
    "    - hour：范围 0到 23。\n",
    "    - minute：范围 0到 59。\n",
    "    - second：范围 0到 59。\n",
    "    - microsecond :范围 0到 999999。"
   ]
  },
  {
   "cell_type": "code",
   "execution_count": 14,
   "id": "7e5b84a732489588",
   "metadata": {
    "ExecuteTime": {
     "end_time": "2025-09-09T08:13:04.299066Z",
     "start_time": "2025-09-09T08:13:04.291334Z"
    }
   },
   "outputs": [],
   "source": [
    "import datetime\n",
    "lunch_time = datetime.time(12,30)\n",
    "precise_time = datetime.time(14,15,30,50000)\n",
    "time1 = datetime.time(hour=12,minute=30,second=12,microsecond=30)"
   ]
  },
  {
   "cell_type": "code",
   "execution_count": 15,
   "id": "2c91cc97329d77b2",
   "metadata": {
    "ExecuteTime": {
     "end_time": "2025-09-09T08:13:12.632963Z",
     "start_time": "2025-09-09T08:13:12.627496Z"
    }
   },
   "outputs": [
    {
     "name": "stdout",
     "output_type": "stream",
     "text": [
      "12:30:00\n",
      "14:15:30.050000\n",
      "12:30:12.000030\n"
     ]
    }
   ],
   "source": [
    "print(lunch_time)\n",
    "print(precise_time)\n",
    "print(time1)"
   ]
  },
  {
   "cell_type": "markdown",
   "id": "ec866f74937a3be8",
   "metadata": {},
   "source": [
    "*   **常用属性：** (直接访问)\n",
    "    *   `.hour`：小时 (整数, 0-23)\n",
    "    *   `.minute`：分钟 (整数, 0-59)\n",
    "    *   `.second`：秒 (整数, 0-59)\n",
    "    *   `.microsecond`：微秒 (整数, 0-999999)\n"
   ]
  },
  {
   "cell_type": "code",
   "execution_count": 49,
   "id": "f57f27f92158ce14",
   "metadata": {
    "ExecuteTime": {
     "end_time": "2025-09-09T08:13:15.027733Z",
     "start_time": "2025-09-09T08:13:15.000305Z"
    }
   },
   "outputs": [
    {
     "name": "stdout",
     "output_type": "stream",
     "text": [
      "12\n",
      "30\n",
      "0\n",
      "50000\n"
     ]
    }
   ],
   "source": [
    "print(lunch_time.hour)    # 输出: 12\n",
    "print(lunch_time.minute)  # 输出: 30\n",
    "print(lunch_time.second)  # 输出: 0 (未指定，默认0)\n",
    "print(precise_time.microsecond)  # 输出: 500000"
   ]
  },
  {
   "cell_type": "markdown",
   "id": "d9e31390f35dc006",
   "metadata": {},
   "source": [
    "*   **常用方法：**\n",
    "    *   **`.strftime(format)`**：将时间对象格式化为字符串 (第二部分详细讲)。"
   ]
  },
  {
   "cell_type": "code",
   "execution_count": 50,
   "id": "a11cc22da717f3f",
   "metadata": {
    "ExecuteTime": {
     "end_time": "2025-09-09T08:14:09.252777Z",
     "start_time": "2025-09-09T08:14:09.247199Z"
    }
   },
   "outputs": [
    {
     "name": "stdout",
     "output_type": "stream",
     "text": [
      "12:30\n"
     ]
    }
   ],
   "source": [
    "formatted_time = lunch_time.strftime(\"%H:%M\")\n",
    "print(formatted_time)  # 输出: 12:30"
   ]
  },
  {
   "cell_type": "markdown",
   "id": "912b2e9e0e8c10ab",
   "metadata": {},
   "source": [
    "*   **`.replace(hour=None, minute=None, second=None, microsecond=None)`**：返回一个新的 `time` 对象，其中指定的字段被替换，未指定的字段保持不变。"
   ]
  },
  {
   "cell_type": "code",
   "execution_count": 52,
   "id": "27a093cbd4d02d3f",
   "metadata": {
    "ExecuteTime": {
     "end_time": "2025-09-09T08:15:57.678422Z",
     "start_time": "2025-09-09T08:15:57.672227Z"
    }
   },
   "outputs": [],
   "source": [
    "later_time = lunch_time.replace(hour = 13)"
   ]
  },
  {
   "cell_type": "markdown",
   "id": "5077ae91ddd397a3",
   "metadata": {},
   "source": [
    "## **4. `datetime` 类：处理日期和时间（最常用）**\n",
    "*   **用途**：表示一个特定的时刻，包含日期（年、月、日）和时间（时、分、秒、微秒）信息。默认不包含时区信息 (`naive`)。\n",
    "*   **创建 `datetime` 对象：**\n",
    "    *   **构造函数：** `datetime.datetime(year, month, day, hour=0, minute=0, second=0, microsecond=0)`\n",
    "        *   前三个参数（年、月、日）是必需的。\n",
    "        *   时间部分参数是可选的，默认为 0。\n"
   ]
  },
  {
   "cell_type": "code",
   "execution_count": 54,
   "id": "e16af9264a4afc75",
   "metadata": {
    "ExecuteTime": {
     "end_time": "2025-09-09T08:17:28.500193Z",
     "start_time": "2025-09-09T08:17:28.493892Z"
    }
   },
   "outputs": [
    {
     "name": "stdout",
     "output_type": "stream",
     "text": [
      "2024-01-01 00:00:00\n"
     ]
    }
   ],
   "source": [
    "import datetime\n",
    "new_year = datetime.datetime(2024, 1, 1, 0, 0, 0)  # 2024年1月1日 00:00:00\n",
    "print(new_year)"
   ]
  },
  {
   "cell_type": "code",
   "execution_count": null,
   "id": "d30ee1865b37df8b",
   "metadata": {},
   "outputs": [],
   "source": []
  }
 ],
 "metadata": {
  "kernelspec": {
   "display_name": ".venv (3.13.6)",
   "language": "python",
   "name": "python3"
  },
  "language_info": {
   "codemirror_mode": {
    "name": "ipython",
    "version": 3
   },
   "file_extension": ".py",
   "mimetype": "text/x-python",
   "name": "python",
   "nbconvert_exporter": "python",
   "pygments_lexer": "ipython3",
   "version": "3.13.6"
  }
 },
 "nbformat": 4,
 "nbformat_minor": 5
}

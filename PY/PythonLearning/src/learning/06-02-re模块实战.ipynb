{
  "cells": [
    {
      "cell_type": "markdown",
      "metadata": {},
      "source": [
        "以下是**第二阶段：Python re模块实战**的硬核详解，包含函数解析、分组技巧和性能优化，直接上代码实战👇\n",
        "\n",
        "---\n",
        "\n",
        "### **第二阶段：Python re模块实战**\n",
        "#### **1. 核心函数深度解析**\n"
      ]
    },
    {
      "cell_type": "code",
      "execution_count": 5,
      "metadata": {},
      "outputs": [],
      "source": [
        "import re\n",
        "text = \"Contact: service-user.one+@domain.com, phone: 400-800-1234\"\n"
      ]
    },
    {
      "cell_type": "markdown",
      "metadata": {},
      "source": [
        "\n",
        "| 函数 | 作用 | 典型场景 | 代码示例 | 返回值 |\n",
        "|------|------|----------|----------|--------|\n",
        "| **`re.match()`** | **从字符串开头匹配** | 验证格式 | `re.match(r\"^Contact\", text)` | 匹配对象（成功）或None |\n",
        "| **`re.search()`** | **扫描整个字符串找第一个匹配** | 提取首个关键信息 | `re.search(r\"\\d{3}-\\d{3}-\\d{4}\", text)` | 匹配对象（含电话号码） |\n",
        "| **`re.findall()`** | **返回所有匹配的字符串列表** | 批量提取数据 | `re.findall(r\"\\w+@\\w+\\.\\w+\", text)` | `['service@domain.com']` |\n",
        "| **`re.finditer()`** | **返回匹配对象的迭代器** | 处理大文本时节省内存 | `for match in re.finditer(r\"\\d+\", text): print(match.group())` | 迭代输出 `400`, `800`, `1234` |\n",
        "| **`re.sub()`** | **替换匹配内容** | 数据脱敏/格式化 | `re.sub(r\"\\d\", \"#\", text)` | \"Contact: service@domain.com, phone: ###-###-####\" |\n",
        "\n",
        "> 💡 **关键区别**：  \n",
        "> - `match`只在**行首**匹配，`search`扫描**整个字符串**  \n",
        "> - `findall`返回字符串列表，`finditer`返回匹配对象（可获取位置）\n",
        "\n",
        "---\n",
        "\n",
        "#### **2. 编译正则表达式（re.compile）**\n",
        "**为什么编译？**  \n",
        "- 重复使用同一正则时**提升性能**（减少重复解析）  \n",
        "- 代码更清晰（分离模式定义与使用）\n",
        "\n"
      ]
    },
    {
      "cell_type": "code",
      "execution_count": null,
      "metadata": {},
      "outputs": [
        {
          "name": "stdout",
          "output_type": "stream",
          "text": [
            "['service-user.one+@domain.com']\n"
          ]
        }
      ],
      "source": [
        "# 编译一个匹配邮箱的正则\n",
        "email_pattern = re.compile(r\"\\b[A-Za-z0-9._%+-]+@[A-Za-z0-9.-]+\\.[A-Z|a-z]{2,}\\b\")\n",
        "# 复用编译后的对象\n",
        "emails = email_pattern.findall(text)   # 直接调用方法\n",
        "print(emails)"
      ]
    },
    {
      "cell_type": "markdown",
      "metadata": {},
      "source": [
        "\n",
        "---\n",
        "\n",
        "#### **3. 分组捕获 - 提取子内容**\n",
        "\n",
        "在正则表达式中，**分组捕获**是一个非常实用的功能，它允许你从匹配的文本中**提取特定的子内容**（而不是整个匹配结果）。通过用 `()` 包裹正则的一部分，就能创建一个\"分组\"，之后可以单独获取这个分组匹配的内容。\n",
        "\n",
        "\n",
        "### 基本用法：用 `()` 创建分组\n",
        "- 语法：`(表达式)` —— 括号内的部分会被视为一个分组\n",
        "- 作用：除了整体匹配外，还会单独记录该分组匹配的内容"
      ]
    },
    {
      "cell_type": "markdown",
      "metadata": {},
      "source": [
        "##### 3.11 示例1：提取邮箱地址中的用户名和域名\n",
        "假设我们想从邮箱 `user@example.com` 中分别提取 **用户名（user）** 和 **域名（example.com）**："
      ]
    },
    {
      "cell_type": "code",
      "execution_count": 10,
      "metadata": {},
      "outputs": [
        {
          "name": "stdout",
          "output_type": "stream",
          "text": [
            "user@example.com\n",
            "user\n",
            "example.com\n"
          ]
        }
      ],
      "source": [
        "email = \"user@example.com\"\n",
        "pattern = re.compile(r\"(\\w+)@(\\w.+)\")\n",
        "match =pattern.match(email)\n",
        "if match:\n",
        "    print(match.group(0))\n",
        "    print(match.group(1))\n",
        "    print(match.group(2))"
      ]
    },
    {
      "cell_type": "markdown",
      "metadata": {},
      "source": [
        "### 3.12 示例2：提取日期中的年、月、日\n",
        "从日期字符串 `2023-10-05` 中提取年、月、日："
      ]
    },
    {
      "cell_type": "code",
      "execution_count": 32,
      "metadata": {},
      "outputs": [
        {
          "name": "stdout",
          "output_type": "stream",
          "text": [
            "date: 2025-09-13\n",
            "年： 2025\n",
            "月： 09\n",
            "日： 13\n"
          ]
        }
      ],
      "source": [
        "import re\n",
        "date = \"2025-09-13\"\n",
        "# 三个分组分别对应年、月、日\n",
        "pattern = re.compile(r\"(\\d{4})-(\\d{2})-(\\d{2})\")\n",
        "match = pattern.match(date)\n",
        "if match:\n",
        "    print(\"date:\",match.group(0))\n",
        "    print(\"年：\", match.group(1))  # 2023\n",
        "    print(\"月：\", match.group(2))  # 10\n",
        "    print(\"日：\", match.group(3))  # 05"
      ]
    },
    {
      "cell_type": "markdown",
      "metadata": {},
      "source": [
        "#### 关键方法：\n",
        "- `match.group(n)`：获取第 `n` 个分组的内容（`n=0` 表示整个匹配，`n=1` 开始是第一个分组）\n",
        "- `match.groups()`：返回所有分组内容的元组（不包含整体匹配）"
      ]
    },
    {
      "cell_type": "markdown",
      "metadata": {},
      "source": [
        "### 3.13 命名分组：更清晰的提取方式\n",
        "如果分组较多，用数字（1,2,3）可能容易混淆，可以给分组起名字：\n",
        "\n",
        "- 语法：`(?P<名称>表达式)` —— 给分组命名\n",
        "- 提取：`match.group(\"名称\")`"
      ]
    },
    {
      "cell_type": "markdown",
      "metadata": {},
      "source": [
        "\n",
        "**命名分组** `(?P<name>)` （更易读！）  \n"
      ]
    },
    {
      "cell_type": "code",
      "execution_count": null,
      "metadata": {},
      "outputs": [
        {
          "name": "stdout",
          "output_type": "stream",
          "text": [
            "400\n",
            "{'area': '400', 'number': '800-1234'}\n"
          ]
        }
      ],
      "source": [
        "match = re.search(r\"(?P<area>\\d{3})-(?P<number>\\d{3}-\\d{4})\", text)\n",
        "if match:\n",
        "    print(match.group(\"area\"))   # 400\n",
        "    print(match.groupdict())      # {'area': '400', 'number': '800-1234'}"
      ]
    },
    {
      "cell_type": "markdown",
      "metadata": {},
      "source": [
        "\n",
        "**非捕获分组** `(?: )` （只分组不捕获）  \n"
      ]
    },
    {
      "cell_type": "code",
      "execution_count": 20,
      "metadata": {},
      "outputs": [
        {
          "data": {
            "text/plain": [
              "[('2023', '10', '01'), ('2023', '10', '02')]"
            ]
          },
          "execution_count": 20,
          "metadata": {},
          "output_type": "execute_result"
        }
      ],
      "source": [
        "# 匹配日期但不捕获分隔符\n",
        "re.findall(r\"(\\d{4})(?:-|/)(\\d{2})(?:-|/)(\\d{2})\", \"2023-10-01 2023/10/02\")\n",
        "# 输出: [('2023', '10', '01'), ('2023', '10', '02')]"
      ]
    },
    {
      "cell_type": "markdown",
      "metadata": {},
      "source": [
        "\n",
        "---\n",
        "\n",
        "### **⚡ 实战代码实验室**\n",
        "#### 练习1：数据提取(这里的匹配IP要用一个非贪婪模式，即一旦匹配到IP就停下来)\n"
      ]
    },
    {
      "cell_type": "code",
      "execution_count": 21,
      "metadata": {},
      "outputs": [
        {
          "name": "stdout",
          "output_type": "stream",
          "text": [
            "Level: ERROR, Time: 2023-10-01 14:30:22, IP: 192.168.1.1\n"
          ]
        }
      ],
      "source": [
        "log = \"[ERROR] 2023-10-01 14:30:22 - Connection timeout at 192.168.1.1\"\n",
        "# 提取日志级别、时间戳、IP地址\n",
        "pattern = re.compile(r\"\\[(\\w+)\\] (\\d{4}-\\d{2}-\\d{2} \\d{2}:\\d{2}:\\d{2}) .*? (\\d+\\.\\d+\\.\\d+\\.\\d+)\")\n",
        "match = pattern.search(log)\n",
        "\n",
        "if match:\n",
        "    print(f\"Level: {match.group(1)}, Time: {match.group(2)}, IP: {match.group(3)}\")\n",
        "# 输出: Level: ERROR, Time: 2023-10-01 14:30:22, IP: 192.168.1.1\n"
      ]
    },
    {
      "cell_type": "markdown",
      "metadata": {},
      "source": [
        "\n",
        "#### 练习2：复杂替换\n"
      ]
    },
    {
      "cell_type": "code",
      "execution_count": 27,
      "metadata": {},
      "outputs": [
        {
          "name": "stdout",
          "output_type": "stream",
          "text": [
            "See <a href=\"https://docs.python.org\">Python文档</a> 或者 <a href=\" https://realpython.com\">访问这里</a>\n"
          ]
        }
      ],
      "source": [
        "import re\n",
        "# 将Markdown链接转为HTML标签\n",
        "md_text = \"See [Python文档](https://docs.python.org) 或者 [访问这里]( https://realpython.com)\"\n",
        "html_text = re.sub(\n",
        "    r\"\\[(.*?)\\]\\((.*?)\\)\", \n",
        "    r'<a href=\"\\2\">\\1</a>', \n",
        "    md_text\n",
        ")\n",
        "print(html_text)\n",
        "# 输出: See <a href=\"https://docs.python.org\">document</a> and ...\n"
      ]
    },
    {
      "cell_type": "markdown",
      "metadata": {},
      "source": [
        "### **💡 避坑指南**\n",
        "1. **`match` vs `search` 陷阱**  "
      ]
    },
    {
      "cell_type": "code",
      "execution_count": 23,
      "metadata": {},
      "outputs": [
        {
          "data": {
            "text/plain": [
              "<re.Match object; span=(5, 10), match='phone'>"
            ]
          },
          "execution_count": 23,
          "metadata": {},
          "output_type": "execute_result"
        }
      ],
      "source": [
        "# 失败：match必须从开头匹配\n",
        "re.match(r\"phone\", \"This phone is\")  # None\n",
        "# 成功：search可匹配任意位置\n",
        "re.search(r\"phone\", \"This phone is\") # 匹配"
      ]
    },
    {
      "cell_type": "markdown",
      "metadata": {},
      "source": [
        "1. **贪婪匹配的灾难** "
      ]
    },
    {
      "cell_type": "code",
      "execution_count": 24,
      "metadata": {},
      "outputs": [
        {
          "data": {
            "text/plain": [
              "['<div>A</div>', '<div>B</div>']"
            ]
          },
          "execution_count": 24,
          "metadata": {},
          "output_type": "execute_result"
        }
      ],
      "source": [
        "# 错误：贪婪匹配吞掉整个字符串\n",
        "re.findall(r\"<div>.*</div>\", \"<div>A</div>...<div>B</div>\") \n",
        "# 输出: ['<div>A</div>...<div>B</div>'] (一整块)\n",
        "\n",
        "# 修正：非贪婪模式\n",
        "re.findall(r\"<div>.*?</div>\", \"<div>A</div>...<div>B</div>\")\n",
        "# 输出: ['<div>A</div>', '<div>B</div>']"
      ]
    },
    {
      "cell_type": "markdown",
      "metadata": {},
      "source": [
        "2. **原始字符串强制建议**  "
      ]
    },
    {
      "cell_type": "code",
      "execution_count": null,
      "metadata": {},
      "outputs": [],
      "source": [
        "# 错误：Python会把 \\b 解释为退格符\n",
        "re.findall(\"\\bword\\b\", text)  # 永远匹配不到！\n",
        "\n",
        "# 正确：用 r 前缀\n",
        "re.findall(r\"\\bword\\b\", text)"
      ]
    },
    {
      "cell_type": "markdown",
      "metadata": {},
      "source": [
        "### **📌 第二阶段任务**\n",
        "1. 用`re.search`+分组提取`\"姓名: 张三, 年龄: 30\"`中的姓名和年龄  \n",
        "2. 用`re.sub`将`\"价格: $19.99, 折扣: 5%\"`中的价格替换为`[PRICE]`，折扣替换为`[DISCOUNT]`  \n",
        "3. 编写正则匹配并捕获`<img src=\"image.jpg\" alt=\"logo\">`中的src和alt属性值  \n",
        "4. （挑战）用命名分组解析日志：`\"127.0.0.1 - - [01/Oct/2023:15:30:22] GET /index.html\"`\n",
        "\n",
        "---\n",
        "\n",
        "### **性能提示**\n"
      ]
    },
    {
      "cell_type": "code",
      "execution_count": 31,
      "metadata": {},
      "outputs": [
        {
          "name": "stdout",
          "output_type": "stream",
          "text": [
            "1\n",
            "-----\n",
            "['1']\n",
            "2\n",
            "-----\n",
            "['2']\n",
            "3\n",
            "-----\n",
            "['3']\n",
            "2\n",
            "-----\n",
            "['2']\n",
            "4\n",
            "-----\n",
            "['4']\n",
            "3\n",
            "-----\n",
            "['3']\n",
            "4\n",
            "-----\n",
            "['4']\n",
            "2\n",
            "-----\n",
            "['2']\n"
          ]
        }
      ],
      "source": [
        "# 在循环中务必预编译！\n",
        "pattern = re.compile(r\"\\d+\")  # ✅ 高效\n",
        "big_data_list = \"12324342\"\n",
        "for data in big_data_list:\n",
        "    # 错误：每次循环重新编译 ❌\n",
        "    # re.findall(r\"\\d+\", data)  \n",
        "    print(data)\n",
        "    print(\"-----\")\n",
        "    # 正确：使用编译后的对象 ✅\n",
        "    print(pattern.findall(data))\n",
        "    "
      ]
    },
    {
      "cell_type": "code",
      "execution_count": null,
      "metadata": {},
      "outputs": [],
      "source": []
    }
  ],
  "metadata": {
    "kernelspec": {
      "display_name": ".venv (3.13.6)",
      "language": "python",
      "name": "python3"
    },
    "language_info": {
      "codemirror_mode": {
        "name": "ipython",
        "version": 3
      },
      "file_extension": ".py",
      "mimetype": "text/x-python",
      "name": "python",
      "nbconvert_exporter": "python",
      "pygments_lexer": "ipython3",
      "version": "3.13.6"
    }
  },
  "nbformat": 4,
  "nbformat_minor": 4
}

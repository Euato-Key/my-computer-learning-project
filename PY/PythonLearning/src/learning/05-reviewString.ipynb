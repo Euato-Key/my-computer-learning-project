{
 "cells": [
  {
   "cell_type": "markdown",
   "id": "6bd2deb2",
   "metadata": {},
   "source": [
    "### **阶段一：基础入门**\n",
    "\n",
    "#### **1. 字符串的创建与引号的使用**\n",
    "字符串是由零个或多个字符组成的序列，可以用四种引号来定义。\n",
    "\n",
    "*   **单引号 `' '`**"
   ]
  },
  {
   "cell_type": "code",
   "execution_count": 1,
   "id": "76c4cc6e",
   "metadata": {},
   "outputs": [
    {
     "name": "stdout",
     "output_type": "stream",
     "text": [
      "Hello, World!\n"
     ]
    }
   ],
   "source": [
    "greeting = 'Hello, World!'\n",
    "print(greeting)"
   ]
  },
  {
   "cell_type": "markdown",
   "id": "142978db",
   "metadata": {},
   "source": [
    "*   **双引号 `\" \"`**"
   ]
  },
  {
   "cell_type": "code",
   "execution_count": 3,
   "id": "f8ee0c7d",
   "metadata": {},
   "outputs": [
    {
     "name": "stdout",
     "output_type": "stream",
     "text": [
      "Hello, World!\n"
     ]
    }
   ],
   "source": [
    "greeting = \"Hello, World!\"\n",
    "print(greeting)"
   ]
  },
  {
   "cell_type": "markdown",
   "id": "be8472cf",
   "metadata": {},
   "source": [
    "**为什么有两种？** 主要是为了方便在字符串中包含引号本身，而无需使用转义字符。"
   ]
  },
  {
   "cell_type": "code",
   "execution_count": 4,
   "id": "1e086b89",
   "metadata": {},
   "outputs": [
    {
     "name": "stdout",
     "output_type": "stream",
     "text": [
      "He said, 'Python is awesome!'\n",
      "She replied, \"I know, right!\"\n"
     ]
    }
   ],
   "source": [
    "sentence1 = \"He said, 'Python is awesome!'\" # 双引号包裹，内部可放单引号\n",
    "sentence2 = 'She replied, \"I know, right!\"' # 单引号包裹，内部可放双引号\n",
    "print(sentence1)\n",
    "print(sentence2)"
   ]
  },
  {
   "cell_type": "markdown",
   "id": "778bc3fa",
   "metadata": {},
   "source": [
    "*   **三引号 `''' '''` 或 `\"\"\" \"\"\"`**\n",
    "    三引号有两个主要用途：\n",
    "    1.  **创建多行字符串（块字符串）**：它会保留字符串中的所有格式，包括换行符和空格。"
   ]
  },
  {
   "cell_type": "code",
   "execution_count": 5,
   "id": "82322075",
   "metadata": {},
   "outputs": [
    {
     "name": "stdout",
     "output_type": "stream",
     "text": [
      "\n",
      "这是第一行\n",
      "这是第二行\n",
      "    这是第三行\n",
      "\n"
     ]
    }
   ],
   "source": [
    "multi_line_text= '''\n",
    "这是第一行\n",
    "这是第二行\n",
    "    这是第三行\n",
    "'''\n",
    "print(multi_line_text)"
   ]
  },
  {
   "cell_type": "markdown",
   "id": "dea410fd",
   "metadata": {},
   "source": [
    "2.  **作为多行注释**：在代码中，如果用三引号包裹一段文字但不将其赋值给任何变量，Python解释器会忽略它，因此常被用作多行注释。"
   ]
  },
  {
   "cell_type": "code",
   "execution_count": 6,
   "id": "2f45e970",
   "metadata": {},
   "outputs": [],
   "source": [
    "'''\n",
    "这是一个函数，用于计算圆的面积。\n",
    "参数: radius (半径)\n",
    "返回值: area (面积)\n",
    "'''\n",
    "def calculate_area(radius):\n",
    "    return 3.14 * radius * radius"
   ]
  },
  {
   "cell_type": "markdown",
   "id": "692eaa8f",
   "metadata": {},
   "source": [
    "#### **2. 转义字符 (Escape Characters)**\n",
    "\n",
    "有时我们需要在字符串中包含一些特殊字符，比如在单引号定义的字符串里再放一个单引号。这时就需要**转义字符**——反斜杠 `\\`。它会让其后面的字符失去本来的含义，转变为字符串中的普通字符。\n",
    "\n",
    "| 转义字符 | 含义           | 示例                 | 输出结果           |\n",
    "| :------------- | :--------------- | :--------------------- | :----------------- |\n",
    "| `\\\\`           | 反斜杠符号       | `\"C:\\\\Users\"`        | `C:\\Users`        |\n",
    "| `\\'`           | 单引号           | `'It\\'s me'`         | `It's me`         |\n",
    "| `\\\"`           | 双引号           | `\"He said, \\\"Hi!\\\"\"` | `He said, \"Hi!\"`  |\n",
    "| `\\n`           | 换行             | `\"Line 1\\nLine 2\"`   | `Line 1`(换行)`Line 2` |\n",
    "| `\\t`           | 制表符（Tab）    | `\"Name:\\tAlice\"`     | `Name:   Alice`   |\n"
   ]
  },
  {
   "cell_type": "markdown",
   "id": "b3cbbb84",
   "metadata": {},
   "source": [
    "**重要概念：原始字符串 (Raw Strings)**\n",
    "在字符串引号前加一个 `r` 或 `R` 前缀，表示这是一个原始字符串，其中的所有字符都保持本来的样子，**转义字符将失效**。这在处理Windows文件路径和正则表达式时极其有用。"
   ]
  },
  {
   "cell_type": "code",
   "execution_count": 7,
   "id": "bc0351bb",
   "metadata": {},
   "outputs": [
    {
     "name": "stdout",
     "output_type": "stream",
     "text": [
      "普通字符串： C:\\Users\\Name\\Documents\n",
      "原始字符串： C:\\Users\\Name\\Documents\n"
     ]
    }
   ],
   "source": [
    "# 普通字符串，需要转义\n",
    "normal_path = \"C:\\\\Users\\\\Name\\\\Documents\"\n",
    "# 原始字符串，无需转义\n",
    "raw_path = r\"C:\\Users\\Name\\Documents\" \n",
    "\n",
    "print('普通字符串：',normal_path)\n",
    "print('原始字符串：',raw_path)"
   ]
  },
  {
   "cell_type": "markdown",
   "id": "cdbad20b",
   "metadata": {},
   "source": [
    "#### **3. 字符串索引与切片**\n",
    "\n",
    "字符串是**序列（Sequence）**，其中的每个字符都有其对应的位置编号，即**索引（Index）**。\n",
    "\n",
    "*   **索引 (Indexing)**：通过 `[ ]` 来访问单个字符。\n",
    "    *   **正向索引**：从**左边**开始，**第一个字符的索引是 `0`**，第二个是 `1`，以此类推。\n",
    "    *   **负向索引**：从**右边**开始，**最后一个字符的索引是 `-1`**，倒数第二个是 `-2`，以此类推。"
   ]
  },
  {
   "cell_type": "code",
   "execution_count": 8,
   "id": "b281bd8c",
   "metadata": {},
   "outputs": [
    {
     "name": "stdout",
     "output_type": "stream",
     "text": [
      "P\n",
      "h\n",
      "n\n",
      "h\n"
     ]
    }
   ],
   "source": [
    "s = \"Python\"\n",
    "# 正向索引:  P(0)  y(1)  t(2)  h(3)  o(4)  n(5)\n",
    "# 负向索引:  P(-6) y(-5) t(-4) h(-3) o(-2) n(-1)\n",
    "print(s[0])   # 输出: 'P'\n",
    "print(s[3])   # 输出: 'h'\n",
    "print(s[-1])  # 输出: 'n' (最后一个字符)\n",
    "print(s[-3])  # 输出: 'h' (倒数第三个字符)"
   ]
  },
  {
   "cell_type": "markdown",
   "id": "8d00c71e",
   "metadata": {},
   "source": [
    "*   **切片 (Slicing)**：通过 `[start:stop:step]` 来访问一个子字符串。**切片遵循“左闭右开”原则**，即包含起始索引，不包含结束索引。\n",
    "    *   `start`：起始索引（默认为0）。\n",
    "    *   `stop`：结束索引（**不包含**该索引对应的字符，默认为字符串长度）。\n",
    "    *   `step`：步长（默认为1）。**步长为负时，表示从右向左切片**。"
   ]
  },
  {
   "cell_type": "code",
   "execution_count": 9,
   "id": "66976052",
   "metadata": {},
   "outputs": [
    {
     "name": "stdout",
     "output_type": "stream",
     "text": [
      "Hello\n",
      "Hello\n",
      "World\n",
      "Hlool\n",
      "dlroWolleH\n",
      "Wolle\n"
     ]
    }
   ],
   "source": [
    "s = \"HelloWorld\"\n",
    "print(s[0:5])    # 从索引0开始，到索引5（不含）结束 -> \"Hello\"\n",
    "print(s[:5])     #  start省略，从头开始 -> \"Hello\"\n",
    "print(s[5:])     #  stop省略，直到末尾 -> \"World\"\n",
    "print(s[::2])    #  从头到尾，步长为2 -> \"Hlool\"\n",
    "print(s[::-1])   #  步长为-1，实现字符串反转 -> \"dlroWolleH\"\n",
    "print(s[5:0:-1]) #  从索引5开始，反向切到索引0（不含）-> \"Woll\""
   ]
  },
  {
   "cell_type": "markdown",
   "id": "d4873552",
   "metadata": {},
   "source": [
    "**动手练习 3**：\n",
    "1.  对于字符串 `s = \"Programming\"`，写出能切出以下子串的切片表达式：\n",
    "    *   \"Program\"\n",
    "    *   \"ming\"\n",
    "    *   \"gnimmargorP\" (反转)\n",
    "2.  尝试访问 `s[20]`，看看会发生什么？（理解“索引越界”错误）"
   ]
  },
  {
   "cell_type": "code",
   "execution_count": 10,
   "id": "8ad32ed6",
   "metadata": {},
   "outputs": [
    {
     "name": "stdout",
     "output_type": "stream",
     "text": [
      "Program\n"
     ]
    }
   ],
   "source": [
    "S = \"Programming\"\n",
    "print(S[0:7])"
   ]
  },
  {
   "cell_type": "code",
   "execution_count": 11,
   "id": "a257392a",
   "metadata": {},
   "outputs": [
    {
     "name": "stdout",
     "output_type": "stream",
     "text": [
      "ming\n"
     ]
    }
   ],
   "source": [
    "print(S[7:])"
   ]
  },
  {
   "cell_type": "code",
   "execution_count": 12,
   "id": "fe17a438",
   "metadata": {},
   "outputs": [
    {
     "name": "stdout",
     "output_type": "stream",
     "text": [
      "gnimmargorP\n"
     ]
    }
   ],
   "source": [
    "print(S[::-1])"
   ]
  },
  {
   "cell_type": "markdown",
   "id": "f8b2456b",
   "metadata": {},
   "source": [
    "### **阶段二：核心操作与方法**\n",
    "\n",
    "#### **核心学习心态**\n",
    "记住，字符串是**不可变**的。所有这些方法都**不会改变原字符串**，而是**返回一个新的字符串**。"
   ]
  },
  {
   "cell_type": "code",
   "execution_count": 27,
   "id": "0cbb8391",
   "metadata": {},
   "outputs": [
    {
     "name": "stdout",
     "output_type": "stream",
     "text": [
      "hello\n",
      "HELLO\n"
     ]
    }
   ],
   "source": [
    "s = \"hello\"\n",
    "new_s = s.upper()\n",
    "\n",
    "print(s)      # 输出: \"hello\" (原字符串丝毫未变)\n",
    "print(new_s)  # 输出: \"HELLO\" (返回了一个新的字符串)"
   ]
  },
  {
   "cell_type": "markdown",
   "id": "d686c411",
   "metadata": {},
   "source": [
    "#### **1. 大小写转换**\n",
    "\n",
    "这些方法用于改变字符串中字母的大小写，常用于规范化用户输入或进行比较。\n",
    "\n",
    "*   `upper()`: 将所有字符转换为大写。\n",
    "*   `lower()`: 将所有字符转换为小写。\n",
    "*   `title()`: 将每个单词的首字母转换为大写，其余为小写。\n",
    "*   `capitalize()`: 将整个字符串的首字母转换为大写，其余为小写。\n",
    "*   `swapcase()`: 交换字符串中所有字母的大小写。"
   ]
  },
  {
   "cell_type": "code",
   "execution_count": 28,
   "id": "5a36c73c",
   "metadata": {},
   "outputs": [
    {
     "name": "stdout",
     "output_type": "stream",
     "text": [
      "PYTHON PROGRAMMING IS FUN!\n"
     ]
    }
   ],
   "source": [
    "text = \"python programming is FUN!\"\n",
    "print(text.upper())"
   ]
  },
  {
   "cell_type": "code",
   "execution_count": 30,
   "id": "1e963000",
   "metadata": {},
   "outputs": [
    {
     "name": "stdout",
     "output_type": "stream",
     "text": [
      "python programming is fun!\n"
     ]
    }
   ],
   "source": [
    "print(text.lower())"
   ]
  },
  {
   "cell_type": "code",
   "execution_count": 31,
   "id": "f64f64ab",
   "metadata": {},
   "outputs": [
    {
     "name": "stdout",
     "output_type": "stream",
     "text": [
      "Python Programming Is Fun!\n"
     ]
    }
   ],
   "source": [
    "print(text.title())"
   ]
  },
  {
   "cell_type": "code",
   "execution_count": 32,
   "id": "3ea593c0",
   "metadata": {},
   "outputs": [
    {
     "name": "stdout",
     "output_type": "stream",
     "text": [
      "Python programming is fun!\n"
     ]
    }
   ],
   "source": [
    "print(text.capitalize())"
   ]
  },
  {
   "cell_type": "code",
   "execution_count": 33,
   "id": "2e9e40aa",
   "metadata": {},
   "outputs": [
    {
     "name": "stdout",
     "output_type": "stream",
     "text": [
      "PYTHON PROGRAMMING IS fun!\n"
     ]
    }
   ],
   "source": [
    "print(text.swapcase())"
   ]
  },
  {
   "cell_type": "markdown",
   "id": "4fe96743",
   "metadata": {},
   "source": [
    "**典型应用场景**：在比较用户输入时，忽略大小写差异。"
   ]
  },
  {
   "cell_type": "code",
   "execution_count": 34,
   "id": "c1e3320b",
   "metadata": {},
   "outputs": [
    {
     "name": "stdout",
     "output_type": "stream",
     "text": [
      "Agreed!\n"
     ]
    }
   ],
   "source": [
    "user_input = \"YES\"\n",
    "if user_input.lower() == \"yes\": # 先将输入转为小写再比较\n",
    "    print(\"Agreed!\")"
   ]
  },
  {
   "cell_type": "markdown",
   "id": "41a52c97",
   "metadata": {},
   "source": [
    "#### **2. 查找与替换**\n",
    "\n",
    "这些方法用于在字符串中搜索子串或进行替换操作。\n",
    "\n",
    "*   `find(substring)`: 返回子串第一次出现的**索引**。如果未找到，返回 `-1`。\n",
    "*   `index(substring)`: 功能与 `find()` 相同，但如果未找到，会抛出 `ValueError` 异常。\n",
    "*   `rfind(substring)`: 从右边开始查找，返回第一次出现的索引。\n",
    "*   `count(substring)`: 返回子串在字符串中出现的**次数**。\n",
    "*   `replace(old, new[, count])`: 将字符串中的 `old` 子串替换为 `new` 子串。`count` 可选，指定替换次数（默认替换所有）。"
   ]
  },
  {
   "cell_type": "code",
   "execution_count": 39,
   "id": "34bcfdd2",
   "metadata": {},
   "outputs": [
    {
     "name": "stdout",
     "output_type": "stream",
     "text": [
      "To is in sentence!\n"
     ]
    }
   ],
   "source": [
    "sentence = \"To be or not to be, that is the question.\"\n",
    "if sentence.find(\"To\")>=0:\n",
    "    print(\"To is in sentence!\" )\n",
    "else:\n",
    "    print(\"NO\")"
   ]
  },
  {
   "cell_type": "code",
   "execution_count": 41,
   "id": "8ae2097e",
   "metadata": {},
   "outputs": [
    {
     "name": "stdout",
     "output_type": "stream",
     "text": [
      "3\n"
     ]
    }
   ],
   "source": [
    "print(sentence.index(\"be\"))"
   ]
  },
  {
   "cell_type": "code",
   "execution_count": 42,
   "id": "7246658c",
   "metadata": {},
   "outputs": [
    {
     "ename": "ValueError",
     "evalue": "substring not found",
     "output_type": "error",
     "traceback": [
      "\u001b[31m---------------------------------------------------------------------------\u001b[39m",
      "\u001b[31mValueError\u001b[39m                                Traceback (most recent call last)",
      "\u001b[36mCell\u001b[39m\u001b[36m \u001b[39m\u001b[32mIn[42]\u001b[39m\u001b[32m, line 1\u001b[39m\n\u001b[32m----> \u001b[39m\u001b[32m1\u001b[39m \u001b[38;5;28mprint\u001b[39m(\u001b[43msentence\u001b[49m\u001b[43m.\u001b[49m\u001b[43mindex\u001b[49m\u001b[43m(\u001b[49m\u001b[33;43m\"\u001b[39;49m\u001b[33;43m喜喜\u001b[39;49m\u001b[33;43m\"\u001b[39;49m\u001b[43m)\u001b[49m)\n",
      "\u001b[31mValueError\u001b[39m: substring not found"
     ]
    }
   ],
   "source": [
    "print(sentence.index(\"喜喜\"))"
   ]
  },
  {
   "cell_type": "code",
   "execution_count": 43,
   "id": "c3ef4c95",
   "metadata": {},
   "outputs": [
    {
     "name": "stdout",
     "output_type": "stream",
     "text": [
      "16\n",
      "3\n"
     ]
    }
   ],
   "source": [
    "print(sentence.rfind(\"be\"))\n",
    "print(sentence.find(\"be\"))"
   ]
  },
  {
   "cell_type": "code",
   "execution_count": 44,
   "id": "e1007b92",
   "metadata": {},
   "outputs": [
    {
     "name": "stdout",
     "output_type": "stream",
     "text": [
      "2\n"
     ]
    }
   ],
   "source": [
    "print(sentence.count(\"be\"))"
   ]
  },
  {
   "cell_type": "code",
   "execution_count": 47,
   "id": "c14672d8",
   "metadata": {},
   "outputs": [
    {
     "name": "stdout",
     "output_type": "stream",
     "text": [
      "To Be or not to Be, that is the question.\n",
      "To-be-or-not to be, that is the question.\n"
     ]
    }
   ],
   "source": [
    "print(sentence.replace(\"be\",\"Be\"))\n",
    "print(sentence.replace(\" \",\"-\",3))"
   ]
  },
  {
   "cell_type": "markdown",
   "id": "c2ceae00",
   "metadata": {},
   "source": [
    "**`find` vs `index`**： 如果你不确定子串是否存在，使用 `find()` 更安全，因为它不会导致程序崩溃。"
   ]
  },
  {
   "cell_type": "markdown",
   "id": "2a4a0241",
   "metadata": {},
   "source": [
    "#### **3. 字符串判断（非常重要）**\n",
    "\n",
    "这些方法返回 `True` 或 `False`，常用于验证用户输入的数据格式。\n",
    "\n",
    "*   `startswith(prefix)`: 检查字符串是否以指定前缀开头。\n",
    "*   `endswith(suffix)`: 检查字符串是否以指定后缀结尾。\n",
    "*   `isalpha()`: 检查字符串是否**全部由字母**组成（中文也算字母）。\n",
    "*   `isdigit()`: 检查字符串是否**全部由数字**组成。\n",
    "*   `isalnum()`: 检查字符串是否**由字母和数字**组成。\n",
    "*   `isspace()`: 检查字符串是否**只包含空白字符**（空格、换行、制表符等）。"
   ]
  },
  {
   "cell_type": "code",
   "execution_count": null,
   "id": "6f2ed92f",
   "metadata": {},
   "outputs": [],
   "source": [
    "filename = \"document.pdf\"\n",
    "print(filename.endswith(\".pdf\"))  # True\n",
    "code = \"ABC123\"\n",
    "print(code.isalnum())            # True\n",
    "print(code.isalpha())            # False (因为包含数字)\n",
    "user_input = \"   \\t\\n  \"\n",
    "print(user_input.isspace())      # True\n",
    "phone = \"123-456-7890\"\n",
    "print(phone.isdigit())           # False (因为包含'-')\n",
    "\n"
   ]
  },
  {
   "cell_type": "code",
   "execution_count": 50,
   "id": "d47b33d4",
   "metadata": {},
   "outputs": [
    {
     "name": "stdout",
     "output_type": "stream",
     "text": [
      "True\n",
      "True\n",
      "False\n",
      "False\n"
     ]
    }
   ],
   "source": [
    "filename = \"doc.pdf\"\n",
    "print(filename.startswith(\"doc\"))\n",
    "print(filename.endswith(\".pdf\"))\n",
    "print(filename.startswith(\"pdf\"))\n",
    "print(filename.endswith(\".doc\"))"
   ]
  },
  {
   "cell_type": "code",
   "execution_count": 54,
   "id": "28dbc39f",
   "metadata": {},
   "outputs": [
    {
     "name": "stdout",
     "output_type": "stream",
     "text": [
      "True\n",
      "False\n",
      "True\n",
      "False\n",
      "True\n",
      "False\n"
     ]
    }
   ],
   "source": [
    "print(\"wefwefe\".isalpha())\n",
    "print(\"23423\".isalpha())\n",
    "print(\"3234\".isdigit())\n",
    "print(\"fesf\".isdigit())\n",
    "print(\"wef3243\".isalnum())\n",
    "print(\"wef23.fed\".isalnum())"
   ]
  },
  {
   "cell_type": "code",
   "execution_count": 56,
   "id": "0bfc241f",
   "metadata": {},
   "outputs": [
    {
     "name": "stdout",
     "output_type": "stream",
     "text": [
      "True\n",
      "False\n"
     ]
    }
   ],
   "source": [
    "print(\" \\t\\n\".isspace())\n",
    "print(\"fewf\".isspace())"
   ]
  },
  {
   "cell_type": "code",
   "execution_count": null,
   "id": "1b107d8a",
   "metadata": {},
   "outputs": [],
   "source": [
    "print(\"efef\".is)"
   ]
  },
  {
   "cell_type": "code",
   "execution_count": null,
   "id": "600477ad",
   "metadata": {},
   "outputs": [],
   "source": [
    "username = input(\"请输入用户名（只能包含字母和数字）: \")\n",
    "if not username.isalnum():\n",
    "    print(\"用户名格式错误！\")"
   ]
  },
  {
   "cell_type": "markdown",
   "id": "05e19521",
   "metadata": {},
   "source": [
    "#### **4. 拆分与连接**\n",
    "\n",
    "这是处理结构化文本（如CSV）的核心方法。\n",
    "\n",
    "*   `split(sep=None, maxsplit=-1)`: 使用分隔符 `sep` 将字符串**拆分**成一个**列表（List）**。`maxsplit` 指定最大拆分次数。\n",
    "    *   默认分隔符是**任何空白字符**（空格、换行、制表符等）。\n",
    "*   `join(iterable)`: 将一个**可迭代对象**（通常是列表或元组）中的字符串元素，用原字符串**连接**起来，形成一个新的字符串。"
   ]
  },
  {
   "cell_type": "code",
   "execution_count": 5,
   "id": "1ba18ef3",
   "metadata": {},
   "outputs": [
    {
     "name": "stdout",
     "output_type": "stream",
     "text": [
      "['apple', 'banana', 'grape', 'orange']\n"
     ]
    }
   ],
   "source": [
    "data = \"apple,banana,grape,orange\"\n",
    "fruits_list = data.split(\",\")\n",
    "print(fruits_list)"
   ]
  },
  {
   "cell_type": "code",
   "execution_count": 6,
   "id": "2bd8d4fa",
   "metadata": {},
   "outputs": [
    {
     "name": "stdout",
     "output_type": "stream",
     "text": [
      "apple-banana-grape-orange\n"
     ]
    }
   ],
   "source": [
    "new_line = \"-\".join(fruits_list)\n",
    "print(new_line)"
   ]
  },
  {
   "cell_type": "code",
   "execution_count": 7,
   "id": "3483804f",
   "metadata": {},
   "outputs": [
    {
     "name": "stdout",
     "output_type": "stream",
     "text": [
      "user/local/bin\n"
     ]
    }
   ],
   "source": [
    "path = \"/\".join([\"user\",\"local\",\"bin\"])\n",
    "print(path)"
   ]
  },
  {
   "cell_type": "code",
   "execution_count": 4,
   "id": "62389d39",
   "metadata": {},
   "outputs": [
    {
     "name": "stdout",
     "output_type": "stream",
     "text": [
      "usr/local/bin\n"
     ]
    }
   ],
   "source": [
    "path = \"/\".join([\"usr\", \"local\", \"bin\"])\n",
    "print(path)"
   ]
  },
  {
   "cell_type": "code",
   "execution_count": 8,
   "id": "33ad6a6f",
   "metadata": {},
   "outputs": [
    {
     "name": "stdout",
     "output_type": "stream",
     "text": [
      "['apple', 'banana,grape,orange']\n"
     ]
    }
   ],
   "source": [
    "data = \"apple,banana,grape,orange\"\n",
    "fruits_list = data.split(\",\",maxsplit=1)\n",
    "print(fruits_list)"
   ]
  },
  {
   "cell_type": "code",
   "execution_count": 11,
   "id": "c61be02e",
   "metadata": {},
   "outputs": [
    {
     "name": "stdout",
     "output_type": "stream",
     "text": [
      "['apple', 'banana,grape,orange']\n"
     ]
    }
   ],
   "source": [
    "data = \"apple,banana,grape,orange\"\n",
    "fruits_list = data.split(maxsplit=1,sep = \",\")\n",
    "print(fruits_list)"
   ]
  },
  {
   "cell_type": "markdown",
   "id": "4f0e4ebd",
   "metadata": {},
   "source": [
    "#### **5. 去除空白字符**\n",
    "\n",
    "用于清理用户输入或文本数据两端的无用字符。\n",
    "\n",
    "*   `strip([chars])`: 去除字符串**左右两边**指定的字符（默认为空白字符）。\n",
    "*   `lstrip([chars])`: 仅去除字符串**左边**的指定字符。\n",
    "*   `rstrip([chars])`: 仅去除字符串**右边**的指定字符。"
   ]
  },
  {
   "cell_type": "code",
   "execution_count": 10,
   "id": "09b86b33",
   "metadata": {},
   "outputs": [
    {
     "name": "stdout",
     "output_type": "stream",
     "text": [
      "'some input'\n",
      "'data'\n",
      "example.co\n"
     ]
    }
   ],
   "source": [
    "user_input = \"   some input   \"\n",
    "clean_input = user_input.strip()\n",
    "print(f\"'{clean_input}'\")        # 输出: 'some input'\n",
    "data_with_newline = \"data\\n\"\n",
    "clean_data = data_with_newline.rstrip() # 只去掉右边的换行符\n",
    "print(f\"'{clean_data}'\")         # 输出: 'data'\n",
    "url = \"www.example.com\"\n",
    "print(url.strip(\"wm.\"))          # 去除两边的'w', 'm', '.' -> 'example.co'"
   ]
  },
  {
   "cell_type": "code",
   "execution_count": 13,
   "id": "ac1fe76e",
   "metadata": {},
   "outputs": [
    {
     "name": "stdout",
     "output_type": "stream",
     "text": [
      "some input\n"
     ]
    }
   ],
   "source": [
    "user_input = \"  \\t some input     \\t\\n\"\n",
    "clean_data= user_input.strip()\n",
    "print(clean_data)"
   ]
  },
  {
   "cell_type": "code",
   "execution_count": 14,
   "id": "9a2fa933",
   "metadata": {},
   "outputs": [
    {
     "name": "stdout",
     "output_type": "stream",
     "text": [
      "'data'\n"
     ]
    }
   ],
   "source": [
    "data_with_newline = \"data\\n\"\n",
    "clean_data = data_with_newline.rstrip() # 只去掉右边的换行符\n",
    "print(f\"'{clean_data}'\")         # 输出: 'data'"
   ]
  },
  {
   "cell_type": "code",
   "execution_count": 15,
   "id": "afa61adb",
   "metadata": {},
   "outputs": [
    {
     "name": "stdout",
     "output_type": "stream",
     "text": [
      "example.co\n"
     ]
    }
   ],
   "source": [
    "url = \"www.example.com\"\n",
    "print(url.strip(\"wm.\"))          # 去除两边的'w', 'm', '.' -> 'example.co'"
   ]
  },
  {
   "cell_type": "code",
   "execution_count": 16,
   "id": "111f7bfe",
   "metadata": {},
   "outputs": [
    {
     "name": "stdout",
     "output_type": "stream",
     "text": [
      "'some input'\n",
      "'data'\n",
      "example.co\n"
     ]
    }
   ],
   "source": [
    "user_input = \"   some input   \"\n",
    "clean_input = user_input.strip()\n",
    "print(f\"'{clean_input}'\")        # 输出: 'some input'\n",
    "data_with_newline = \"data\\n\"\n",
    "clean_data = data_with_newline.rstrip() # 只去掉右边的换行符\n",
    "print(f\"'{clean_data}'\")         # 输出: 'data'\n",
    "url = \"www.example.com\"\n",
    "print(url.strip(\"wm.\"))          # 去除两边的'w', 'm', '.' -> 'example.co'"
   ]
  },
  {
   "cell_type": "markdown",
   "id": "0c47b595",
   "metadata": {},
   "source": [
    "**练习 1：密码强度检查器**\n",
    "编写一个函数 `check_password(password)`，要求密码：\n",
    "1.  至少8个字符长。\n",
    "2.  必须同时包含字母和数字。\n",
    "如果密码符合要求，返回 `True`，否则返回 `False`。\n",
    "（提示：使用 `len()` 检查长度，使用 `isalnum()` 但要注意它不能区分是否同时包含）"
   ]
  },
  {
   "cell_type": "code",
   "execution_count": null,
   "id": "30d4388d",
   "metadata": {},
   "outputs": [],
   "source": [
    "input_password = input(\"请输入密码：/n\")\n",
    "def check_password(password):\n",
    "    password = str(password)\n",
    "    if len(password)<8:\n",
    "        return False\n",
    "    if password.isalpha() | password.isdecimal():\n",
    "        return False\n",
    "    if password.isalnum():\n",
    "        return True\n",
    "    return False"
   ]
  },
  {
   "cell_type": "markdown",
   "id": "45bd83e7",
   "metadata": {},
   "source": [
    "**练习 1：密码强度检查器**\n",
    "编写一个函数 `check_password(password)`，要求密码：\n",
    "1.  至少8个字符长。\n",
    "2.  必须同时包含字母和数字(但不能有其他类型)。\n",
    "如果密码符合要求，返回 `True`，否则返回 `False`。\n",
    "（提示：使用 `len()` 检查长度，使用 `isalnum()` 但要注意它不能区分是否同时包含）"
   ]
  },
  {
   "cell_type": "code",
   "execution_count": null,
   "id": "0271591e",
   "metadata": {},
   "outputs": [],
   "source": [
    "# input_password = input(\"请输入密码：\\n\")\n",
    "\n",
    "def check_password(password):\n",
    "    password = str(password)\n",
    "    if len(password)<8:\n",
    "        return False\n",
    "    if password.isalpha() | password.isdecimal():\n",
    "        return False\n",
    "    if password.isalnum():\n",
    "        return True\n",
    "    return False\n",
    "print(check_password(input_password))"
   ]
  },
  {
   "cell_type": "markdown",
   "id": "11e079f0",
   "metadata": {},
   "source": [
    "**练习 2：简易数据清洗**\n",
    "编写一个函数 `clean_data(data)`，接收一个字符串，执行以下操作：\n",
    "1.  去除两端的空白字符。\n",
    "2.  将内部的连续多个空格替换为一个空格。\n",
    "3.  确保首字母大写。\n",
    "（提示：`split()` 和 `join()` 可以巧妙地处理连续空格）"
   ]
  },
  {
   "cell_type": "code",
   "execution_count": 2,
   "id": "16ba11ff",
   "metadata": {},
   "outputs": [
    {
     "name": "stdout",
     "output_type": "stream",
     "text": [
      "原始: '  hello   world  '\n",
      "清洗后: 'hello world'\n",
      "\n",
      "原始: '   python  is   fun   '\n",
      "清洗后: 'python is fun'\n",
      "\n",
      "原始: '  multiple   \tspaces  and  \n",
      "newlines  '\n",
      "清洗后: 'multiple spaces and newlines'\n",
      "\n",
      "原始: '   single'\n",
      "清洗后: 'single'\n",
      "\n",
      "原始: ''\n",
      "清洗后: ''\n",
      "\n"
     ]
    }
   ],
   "source": [
    "def clean_data(data):\n",
    "    data = str(data)\n",
    "    data = data.strip()\n",
    "    data = \" \".join(data.split())\n",
    "    return data\n",
    "test_cases = [\n",
    "    \"  hello   world  \",\n",
    "    \"   python  is   fun   \",\n",
    "    \"  multiple   \\tspaces  and  \\nnewlines  \",\n",
    "    \"   single\",\n",
    "    \"\"\n",
    "]\n",
    "for test in test_cases:\n",
    "    result = clean_data(test)\n",
    "    print(f\"原始: '{test}'\")\n",
    "    print(f\"清洗后: '{result}'\\n\")\n",
    "    \n"
   ]
  },
  {
   "cell_type": "markdown",
   "id": "65e300d1",
   "metadata": {},
   "source": [
    "**练习 3：文件扩展名检查与替换**\n",
    "编写一个函数 `change_extension(filename, new_extension)`：\n",
    "1.  检查文件名是否有一个扩展名（即是否包含点 `.`）。\n",
    "2.  如果有，将其替换为新的扩展名 `new_extension`（如将 `.txt` 换为 `.csv`）。\n",
    "3.  如果没有，则在末尾添加新的扩展名。\n",
    "（提示：使用 `endswith`, `rfind`, 切片和字符串拼接）"
   ]
  },
  {
   "cell_type": "code",
   "execution_count": 5,
   "id": "2d45e626",
   "metadata": {},
   "outputs": [],
   "source": [
    "def change_extension(filename, new_extension):\n",
    "    # 首先确保新的扩展名以点开头\n",
    "    if not new_extension.startswith('.'):\n",
    "        new_extension = '.'+new_extension\n",
    "    # 判断并找到是否含有.\n",
    "    dot_index = filename.rfind('.') \n",
    "    if dot_index>0:\n",
    "        return filename[:dot_index]+new_extension\n",
    "    else:\n",
    "        return filename+new_extension\n"
   ]
  },
  {
   "cell_type": "code",
   "execution_count": 8,
   "id": "e115ef07",
   "metadata": {},
   "outputs": [
    {
     "name": "stdout",
     "output_type": "stream",
     "text": [
      "原始文件名: document.txt, 新扩展名: pdf → 结果: document.pdf\n",
      "原始文件名: image.png, 新扩展名: .jpg → 结果: image.jpg\n",
      "原始文件名: data, 新扩展名: csv → 结果: data.csv\n",
      "原始文件名: archive.tar.gz, 新扩展名: zip → 结果: archive.tar.zip\n",
      "原始文件名: .gitignore, 新扩展名: txt → 结果: .gitignore.txt\n",
      "原始文件名: version1.0.2, 新扩展名: exe → 结果: version1.0.exe\n"
     ]
    }
   ],
   "source": [
    "# 测试示例\n",
    "test_cases = [\n",
    "    (\"document.txt\", \"pdf\"),\n",
    "    (\"image.png\", \".jpg\"),\n",
    "    (\"data\", \"csv\"),\n",
    "    (\"archive.tar.gz\", \"zip\"),\n",
    "    (\".gitignore\", \"txt\"),\n",
    "    (\"version1.0.2\", \"exe\")\n",
    "]\n",
    "\n",
    "for filename, new_ext in test_cases:\n",
    "    result = change_extension(filename, new_ext)\n",
    "    print(f\"原始文件名: {filename}, 新扩展名: {new_ext} → 结果: {result}\")"
   ]
  },
  {
   "cell_type": "markdown",
   "id": "345a4bbd",
   "metadata": {},
   "source": [
    "### **阶段三：进阶格式化与概念 - 详细细化版**\n",
    "\n",
    "这个阶段我们将聚焦于三个核心主题：**现代字符串格式化**、**字符串与字节的转换**以及**深刻理解字符串的不可变性**。\n",
    "\n",
    "---\n",
    "\n",
    "### **1. 字符串格式化（String Formatting）**\n",
    "\n",
    "格式化是将变量值嵌入到字符串模板中的过程。Python提供了多种方法，但我们将重点学习最现代、最推荐的一种。\n",
    "#### **1.1 f-Strings (格式化字符串字面值) - Python 3.6+**\n",
    "\n",
    "这是目前**最简洁、可读性最强、性能最好**的格式化方法。在字符串前加 `f` 或 `F` 前缀即可使用。\n",
    "\n",
    "**基本用法：在字符串内直接嵌入变量**"
   ]
  },
  {
   "cell_type": "code",
   "execution_count": 1,
   "id": "fa42cd48",
   "metadata": {},
   "outputs": [
    {
     "name": "stdout",
     "output_type": "stream",
     "text": [
      "Hello, Alice. You are 30 years old.\n"
     ]
    }
   ],
   "source": [
    "name = \"Alice\"\n",
    "age = 30\n",
    "height = 1.65\n",
    "# 直接在花括号 {} 内写入变量名\n",
    "message = f\"Hello, {name}. You are {age} years old.\"\n",
    "print(message) # 输出: Hello, Alice. You are 30 years old.|"
   ]
  },
  {
   "cell_type": "code",
   "execution_count": 3,
   "id": "7622444b",
   "metadata": {},
   "outputs": [
    {
     "name": "stdout",
     "output_type": "stream",
     "text": [
      "Total: 45元\n",
      "Hello, BOB!\n"
     ]
    }
   ],
   "source": [
    "price = 15\n",
    "quantity = 3\n",
    "total = f\"Total: {price * quantity}元\" # 可以进行数学运算\n",
    "print(total) # 输出: Total: 45元\n",
    "name = \"bob\"\n",
    "greeting = f\"Hello, {name.upper()}!\" # 可以调用方法\n",
    "print(greeting) # 输出: Hello, BOB!"
   ]
  },
  {
   "cell_type": "markdown",
   "id": "f9dda943",
   "metadata": {},
   "source": [
    "**高级用法：在表达式和格式化**\n",
    "花括号 `{}` 内不仅可以放变量，还可以进行运算、调用方法，以及使用**格式说明符**进行精细化控制。"
   ]
  },
  {
   "cell_type": "code",
   "execution_count": 4,
   "id": "8777ae91",
   "metadata": {},
   "outputs": [
    {
     "name": "stdout",
     "output_type": "stream",
     "text": [
      "Total: 45元\n",
      "Hello, BOB!\n"
     ]
    }
   ],
   "source": [
    "price = 15\n",
    "quantity = 3\n",
    "total = f\"Total: {price * quantity}元\" # 可以进行数学运算\n",
    "print(total) # 输出: Total: 45元\n",
    "name = \"bob\"\n",
    "greeting = f\"Hello, {name.upper()}!\" # 可以调用方法\n",
    "print(greeting) # 输出: Hello, BOB!"
   ]
  },
  {
   "cell_type": "markdown",
   "id": "6e150c0f",
   "metadata": {},
   "source": [
    "*   **格式说明符 (Format Specifiers)**： 使用 `:` 在变量后指定格式。"
   ]
  },
  {
   "cell_type": "code",
   "execution_count": null,
   "id": "a9f3a294",
   "metadata": {},
   "outputs": [
    {
     "name": "stdout",
     "output_type": "stream",
     "text": [
      "Pi is approximately 3.14\n"
     ]
    }
   ],
   "source": [
    "pi = 3.1415926\n",
    "print(f\"Pi is approximately {pi:.2f}\")\n",
    " # 保留2位小数 -> Pi is approximately 3.14"
   ]
  },
  {
   "cell_type": "code",
   "execution_count": 6,
   "id": "9f6b707a",
   "metadata": {},
   "outputs": [
    {
     "name": "stdout",
     "output_type": "stream",
     "text": [
      "'       Tom'\n",
      "'Tom       '\n",
      "'   Tom    '\n"
     ]
    }
   ],
   "source": [
    "# 控制字符串宽度和对齐\n",
    "name = \"Tom\"\n",
    "print(f\"'{name:>10}'\")   # 右对齐，宽度10 -> '       Tom'\n",
    "print(f\"'{name:<10}'\")   # 左对齐，宽度10 -> 'Tom       '\n",
    "print(f\"'{name:^10}'\")   # 居中对齐，宽度10 -> '   Tom    '"
   ]
  },
  {
   "cell_type": "code",
   "execution_count": 7,
   "id": "6d102a83",
   "metadata": {},
   "outputs": [
    {
     "name": "stdout",
     "output_type": "stream",
     "text": [
      "1,234,567,890\n",
      "42 in hex: 2a\n"
     ]
    }
   ],
   "source": [
    "big_number = 1234567890\n",
    "print(f\"{big_number:,}\") # 千位分隔符 -> 1,234,567,890\n",
    "print(f\"42 in hex: {42:x}\") # 十六进制 -> 42 in hex: 2a"
   ]
  },
  {
   "cell_type": "markdown",
   "id": "60df20fd",
   "metadata": {},
   "source": [
    "#### **1.2 `str.format()` 方法**\n",
    "\n",
    "这是在f-strings出现之前的主流方法，现在依然常见于旧代码库中。它的核心思想是使用 `{}` 作为占位符，然后用 `.format()` 方法中的参数依次替换。"
   ]
  },
  {
   "cell_type": "code",
   "execution_count": 8,
   "id": "cfd0424f",
   "metadata": {},
   "outputs": [
    {
     "name": "stdout",
     "output_type": "stream",
     "text": [
      "Hello, Bob. You are 25 years old.\n"
     ]
    }
   ],
   "source": [
    "template = \"Hello, {}. You are {} years old.\"\n",
    "message = template.format(\"Bob\", 25)\n",
    "print(message) # Hello, Bob. You are 25 years old."
   ]
  },
  {
   "cell_type": "code",
   "execution_count": 9,
   "id": "e2e0611b",
   "metadata": {},
   "outputs": [
    {
     "name": "stdout",
     "output_type": "stream",
     "text": [
      " Alice sees the cat. Then Alice says hi to the cat.\n"
     ]
    }
   ],
   "source": [
    "# 按索引号替换（可重复使用）\n",
    "template = \" {1} sees the {0}. Then {1} says hi to the {0}.\"\n",
    "message = template.format(\"cat\", \"Alice\")\n",
    "print(message) # Alice sees the cat. Then Alice says hi to the cat.\n"
   ]
  },
  {
   "cell_type": "code",
   "execution_count": 10,
   "id": "c99aecf9",
   "metadata": {},
   "outputs": [
    {
     "name": "stdout",
     "output_type": "stream",
     "text": [
      " Alice sees the cat. Then Alice says hi to the cat.\n"
     ]
    }
   ],
   "source": [
    "# 按索引号替换（可重复使用）\n",
    "template = \" {1} sees the {0}. Then {1} says hi to the {0}.\"\n",
    "message = template.format(\"cat\", \"Alice\")\n",
    "print(message) # Alice sees the cat. Then Alice says hi to the cat."
   ]
  },
  {
   "cell_type": "code",
   "execution_count": 11,
   "id": "f0b16c88",
   "metadata": {},
   "outputs": [
    {
     "name": "stdout",
     "output_type": "stream",
     "text": [
      "Hello, Charlie. You are 40 years old.\n"
     ]
    }
   ],
   "source": [
    "# 按关键字名称替换（最清晰）\n",
    "template = \"Hello, {name}. You are {age} years old.\"\n",
    "message = template.format(name=\"Charlie\", age=40)\n",
    "print(message)"
   ]
  },
  {
   "cell_type": "markdown",
   "id": "555a8d7f",
   "metadata": {},
   "source": [
    "`str.format()` 同样支持复杂的格式说明符，语法和f-strings类似，只是写在占位符内。"
   ]
  },
  {
   "cell_type": "code",
   "execution_count": 13,
   "id": "4d835901",
   "metadata": {},
   "outputs": [
    {
     "name": "stdout",
     "output_type": "stream",
     "text": [
      "Pi: 3.142\n"
     ]
    }
   ],
   "source": [
    "print(\"Pi: {:.3f}\".format(3.14159)) # Pi: 3.142"
   ]
  },
  {
   "cell_type": "markdown",
   "id": "d638667c",
   "metadata": {},
   "source": [
    "### **2. 字符串与字节（Strings vs. Bytes）**\n",
    "\n",
    "这是一个重要的底层概念，尤其在处理文件、网络传输和数据存储时。\n",
    "\n",
    "*   **`str` (字符串)**： 是人类可读的文本，是**Unicode字符**的序列。你在内存中处理的数据通常是这种形式。\n",
    "    `\"Hello, 世界！\"`\n",
    "\n",
    "*   **`bytes` (字节)**： 是计算机底层的**原始字节**序列（0-255之间的数字），本身不可读。数据在硬盘上存储或在网络上传输时是这种形式。\n",
    "    `b\"Hello\"` （注意前面的 `b` 前缀）\n",
    "\n",
    "它们之间的转换需要通过**编码（Encode）** 和**解码（Decode）** 来完成。\n",
    "\n",
    "*   **`.encode(encoding='utf-8')`**： 将 `str` 转换为 `bytes`。你需要指定一个编码规则（如UTF-8），告诉计算机如何将字符映射为字节。\n",
    "*   **`.decode(encoding='utf-8')`**： 将 `bytes` 转换为 `str`。同样需要指定编码规则。\n",
    "\n",
    "**UTF-8** 是一种最通用的编码标准，可以表示几乎所有语言的字符。"
   ]
  },
  {
   "cell_type": "code",
   "execution_count": 15,
   "id": "3d61fb5d",
   "metadata": {},
   "outputs": [
    {
     "name": "stdout",
     "output_type": "stream",
     "text": [
      "b'Python\\xe7\\xbc\\x96\\xe7\\xa8\\x8b'\n",
      "Python编程\n"
     ]
    }
   ],
   "source": [
    "# 字符串 -> 字节 (编码)\n",
    "text = \"Python编程\"\n",
    "byte_data = text.encode('utf-8') # 编码为字节\n",
    "print(byte_data)\n",
    "# 字节 -> 字符串 (解码)\n",
    "original_text = byte_data.decode('utf-8') # 解码回字符串\n",
    "print(original_text) # Python编程"
   ]
  },
  {
   "cell_type": "code",
   "execution_count": 16,
   "id": "2bf2d9e8",
   "metadata": {},
   "outputs": [
    {
     "ename": "UnicodeDecodeError",
     "evalue": "'ascii' codec can't decode byte 0xe7 in position 6: ordinal not in range(128)",
     "output_type": "error",
     "traceback": [
      "\u001b[31m---------------------------------------------------------------------------\u001b[39m",
      "\u001b[31mUnicodeDecodeError\u001b[39m                        Traceback (most recent call last)",
      "\u001b[36mCell\u001b[39m\u001b[36m \u001b[39m\u001b[32mIn[16]\u001b[39m\u001b[32m, line 2\u001b[39m\n\u001b[32m      1\u001b[39m \u001b[38;5;66;03m# 尝试用错误的编码解码会导致乱码或错误\u001b[39;00m\n\u001b[32m----> \u001b[39m\u001b[32m2\u001b[39m \u001b[38;5;28mprint\u001b[39m(\u001b[43mbyte_data\u001b[49m\u001b[43m.\u001b[49m\u001b[43mdecode\u001b[49m\u001b[43m(\u001b[49m\u001b[33;43m'\u001b[39;49m\u001b[33;43mascii\u001b[39;49m\u001b[33;43m'\u001b[39;49m\u001b[43m)\u001b[49m) \u001b[38;5;66;03m# 这会抛出 UnicodeDecodeError\u001b[39;00m\n",
      "\u001b[31mUnicodeDecodeError\u001b[39m: 'ascii' codec can't decode byte 0xe7 in position 6: ordinal not in range(128)"
     ]
    }
   ],
   "source": [
    "# 尝试用错误的编码解码会导致乱码或错误\n",
    "print(byte_data.decode('ascii')) # 这会抛出 UnicodeDecodeError"
   ]
  },
  {
   "cell_type": "markdown",
   "id": "cc968555",
   "metadata": {},
   "source": [
    "**应用场景**：当你用 `open()` 函数读写文本文件时，模式 `'r'` 和 `'w'` 背后其实就是Python帮你自动完成了编码和解码。而模式 `'rb'` 和 `'wb'` 则直接操作字节。"
   ]
  },
  {
   "cell_type": "markdown",
   "id": "ec588c8e",
   "metadata": {},
   "source": [
    "\n",
    "### **3. 深刻理解不可变性（Immutability）**\n",
    "\n",
    "我们在阶段二提到了这一点，现在来深入理解其内涵和影响。\n",
    "\n",
    "**核心**：字符串一旦创建，其内容**无法改变**。任何看似“修改”字符串的操作（如 `upper()`, `replace()`, `strip()`），实际上都是**创建了一个全新的字符串对象**并返回它。\n",
    "\n",
    "**这意味着什么？**\n",
    "1.  **安全**：你可以放心地将字符串传递给任何函数，不用担心它会被意外修改。\n",
    "2.  **性能考量**：在循环中频繁“修改”字符串（如使用 `+=` 进行连接）会产生大量临时对象，效率低下。"
   ]
  },
  {
   "cell_type": "code",
   "execution_count": 18,
   "id": "17e3b794",
   "metadata": {},
   "outputs": [
    {
     "name": "stdout",
     "output_type": "stream",
     "text": [
      "0123456789101112131415161718192021222324252627282930313233343536373839404142434445464748495051525354555657585960616263646566676869707172737475767778798081828384858687888990919293949596979899100101102103104105106107108109110111112113114115116117118119120121122123124125126127128129130131132133134135136137138139140141142143144145146147148149150151152153154155156157158159160161162163164165166167168169170171172173174175176177178179180181182183184185186187188189190191192193194195196197198199200201202203204205206207208209210211212213214215216217218219220221222223224225226227228229230231232233234235236237238239240241242243244245246247248249250251252253254255256257258259260261262263264265266267268269270271272273274275276277278279280281282283284285286287288289290291292293294295296297298299300301302303304305306307308309310311312313314315316317318319320321322323324325326327328329330331332333334335336337338339340341342343344345346347348349350351352353354355356357358359360361362363364365366367368369370371372373374375376377378379380381382383384385386387388389390391392393394395396397398399400401402403404405406407408409410411412413414415416417418419420421422423424425426427428429430431432433434435436437438439440441442443444445446447448449450451452453454455456457458459460461462463464465466467468469470471472473474475476477478479480481482483484485486487488489490491492493494495496497498499500501502503504505506507508509510511512513514515516517518519520521522523524525526527528529530531532533534535536537538539540541542543544545546547548549550551552553554555556557558559560561562563564565566567568569570571572573574575576577578579580581582583584585586587588589590591592593594595596597598599600601602603604605606607608609610611612613614615616617618619620621622623624625626627628629630631632633634635636637638639640641642643644645646647648649650651652653654655656657658659660661662663664665666667668669670671672673674675676677678679680681682683684685686687688689690691692693694695696697698699700701702703704705706707708709710711712713714715716717718719720721722723724725726727728729730731732733734735736737738739740741742743744745746747748749750751752753754755756757758759760761762763764765766767768769770771772773774775776777778779780781782783784785786787788789790791792793794795796797798799800801802803804805806807808809810811812813814815816817818819820821822823824825826827828829830831832833834835836837838839840841842843844845846847848849850851852853854855856857858859860861862863864865866867868869870871872873874875876877878879880881882883884885886887888889890891892893894895896897898899900901902903904905906907908909910911912913914915916917918919920921922923924925926927928929930931932933934935936937938939940941942943944945946947948949950951952953954955956957958959960961962963964965966967968969970971972973974975976977978979980981982983984985986987988989990991992993994995996997998999100010011002100310041005100610071008100910101011101210131014101510161017101810191020102110221023102410251026102710281029103010311032103310341035103610371038103910401041104210431044104510461047104810491050105110521053105410551056105710581059106010611062106310641065106610671068106910701071107210731074107510761077107810791080108110821083108410851086108710881089109010911092109310941095109610971098109911001101110211031104110511061107110811091110111111121113111411151116111711181119112011211122112311241125112611271128112911301131113211331134113511361137113811391140114111421143114411451146114711481149115011511152115311541155115611571158115911601161116211631164116511661167116811691170117111721173117411751176117711781179118011811182118311841185118611871188118911901191119211931194119511961197119811991200120112021203120412051206120712081209121012111212121312141215121612171218121912201221122212231224122512261227122812291230123112321233123412351236123712381239124012411242124312441245124612471248124912501251125212531254125512561257125812591260126112621263126412651266126712681269127012711272127312741275127612771278127912801281128212831284128512861287128812891290129112921293129412951296129712981299130013011302130313041305130613071308130913101311131213131314131513161317131813191320132113221323132413251326132713281329133013311332133313341335133613371338133913401341134213431344134513461347134813491350135113521353135413551356135713581359136013611362136313641365136613671368136913701371137213731374137513761377137813791380138113821383138413851386138713881389139013911392139313941395139613971398139914001401140214031404140514061407140814091410141114121413141414151416141714181419142014211422142314241425142614271428142914301431143214331434143514361437143814391440144114421443144414451446144714481449145014511452145314541455145614571458145914601461146214631464146514661467146814691470147114721473147414751476147714781479148014811482148314841485148614871488148914901491149214931494149514961497149814991500150115021503150415051506150715081509151015111512151315141515151615171518151915201521152215231524152515261527152815291530153115321533153415351536153715381539154015411542154315441545154615471548154915501551155215531554155515561557155815591560156115621563156415651566156715681569157015711572157315741575157615771578157915801581158215831584158515861587158815891590159115921593159415951596159715981599160016011602160316041605160616071608160916101611161216131614161516161617161816191620162116221623162416251626162716281629163016311632163316341635163616371638163916401641164216431644164516461647164816491650165116521653165416551656165716581659166016611662166316641665166616671668166916701671167216731674167516761677167816791680168116821683168416851686168716881689169016911692169316941695169616971698169917001701170217031704170517061707170817091710171117121713171417151716171717181719172017211722172317241725172617271728172917301731173217331734173517361737173817391740174117421743174417451746174717481749175017511752175317541755175617571758175917601761176217631764176517661767176817691770177117721773177417751776177717781779178017811782178317841785178617871788178917901791179217931794179517961797179817991800180118021803180418051806180718081809181018111812181318141815181618171818181918201821182218231824182518261827182818291830183118321833183418351836183718381839184018411842184318441845184618471848184918501851185218531854185518561857185818591860186118621863186418651866186718681869187018711872187318741875187618771878187918801881188218831884188518861887188818891890189118921893189418951896189718981899190019011902190319041905190619071908190919101911191219131914191519161917191819191920192119221923192419251926192719281929193019311932193319341935193619371938193919401941194219431944194519461947194819491950195119521953195419551956195719581959196019611962196319641965196619671968196919701971197219731974197519761977197819791980198119821983198419851986198719881989199019911992199319941995199619971998199920002001200220032004200520062007200820092010201120122013201420152016201720182019202020212022202320242025202620272028202920302031203220332034203520362037203820392040204120422043204420452046204720482049205020512052205320542055205620572058205920602061206220632064206520662067206820692070207120722073207420752076207720782079208020812082208320842085208620872088208920902091209220932094209520962097209820992100210121022103210421052106210721082109211021112112211321142115211621172118211921202121212221232124212521262127212821292130213121322133213421352136213721382139214021412142214321442145214621472148214921502151215221532154215521562157215821592160216121622163216421652166216721682169217021712172217321742175217621772178217921802181218221832184218521862187218821892190219121922193219421952196219721982199220022012202220322042205220622072208220922102211221222132214221522162217221822192220222122222223222422252226222722282229223022312232223322342235223622372238223922402241224222432244224522462247224822492250225122522253225422552256225722582259226022612262226322642265226622672268226922702271227222732274227522762277227822792280228122822283228422852286228722882289229022912292229322942295229622972298229923002301230223032304230523062307230823092310231123122313231423152316231723182319232023212322232323242325232623272328232923302331233223332334233523362337233823392340234123422343234423452346234723482349235023512352235323542355235623572358235923602361236223632364236523662367236823692370237123722373237423752376237723782379238023812382238323842385238623872388238923902391239223932394239523962397239823992400240124022403240424052406240724082409241024112412241324142415241624172418241924202421242224232424242524262427242824292430243124322433243424352436243724382439244024412442244324442445244624472448244924502451245224532454245524562457245824592460246124622463246424652466246724682469247024712472247324742475247624772478247924802481248224832484248524862487248824892490249124922493249424952496249724982499250025012502250325042505250625072508250925102511251225132514251525162517251825192520252125222523252425252526252725282529253025312532253325342535253625372538253925402541254225432544254525462547254825492550255125522553255425552556255725582559256025612562256325642565256625672568256925702571257225732574257525762577257825792580258125822583258425852586258725882589259025912592259325942595259625972598259926002601260226032604260526062607260826092610261126122613261426152616261726182619262026212622262326242625262626272628262926302631263226332634263526362637263826392640264126422643264426452646264726482649265026512652265326542655265626572658265926602661266226632664266526662667266826692670267126722673267426752676267726782679268026812682268326842685268626872688268926902691269226932694269526962697269826992700270127022703270427052706270727082709271027112712271327142715271627172718271927202721272227232724272527262727272827292730273127322733273427352736273727382739274027412742274327442745274627472748274927502751275227532754275527562757275827592760276127622763276427652766276727682769277027712772277327742775277627772778277927802781278227832784278527862787278827892790279127922793279427952796279727982799280028012802280328042805280628072808280928102811281228132814281528162817281828192820282128222823282428252826282728282829283028312832283328342835283628372838283928402841284228432844284528462847284828492850285128522853285428552856285728582859286028612862286328642865286628672868286928702871287228732874287528762877287828792880288128822883288428852886288728882889289028912892289328942895289628972898289929002901290229032904290529062907290829092910291129122913291429152916291729182919292029212922292329242925292629272928292929302931293229332934293529362937293829392940294129422943294429452946294729482949295029512952295329542955295629572958295929602961296229632964296529662967296829692970297129722973297429752976297729782979298029812982298329842985298629872988298929902991299229932994299529962997299829993000300130023003300430053006300730083009301030113012301330143015301630173018301930203021302230233024302530263027302830293030303130323033303430353036303730383039304030413042304330443045304630473048304930503051305230533054305530563057305830593060306130623063306430653066306730683069307030713072307330743075307630773078307930803081308230833084308530863087308830893090309130923093309430953096309730983099310031013102310331043105310631073108310931103111311231133114311531163117311831193120312131223123312431253126312731283129313031313132313331343135313631373138313931403141314231433144314531463147314831493150315131523153315431553156315731583159316031613162316331643165316631673168316931703171317231733174317531763177317831793180318131823183318431853186318731883189319031913192319331943195319631973198319932003201320232033204320532063207320832093210321132123213321432153216321732183219322032213222322332243225322632273228322932303231323232333234323532363237323832393240324132423243324432453246324732483249325032513252325332543255325632573258325932603261326232633264326532663267326832693270327132723273327432753276327732783279328032813282328332843285328632873288328932903291329232933294329532963297329832993300330133023303330433053306330733083309331033113312331333143315331633173318331933203321332233233324332533263327332833293330333133323333333433353336333733383339334033413342334333443345334633473348334933503351335233533354335533563357335833593360336133623363336433653366336733683369337033713372337333743375337633773378337933803381338233833384338533863387338833893390339133923393339433953396339733983399340034013402340334043405340634073408340934103411341234133414341534163417341834193420342134223423342434253426342734283429343034313432343334343435343634373438343934403441344234433444344534463447344834493450345134523453345434553456345734583459346034613462346334643465346634673468346934703471347234733474347534763477347834793480348134823483348434853486348734883489349034913492349334943495349634973498349935003501350235033504350535063507350835093510351135123513351435153516351735183519352035213522352335243525352635273528352935303531353235333534353535363537353835393540354135423543354435453546354735483549355035513552355335543555355635573558355935603561356235633564356535663567356835693570357135723573357435753576357735783579358035813582358335843585358635873588358935903591359235933594359535963597359835993600360136023603360436053606360736083609361036113612361336143615361636173618361936203621362236233624362536263627362836293630363136323633363436353636363736383639364036413642364336443645364636473648364936503651365236533654365536563657365836593660366136623663366436653666366736683669367036713672367336743675367636773678367936803681368236833684368536863687368836893690369136923693369436953696369736983699370037013702370337043705370637073708370937103711371237133714371537163717371837193720372137223723372437253726372737283729373037313732373337343735373637373738373937403741374237433744374537463747374837493750375137523753375437553756375737583759376037613762376337643765376637673768376937703771377237733774377537763777377837793780378137823783378437853786378737883789379037913792379337943795379637973798379938003801380238033804380538063807380838093810381138123813381438153816381738183819382038213822382338243825382638273828382938303831383238333834383538363837383838393840384138423843384438453846384738483849385038513852385338543855385638573858385938603861386238633864386538663867386838693870387138723873387438753876387738783879388038813882388338843885388638873888388938903891389238933894389538963897389838993900390139023903390439053906390739083909391039113912391339143915391639173918391939203921392239233924392539263927392839293930393139323933393439353936393739383939394039413942394339443945394639473948394939503951395239533954395539563957395839593960396139623963396439653966396739683969397039713972397339743975397639773978397939803981398239833984398539863987398839893990399139923993399439953996399739983999400040014002400340044005400640074008400940104011401240134014401540164017401840194020402140224023402440254026402740284029403040314032403340344035403640374038403940404041404240434044404540464047404840494050405140524053405440554056405740584059406040614062406340644065406640674068406940704071407240734074407540764077407840794080408140824083408440854086408740884089409040914092409340944095409640974098409941004101410241034104410541064107410841094110411141124113411441154116411741184119412041214122412341244125412641274128412941304131413241334134413541364137413841394140414141424143414441454146414741484149415041514152415341544155415641574158415941604161416241634164416541664167416841694170417141724173417441754176417741784179418041814182418341844185418641874188418941904191419241934194419541964197419841994200420142024203420442054206420742084209421042114212421342144215421642174218421942204221422242234224422542264227422842294230423142324233423442354236423742384239424042414242424342444245424642474248424942504251425242534254425542564257425842594260426142624263426442654266426742684269427042714272427342744275427642774278427942804281428242834284428542864287428842894290429142924293429442954296429742984299430043014302430343044305430643074308430943104311431243134314431543164317431843194320432143224323432443254326432743284329433043314332433343344335433643374338433943404341434243434344434543464347434843494350435143524353435443554356435743584359436043614362436343644365436643674368436943704371437243734374437543764377437843794380438143824383438443854386438743884389439043914392439343944395439643974398439944004401440244034404440544064407440844094410441144124413441444154416441744184419442044214422442344244425442644274428442944304431443244334434443544364437443844394440444144424443444444454446444744484449445044514452445344544455445644574458445944604461446244634464446544664467446844694470447144724473447444754476447744784479448044814482448344844485448644874488448944904491449244934494449544964497449844994500450145024503450445054506450745084509451045114512451345144515451645174518451945204521452245234524452545264527452845294530453145324533453445354536453745384539454045414542454345444545454645474548454945504551455245534554455545564557455845594560456145624563456445654566456745684569457045714572457345744575457645774578457945804581458245834584458545864587458845894590459145924593459445954596459745984599460046014602460346044605460646074608460946104611461246134614461546164617461846194620462146224623462446254626462746284629463046314632463346344635463646374638463946404641464246434644464546464647464846494650465146524653465446554656465746584659466046614662466346644665466646674668466946704671467246734674467546764677467846794680468146824683468446854686468746884689469046914692469346944695469646974698469947004701470247034704470547064707470847094710471147124713471447154716471747184719472047214722472347244725472647274728472947304731473247334734473547364737473847394740474147424743474447454746474747484749475047514752475347544755475647574758475947604761476247634764476547664767476847694770477147724773477447754776477747784779478047814782478347844785478647874788478947904791479247934794479547964797479847994800480148024803480448054806480748084809481048114812481348144815481648174818481948204821482248234824482548264827482848294830483148324833483448354836483748384839484048414842484348444845484648474848484948504851485248534854485548564857485848594860486148624863486448654866486748684869487048714872487348744875487648774878487948804881488248834884488548864887488848894890489148924893489448954896489748984899490049014902490349044905490649074908490949104911491249134914491549164917491849194920492149224923492449254926492749284929493049314932493349344935493649374938493949404941494249434944494549464947494849494950495149524953495449554956495749584959496049614962496349644965496649674968496949704971497249734974497549764977497849794980498149824983498449854986498749884989499049914992499349944995499649974998499950005001500250035004500550065007500850095010501150125013501450155016501750185019502050215022502350245025502650275028502950305031503250335034503550365037503850395040504150425043504450455046504750485049505050515052505350545055505650575058505950605061506250635064506550665067506850695070507150725073507450755076507750785079508050815082508350845085508650875088508950905091509250935094509550965097509850995100510151025103510451055106510751085109511051115112511351145115511651175118511951205121512251235124512551265127512851295130513151325133513451355136513751385139514051415142514351445145514651475148514951505151515251535154515551565157515851595160516151625163516451655166516751685169517051715172517351745175517651775178517951805181518251835184518551865187518851895190519151925193519451955196519751985199520052015202520352045205520652075208520952105211521252135214521552165217521852195220522152225223522452255226522752285229523052315232523352345235523652375238523952405241524252435244524552465247524852495250525152525253525452555256525752585259526052615262526352645265526652675268526952705271527252735274527552765277527852795280528152825283528452855286528752885289529052915292529352945295529652975298529953005301530253035304530553065307530853095310531153125313531453155316531753185319532053215322532353245325532653275328532953305331533253335334533553365337533853395340534153425343534453455346534753485349535053515352535353545355535653575358535953605361536253635364536553665367536853695370537153725373537453755376537753785379538053815382538353845385538653875388538953905391539253935394539553965397539853995400540154025403540454055406540754085409541054115412541354145415541654175418541954205421542254235424542554265427542854295430543154325433543454355436543754385439544054415442544354445445544654475448544954505451545254535454545554565457545854595460546154625463546454655466546754685469547054715472547354745475547654775478547954805481548254835484548554865487548854895490549154925493549454955496549754985499550055015502550355045505550655075508550955105511551255135514551555165517551855195520552155225523552455255526552755285529553055315532553355345535553655375538553955405541554255435544554555465547554855495550555155525553555455555556555755585559556055615562556355645565556655675568556955705571557255735574557555765577557855795580558155825583558455855586558755885589559055915592559355945595559655975598559956005601560256035604560556065607560856095610561156125613561456155616561756185619562056215622562356245625562656275628562956305631563256335634563556365637563856395640564156425643564456455646564756485649565056515652565356545655565656575658565956605661566256635664566556665667566856695670567156725673567456755676567756785679568056815682568356845685568656875688568956905691569256935694569556965697569856995700570157025703570457055706570757085709571057115712571357145715571657175718571957205721572257235724572557265727572857295730573157325733573457355736573757385739574057415742574357445745574657475748574957505751575257535754575557565757575857595760576157625763576457655766576757685769577057715772577357745775577657775778577957805781578257835784578557865787578857895790579157925793579457955796579757985799580058015802580358045805580658075808580958105811581258135814581558165817581858195820582158225823582458255826582758285829583058315832583358345835583658375838583958405841584258435844584558465847584858495850585158525853585458555856585758585859586058615862586358645865586658675868586958705871587258735874587558765877587858795880588158825883588458855886588758885889589058915892589358945895589658975898589959005901590259035904590559065907590859095910591159125913591459155916591759185919592059215922592359245925592659275928592959305931593259335934593559365937593859395940594159425943594459455946594759485949595059515952595359545955595659575958595959605961596259635964596559665967596859695970597159725973597459755976597759785979598059815982598359845985598659875988598959905991599259935994599559965997599859996000600160026003600460056006600760086009601060116012601360146015601660176018601960206021602260236024602560266027602860296030603160326033603460356036603760386039604060416042604360446045604660476048604960506051605260536054605560566057605860596060606160626063606460656066606760686069607060716072607360746075607660776078607960806081608260836084608560866087608860896090609160926093609460956096609760986099610061016102610361046105610661076108610961106111611261136114611561166117611861196120612161226123612461256126612761286129613061316132613361346135613661376138613961406141614261436144614561466147614861496150615161526153615461556156615761586159616061616162616361646165616661676168616961706171617261736174617561766177617861796180618161826183618461856186618761886189619061916192619361946195619661976198619962006201620262036204620562066207620862096210621162126213621462156216621762186219622062216222622362246225622662276228622962306231623262336234623562366237623862396240624162426243624462456246624762486249625062516252625362546255625662576258625962606261626262636264626562666267626862696270627162726273627462756276627762786279628062816282628362846285628662876288628962906291629262936294629562966297629862996300630163026303630463056306630763086309631063116312631363146315631663176318631963206321632263236324632563266327632863296330633163326333633463356336633763386339634063416342634363446345634663476348634963506351635263536354635563566357635863596360636163626363636463656366636763686369637063716372637363746375637663776378637963806381638263836384638563866387638863896390639163926393639463956396639763986399640064016402640364046405640664076408640964106411641264136414641564166417641864196420642164226423642464256426642764286429643064316432643364346435643664376438643964406441644264436444644564466447644864496450645164526453645464556456645764586459646064616462646364646465646664676468646964706471647264736474647564766477647864796480648164826483648464856486648764886489649064916492649364946495649664976498649965006501650265036504650565066507650865096510651165126513651465156516651765186519652065216522652365246525652665276528652965306531653265336534653565366537653865396540654165426543654465456546654765486549655065516552655365546555655665576558655965606561656265636564656565666567656865696570657165726573657465756576657765786579658065816582658365846585658665876588658965906591659265936594659565966597659865996600660166026603660466056606660766086609661066116612661366146615661666176618661966206621662266236624662566266627662866296630663166326633663466356636663766386639664066416642664366446645664666476648664966506651665266536654665566566657665866596660666166626663666466656666666766686669667066716672667366746675667666776678667966806681668266836684668566866687668866896690669166926693669466956696669766986699670067016702670367046705670667076708670967106711671267136714671567166717671867196720672167226723672467256726672767286729673067316732673367346735673667376738673967406741674267436744674567466747674867496750675167526753675467556756675767586759676067616762676367646765676667676768676967706771677267736774677567766777677867796780678167826783678467856786678767886789679067916792679367946795679667976798679968006801680268036804680568066807680868096810681168126813681468156816681768186819682068216822682368246825682668276828682968306831683268336834683568366837683868396840684168426843684468456846684768486849685068516852685368546855685668576858685968606861686268636864686568666867686868696870687168726873687468756876687768786879688068816882688368846885688668876888688968906891689268936894689568966897689868996900690169026903690469056906690769086909691069116912691369146915691669176918691969206921692269236924692569266927692869296930693169326933693469356936693769386939694069416942694369446945694669476948694969506951695269536954695569566957695869596960696169626963696469656966696769686969697069716972697369746975697669776978697969806981698269836984698569866987698869896990699169926993699469956996699769986999700070017002700370047005700670077008700970107011701270137014701570167017701870197020702170227023702470257026702770287029703070317032703370347035703670377038703970407041704270437044704570467047704870497050705170527053705470557056705770587059706070617062706370647065706670677068706970707071707270737074707570767077707870797080708170827083708470857086708770887089709070917092709370947095709670977098709971007101710271037104710571067107710871097110711171127113711471157116711771187119712071217122712371247125712671277128712971307131713271337134713571367137713871397140714171427143714471457146714771487149715071517152715371547155715671577158715971607161716271637164716571667167716871697170717171727173717471757176717771787179718071817182718371847185718671877188718971907191719271937194719571967197719871997200720172027203720472057206720772087209721072117212721372147215721672177218721972207221722272237224722572267227722872297230723172327233723472357236723772387239724072417242724372447245724672477248724972507251725272537254725572567257725872597260726172627263726472657266726772687269727072717272727372747275727672777278727972807281728272837284728572867287728872897290729172927293729472957296729772987299730073017302730373047305730673077308730973107311731273137314731573167317731873197320732173227323732473257326732773287329733073317332733373347335733673377338733973407341734273437344734573467347734873497350735173527353735473557356735773587359736073617362736373647365736673677368736973707371737273737374737573767377737873797380738173827383738473857386738773887389739073917392739373947395739673977398739974007401740274037404740574067407740874097410741174127413741474157416741774187419742074217422742374247425742674277428742974307431743274337434743574367437743874397440744174427443744474457446744774487449745074517452745374547455745674577458745974607461746274637464746574667467746874697470747174727473747474757476747774787479748074817482748374847485748674877488748974907491749274937494749574967497749874997500750175027503750475057506750775087509751075117512751375147515751675177518751975207521752275237524752575267527752875297530753175327533753475357536753775387539754075417542754375447545754675477548754975507551755275537554755575567557755875597560756175627563756475657566756775687569757075717572757375747575757675777578757975807581758275837584758575867587758875897590759175927593759475957596759775987599760076017602760376047605760676077608760976107611761276137614761576167617761876197620762176227623762476257626762776287629763076317632763376347635763676377638763976407641764276437644764576467647764876497650765176527653765476557656765776587659766076617662766376647665766676677668766976707671767276737674767576767677767876797680768176827683768476857686768776887689769076917692769376947695769676977698769977007701770277037704770577067707770877097710771177127713771477157716771777187719772077217722772377247725772677277728772977307731773277337734773577367737773877397740774177427743774477457746774777487749775077517752775377547755775677577758775977607761776277637764776577667767776877697770777177727773777477757776777777787779778077817782778377847785778677877788778977907791779277937794779577967797779877997800780178027803780478057806780778087809781078117812781378147815781678177818781978207821782278237824782578267827782878297830783178327833783478357836783778387839784078417842784378447845784678477848784978507851785278537854785578567857785878597860786178627863786478657866786778687869787078717872787378747875787678777878787978807881788278837884788578867887788878897890789178927893789478957896789778987899790079017902790379047905790679077908790979107911791279137914791579167917791879197920792179227923792479257926792779287929793079317932793379347935793679377938793979407941794279437944794579467947794879497950795179527953795479557956795779587959796079617962796379647965796679677968796979707971797279737974797579767977797879797980798179827983798479857986798779887989799079917992799379947995799679977998799980008001800280038004800580068007800880098010801180128013801480158016801780188019802080218022802380248025802680278028802980308031803280338034803580368037803880398040804180428043804480458046804780488049805080518052805380548055805680578058805980608061806280638064806580668067806880698070807180728073807480758076807780788079808080818082808380848085808680878088808980908091809280938094809580968097809880998100810181028103810481058106810781088109811081118112811381148115811681178118811981208121812281238124812581268127812881298130813181328133813481358136813781388139814081418142814381448145814681478148814981508151815281538154815581568157815881598160816181628163816481658166816781688169817081718172817381748175817681778178817981808181818281838184818581868187818881898190819181928193819481958196819781988199820082018202820382048205820682078208820982108211821282138214821582168217821882198220822182228223822482258226822782288229823082318232823382348235823682378238823982408241824282438244824582468247824882498250825182528253825482558256825782588259826082618262826382648265826682678268826982708271827282738274827582768277827882798280828182828283828482858286828782888289829082918292829382948295829682978298829983008301830283038304830583068307830883098310831183128313831483158316831783188319832083218322832383248325832683278328832983308331833283338334833583368337833883398340834183428343834483458346834783488349835083518352835383548355835683578358835983608361836283638364836583668367836883698370837183728373837483758376837783788379838083818382838383848385838683878388838983908391839283938394839583968397839883998400840184028403840484058406840784088409841084118412841384148415841684178418841984208421842284238424842584268427842884298430843184328433843484358436843784388439844084418442844384448445844684478448844984508451845284538454845584568457845884598460846184628463846484658466846784688469847084718472847384748475847684778478847984808481848284838484848584868487848884898490849184928493849484958496849784988499850085018502850385048505850685078508850985108511851285138514851585168517851885198520852185228523852485258526852785288529853085318532853385348535853685378538853985408541854285438544854585468547854885498550855185528553855485558556855785588559856085618562856385648565856685678568856985708571857285738574857585768577857885798580858185828583858485858586858785888589859085918592859385948595859685978598859986008601860286038604860586068607860886098610861186128613861486158616861786188619862086218622862386248625862686278628862986308631863286338634863586368637863886398640864186428643864486458646864786488649865086518652865386548655865686578658865986608661866286638664866586668667866886698670867186728673867486758676867786788679868086818682868386848685868686878688868986908691869286938694869586968697869886998700870187028703870487058706870787088709871087118712871387148715871687178718871987208721872287238724872587268727872887298730873187328733873487358736873787388739874087418742874387448745874687478748874987508751875287538754875587568757875887598760876187628763876487658766876787688769877087718772877387748775877687778778877987808781878287838784878587868787878887898790879187928793879487958796879787988799880088018802880388048805880688078808880988108811881288138814881588168817881888198820882188228823882488258826882788288829883088318832883388348835883688378838883988408841884288438844884588468847884888498850885188528853885488558856885788588859886088618862886388648865886688678868886988708871887288738874887588768877887888798880888188828883888488858886888788888889889088918892889388948895889688978898889989008901890289038904890589068907890889098910891189128913891489158916891789188919892089218922892389248925892689278928892989308931893289338934893589368937893889398940894189428943894489458946894789488949895089518952895389548955895689578958895989608961896289638964896589668967896889698970897189728973897489758976897789788979898089818982898389848985898689878988898989908991899289938994899589968997899889999000900190029003900490059006900790089009901090119012901390149015901690179018901990209021902290239024902590269027902890299030903190329033903490359036903790389039904090419042904390449045904690479048904990509051905290539054905590569057905890599060906190629063906490659066906790689069907090719072907390749075907690779078907990809081908290839084908590869087908890899090909190929093909490959096909790989099910091019102910391049105910691079108910991109111911291139114911591169117911891199120912191229123912491259126912791289129913091319132913391349135913691379138913991409141914291439144914591469147914891499150915191529153915491559156915791589159916091619162916391649165916691679168916991709171917291739174917591769177917891799180918191829183918491859186918791889189919091919192919391949195919691979198919992009201920292039204920592069207920892099210921192129213921492159216921792189219922092219222922392249225922692279228922992309231923292339234923592369237923892399240924192429243924492459246924792489249925092519252925392549255925692579258925992609261926292639264926592669267926892699270927192729273927492759276927792789279928092819282928392849285928692879288928992909291929292939294929592969297929892999300930193029303930493059306930793089309931093119312931393149315931693179318931993209321932293239324932593269327932893299330933193329333933493359336933793389339934093419342934393449345934693479348934993509351935293539354935593569357935893599360936193629363936493659366936793689369937093719372937393749375937693779378937993809381938293839384938593869387938893899390939193929393939493959396939793989399940094019402940394049405940694079408940994109411941294139414941594169417941894199420942194229423942494259426942794289429943094319432943394349435943694379438943994409441944294439444944594469447944894499450945194529453945494559456945794589459946094619462946394649465946694679468946994709471947294739474947594769477947894799480948194829483948494859486948794889489949094919492949394949495949694979498949995009501950295039504950595069507950895099510951195129513951495159516951795189519952095219522952395249525952695279528952995309531953295339534953595369537953895399540954195429543954495459546954795489549955095519552955395549555955695579558955995609561956295639564956595669567956895699570957195729573957495759576957795789579958095819582958395849585958695879588958995909591959295939594959595969597959895999600960196029603960496059606960796089609961096119612961396149615961696179618961996209621962296239624962596269627962896299630963196329633963496359636963796389639964096419642964396449645964696479648964996509651965296539654965596569657965896599660966196629663966496659666966796689669967096719672967396749675967696779678967996809681968296839684968596869687968896899690969196929693969496959696969796989699970097019702970397049705970697079708970997109711971297139714971597169717971897199720972197229723972497259726972797289729973097319732973397349735973697379738973997409741974297439744974597469747974897499750975197529753975497559756975797589759976097619762976397649765976697679768976997709771977297739774977597769777977897799780978197829783978497859786978797889789979097919792979397949795979697979798979998009801980298039804980598069807980898099810981198129813981498159816981798189819982098219822982398249825982698279828982998309831983298339834983598369837983898399840984198429843984498459846984798489849985098519852985398549855985698579858985998609861986298639864986598669867986898699870987198729873987498759876987798789879988098819882988398849885988698879888988998909891989298939894989598969897989898999900990199029903990499059906990799089909991099119912991399149915991699179918991999209921992299239924992599269927992899299930993199329933993499359936993799389939994099419942994399449945994699479948994999509951995299539954995599569957995899599960996199629963996499659966996799689969997099719972997399749975997699779978997999809981998299839984998599869987998899899990999199929993999499959996999799989999\n"
     ]
    }
   ],
   "source": [
    "# 低效的做法 (在循环中拼接字符串)\n",
    "result = \"\"\n",
    "for i in range(10000):\n",
    "    result += str(i) # 每次循环都创建一个新字符串，效率低！\n",
    "print(result)"
   ]
  },
  {
   "cell_type": "code",
   "execution_count": 20,
   "id": "29eee206",
   "metadata": {},
   "outputs": [
    {
     "name": "stdout",
     "output_type": "stream",
     "text": [
      "0123456789101112131415161718192021222324252627282930313233343536373839404142434445464748495051525354555657585960616263646566676869707172737475767778798081828384858687888990919293949596979899100101102103104105106107108109110111112113114115116117118119120121122123124125126127128129130131132133134135136137138139140141142143144145146147148149150151152153154155156157158159160161162163164165166167168169170171172173174175176177178179180181182183184185186187188189190191192193194195196197198199200201202203204205206207208209210211212213214215216217218219220221222223224225226227228229230231232233234235236237238239240241242243244245246247248249250251252253254255256257258259260261262263264265266267268269270271272273274275276277278279280281282283284285286287288289290291292293294295296297298299300301302303304305306307308309310311312313314315316317318319320321322323324325326327328329330331332333334335336337338339340341342343344345346347348349350351352353354355356357358359360361362363364365366367368369370371372373374375376377378379380381382383384385386387388389390391392393394395396397398399400401402403404405406407408409410411412413414415416417418419420421422423424425426427428429430431432433434435436437438439440441442443444445446447448449450451452453454455456457458459460461462463464465466467468469470471472473474475476477478479480481482483484485486487488489490491492493494495496497498499500501502503504505506507508509510511512513514515516517518519520521522523524525526527528529530531532533534535536537538539540541542543544545546547548549550551552553554555556557558559560561562563564565566567568569570571572573574575576577578579580581582583584585586587588589590591592593594595596597598599600601602603604605606607608609610611612613614615616617618619620621622623624625626627628629630631632633634635636637638639640641642643644645646647648649650651652653654655656657658659660661662663664665666667668669670671672673674675676677678679680681682683684685686687688689690691692693694695696697698699700701702703704705706707708709710711712713714715716717718719720721722723724725726727728729730731732733734735736737738739740741742743744745746747748749750751752753754755756757758759760761762763764765766767768769770771772773774775776777778779780781782783784785786787788789790791792793794795796797798799800801802803804805806807808809810811812813814815816817818819820821822823824825826827828829830831832833834835836837838839840841842843844845846847848849850851852853854855856857858859860861862863864865866867868869870871872873874875876877878879880881882883884885886887888889890891892893894895896897898899900901902903904905906907908909910911912913914915916917918919920921922923924925926927928929930931932933934935936937938939940941942943944945946947948949950951952953954955956957958959960961962963964965966967968969970971972973974975976977978979980981982983984985986987988989990991992993994995996997998999100010011002100310041005100610071008100910101011101210131014101510161017101810191020102110221023102410251026102710281029103010311032103310341035103610371038103910401041104210431044104510461047104810491050105110521053105410551056105710581059106010611062106310641065106610671068106910701071107210731074107510761077107810791080108110821083108410851086108710881089109010911092109310941095109610971098109911001101110211031104110511061107110811091110111111121113111411151116111711181119112011211122112311241125112611271128112911301131113211331134113511361137113811391140114111421143114411451146114711481149115011511152115311541155115611571158115911601161116211631164116511661167116811691170117111721173117411751176117711781179118011811182118311841185118611871188118911901191119211931194119511961197119811991200120112021203120412051206120712081209121012111212121312141215121612171218121912201221122212231224122512261227122812291230123112321233123412351236123712381239124012411242124312441245124612471248124912501251125212531254125512561257125812591260126112621263126412651266126712681269127012711272127312741275127612771278127912801281128212831284128512861287128812891290129112921293129412951296129712981299130013011302130313041305130613071308130913101311131213131314131513161317131813191320132113221323132413251326132713281329133013311332133313341335133613371338133913401341134213431344134513461347134813491350135113521353135413551356135713581359136013611362136313641365136613671368136913701371137213731374137513761377137813791380138113821383138413851386138713881389139013911392139313941395139613971398139914001401140214031404140514061407140814091410141114121413141414151416141714181419142014211422142314241425142614271428142914301431143214331434143514361437143814391440144114421443144414451446144714481449145014511452145314541455145614571458145914601461146214631464146514661467146814691470147114721473147414751476147714781479148014811482148314841485148614871488148914901491149214931494149514961497149814991500150115021503150415051506150715081509151015111512151315141515151615171518151915201521152215231524152515261527152815291530153115321533153415351536153715381539154015411542154315441545154615471548154915501551155215531554155515561557155815591560156115621563156415651566156715681569157015711572157315741575157615771578157915801581158215831584158515861587158815891590159115921593159415951596159715981599160016011602160316041605160616071608160916101611161216131614161516161617161816191620162116221623162416251626162716281629163016311632163316341635163616371638163916401641164216431644164516461647164816491650165116521653165416551656165716581659166016611662166316641665166616671668166916701671167216731674167516761677167816791680168116821683168416851686168716881689169016911692169316941695169616971698169917001701170217031704170517061707170817091710171117121713171417151716171717181719172017211722172317241725172617271728172917301731173217331734173517361737173817391740174117421743174417451746174717481749175017511752175317541755175617571758175917601761176217631764176517661767176817691770177117721773177417751776177717781779178017811782178317841785178617871788178917901791179217931794179517961797179817991800180118021803180418051806180718081809181018111812181318141815181618171818181918201821182218231824182518261827182818291830183118321833183418351836183718381839184018411842184318441845184618471848184918501851185218531854185518561857185818591860186118621863186418651866186718681869187018711872187318741875187618771878187918801881188218831884188518861887188818891890189118921893189418951896189718981899190019011902190319041905190619071908190919101911191219131914191519161917191819191920192119221923192419251926192719281929193019311932193319341935193619371938193919401941194219431944194519461947194819491950195119521953195419551956195719581959196019611962196319641965196619671968196919701971197219731974197519761977197819791980198119821983198419851986198719881989199019911992199319941995199619971998199920002001200220032004200520062007200820092010201120122013201420152016201720182019202020212022202320242025202620272028202920302031203220332034203520362037203820392040204120422043204420452046204720482049205020512052205320542055205620572058205920602061206220632064206520662067206820692070207120722073207420752076207720782079208020812082208320842085208620872088208920902091209220932094209520962097209820992100210121022103210421052106210721082109211021112112211321142115211621172118211921202121212221232124212521262127212821292130213121322133213421352136213721382139214021412142214321442145214621472148214921502151215221532154215521562157215821592160216121622163216421652166216721682169217021712172217321742175217621772178217921802181218221832184218521862187218821892190219121922193219421952196219721982199220022012202220322042205220622072208220922102211221222132214221522162217221822192220222122222223222422252226222722282229223022312232223322342235223622372238223922402241224222432244224522462247224822492250225122522253225422552256225722582259226022612262226322642265226622672268226922702271227222732274227522762277227822792280228122822283228422852286228722882289229022912292229322942295229622972298229923002301230223032304230523062307230823092310231123122313231423152316231723182319232023212322232323242325232623272328232923302331233223332334233523362337233823392340234123422343234423452346234723482349235023512352235323542355235623572358235923602361236223632364236523662367236823692370237123722373237423752376237723782379238023812382238323842385238623872388238923902391239223932394239523962397239823992400240124022403240424052406240724082409241024112412241324142415241624172418241924202421242224232424242524262427242824292430243124322433243424352436243724382439244024412442244324442445244624472448244924502451245224532454245524562457245824592460246124622463246424652466246724682469247024712472247324742475247624772478247924802481248224832484248524862487248824892490249124922493249424952496249724982499250025012502250325042505250625072508250925102511251225132514251525162517251825192520252125222523252425252526252725282529253025312532253325342535253625372538253925402541254225432544254525462547254825492550255125522553255425552556255725582559256025612562256325642565256625672568256925702571257225732574257525762577257825792580258125822583258425852586258725882589259025912592259325942595259625972598259926002601260226032604260526062607260826092610261126122613261426152616261726182619262026212622262326242625262626272628262926302631263226332634263526362637263826392640264126422643264426452646264726482649265026512652265326542655265626572658265926602661266226632664266526662667266826692670267126722673267426752676267726782679268026812682268326842685268626872688268926902691269226932694269526962697269826992700270127022703270427052706270727082709271027112712271327142715271627172718271927202721272227232724272527262727272827292730273127322733273427352736273727382739274027412742274327442745274627472748274927502751275227532754275527562757275827592760276127622763276427652766276727682769277027712772277327742775277627772778277927802781278227832784278527862787278827892790279127922793279427952796279727982799280028012802280328042805280628072808280928102811281228132814281528162817281828192820282128222823282428252826282728282829283028312832283328342835283628372838283928402841284228432844284528462847284828492850285128522853285428552856285728582859286028612862286328642865286628672868286928702871287228732874287528762877287828792880288128822883288428852886288728882889289028912892289328942895289628972898289929002901290229032904290529062907290829092910291129122913291429152916291729182919292029212922292329242925292629272928292929302931293229332934293529362937293829392940294129422943294429452946294729482949295029512952295329542955295629572958295929602961296229632964296529662967296829692970297129722973297429752976297729782979298029812982298329842985298629872988298929902991299229932994299529962997299829993000300130023003300430053006300730083009301030113012301330143015301630173018301930203021302230233024302530263027302830293030303130323033303430353036303730383039304030413042304330443045304630473048304930503051305230533054305530563057305830593060306130623063306430653066306730683069307030713072307330743075307630773078307930803081308230833084308530863087308830893090309130923093309430953096309730983099310031013102310331043105310631073108310931103111311231133114311531163117311831193120312131223123312431253126312731283129313031313132313331343135313631373138313931403141314231433144314531463147314831493150315131523153315431553156315731583159316031613162316331643165316631673168316931703171317231733174317531763177317831793180318131823183318431853186318731883189319031913192319331943195319631973198319932003201320232033204320532063207320832093210321132123213321432153216321732183219322032213222322332243225322632273228322932303231323232333234323532363237323832393240324132423243324432453246324732483249325032513252325332543255325632573258325932603261326232633264326532663267326832693270327132723273327432753276327732783279328032813282328332843285328632873288328932903291329232933294329532963297329832993300330133023303330433053306330733083309331033113312331333143315331633173318331933203321332233233324332533263327332833293330333133323333333433353336333733383339334033413342334333443345334633473348334933503351335233533354335533563357335833593360336133623363336433653366336733683369337033713372337333743375337633773378337933803381338233833384338533863387338833893390339133923393339433953396339733983399340034013402340334043405340634073408340934103411341234133414341534163417341834193420342134223423342434253426342734283429343034313432343334343435343634373438343934403441344234433444344534463447344834493450345134523453345434553456345734583459346034613462346334643465346634673468346934703471347234733474347534763477347834793480348134823483348434853486348734883489349034913492349334943495349634973498349935003501350235033504350535063507350835093510351135123513351435153516351735183519352035213522352335243525352635273528352935303531353235333534353535363537353835393540354135423543354435453546354735483549355035513552355335543555355635573558355935603561356235633564356535663567356835693570357135723573357435753576357735783579358035813582358335843585358635873588358935903591359235933594359535963597359835993600360136023603360436053606360736083609361036113612361336143615361636173618361936203621362236233624362536263627362836293630363136323633363436353636363736383639364036413642364336443645364636473648364936503651365236533654365536563657365836593660366136623663366436653666366736683669367036713672367336743675367636773678367936803681368236833684368536863687368836893690369136923693369436953696369736983699370037013702370337043705370637073708370937103711371237133714371537163717371837193720372137223723372437253726372737283729373037313732373337343735373637373738373937403741374237433744374537463747374837493750375137523753375437553756375737583759376037613762376337643765376637673768376937703771377237733774377537763777377837793780378137823783378437853786378737883789379037913792379337943795379637973798379938003801380238033804380538063807380838093810381138123813381438153816381738183819382038213822382338243825382638273828382938303831383238333834383538363837383838393840384138423843384438453846384738483849385038513852385338543855385638573858385938603861386238633864386538663867386838693870387138723873387438753876387738783879388038813882388338843885388638873888388938903891389238933894389538963897389838993900390139023903390439053906390739083909391039113912391339143915391639173918391939203921392239233924392539263927392839293930393139323933393439353936393739383939394039413942394339443945394639473948394939503951395239533954395539563957395839593960396139623963396439653966396739683969397039713972397339743975397639773978397939803981398239833984398539863987398839893990399139923993399439953996399739983999400040014002400340044005400640074008400940104011401240134014401540164017401840194020402140224023402440254026402740284029403040314032403340344035403640374038403940404041404240434044404540464047404840494050405140524053405440554056405740584059406040614062406340644065406640674068406940704071407240734074407540764077407840794080408140824083408440854086408740884089409040914092409340944095409640974098409941004101410241034104410541064107410841094110411141124113411441154116411741184119412041214122412341244125412641274128412941304131413241334134413541364137413841394140414141424143414441454146414741484149415041514152415341544155415641574158415941604161416241634164416541664167416841694170417141724173417441754176417741784179418041814182418341844185418641874188418941904191419241934194419541964197419841994200420142024203420442054206420742084209421042114212421342144215421642174218421942204221422242234224422542264227422842294230423142324233423442354236423742384239424042414242424342444245424642474248424942504251425242534254425542564257425842594260426142624263426442654266426742684269427042714272427342744275427642774278427942804281428242834284428542864287428842894290429142924293429442954296429742984299430043014302430343044305430643074308430943104311431243134314431543164317431843194320432143224323432443254326432743284329433043314332433343344335433643374338433943404341434243434344434543464347434843494350435143524353435443554356435743584359436043614362436343644365436643674368436943704371437243734374437543764377437843794380438143824383438443854386438743884389439043914392439343944395439643974398439944004401440244034404440544064407440844094410441144124413441444154416441744184419442044214422442344244425442644274428442944304431443244334434443544364437443844394440444144424443444444454446444744484449445044514452445344544455445644574458445944604461446244634464446544664467446844694470447144724473447444754476447744784479448044814482448344844485448644874488448944904491449244934494449544964497449844994500450145024503450445054506450745084509451045114512451345144515451645174518451945204521452245234524452545264527452845294530453145324533453445354536453745384539454045414542454345444545454645474548454945504551455245534554455545564557455845594560456145624563456445654566456745684569457045714572457345744575457645774578457945804581458245834584458545864587458845894590459145924593459445954596459745984599460046014602460346044605460646074608460946104611461246134614461546164617461846194620462146224623462446254626462746284629463046314632463346344635463646374638463946404641464246434644464546464647464846494650465146524653465446554656465746584659466046614662466346644665466646674668466946704671467246734674467546764677467846794680468146824683468446854686468746884689469046914692469346944695469646974698469947004701470247034704470547064707470847094710471147124713471447154716471747184719472047214722472347244725472647274728472947304731473247334734473547364737473847394740474147424743474447454746474747484749475047514752475347544755475647574758475947604761476247634764476547664767476847694770477147724773477447754776477747784779478047814782478347844785478647874788478947904791479247934794479547964797479847994800480148024803480448054806480748084809481048114812481348144815481648174818481948204821482248234824482548264827482848294830483148324833483448354836483748384839484048414842484348444845484648474848484948504851485248534854485548564857485848594860486148624863486448654866486748684869487048714872487348744875487648774878487948804881488248834884488548864887488848894890489148924893489448954896489748984899490049014902490349044905490649074908490949104911491249134914491549164917491849194920492149224923492449254926492749284929493049314932493349344935493649374938493949404941494249434944494549464947494849494950495149524953495449554956495749584959496049614962496349644965496649674968496949704971497249734974497549764977497849794980498149824983498449854986498749884989499049914992499349944995499649974998499950005001500250035004500550065007500850095010501150125013501450155016501750185019502050215022502350245025502650275028502950305031503250335034503550365037503850395040504150425043504450455046504750485049505050515052505350545055505650575058505950605061506250635064506550665067506850695070507150725073507450755076507750785079508050815082508350845085508650875088508950905091509250935094509550965097509850995100510151025103510451055106510751085109511051115112511351145115511651175118511951205121512251235124512551265127512851295130513151325133513451355136513751385139514051415142514351445145514651475148514951505151515251535154515551565157515851595160516151625163516451655166516751685169517051715172517351745175517651775178517951805181518251835184518551865187518851895190519151925193519451955196519751985199520052015202520352045205520652075208520952105211521252135214521552165217521852195220522152225223522452255226522752285229523052315232523352345235523652375238523952405241524252435244524552465247524852495250525152525253525452555256525752585259526052615262526352645265526652675268526952705271527252735274527552765277527852795280528152825283528452855286528752885289529052915292529352945295529652975298529953005301530253035304530553065307530853095310531153125313531453155316531753185319532053215322532353245325532653275328532953305331533253335334533553365337533853395340534153425343534453455346534753485349535053515352535353545355535653575358535953605361536253635364536553665367536853695370537153725373537453755376537753785379538053815382538353845385538653875388538953905391539253935394539553965397539853995400540154025403540454055406540754085409541054115412541354145415541654175418541954205421542254235424542554265427542854295430543154325433543454355436543754385439544054415442544354445445544654475448544954505451545254535454545554565457545854595460546154625463546454655466546754685469547054715472547354745475547654775478547954805481548254835484548554865487548854895490549154925493549454955496549754985499550055015502550355045505550655075508550955105511551255135514551555165517551855195520552155225523552455255526552755285529553055315532553355345535553655375538553955405541554255435544554555465547554855495550555155525553555455555556555755585559556055615562556355645565556655675568556955705571557255735574557555765577557855795580558155825583558455855586558755885589559055915592559355945595559655975598559956005601560256035604560556065607560856095610561156125613561456155616561756185619562056215622562356245625562656275628562956305631563256335634563556365637563856395640564156425643564456455646564756485649565056515652565356545655565656575658565956605661566256635664566556665667566856695670567156725673567456755676567756785679568056815682568356845685568656875688568956905691569256935694569556965697569856995700570157025703570457055706570757085709571057115712571357145715571657175718571957205721572257235724572557265727572857295730573157325733573457355736573757385739574057415742574357445745574657475748574957505751575257535754575557565757575857595760576157625763576457655766576757685769577057715772577357745775577657775778577957805781578257835784578557865787578857895790579157925793579457955796579757985799580058015802580358045805580658075808580958105811581258135814581558165817581858195820582158225823582458255826582758285829583058315832583358345835583658375838583958405841584258435844584558465847584858495850585158525853585458555856585758585859586058615862586358645865586658675868586958705871587258735874587558765877587858795880588158825883588458855886588758885889589058915892589358945895589658975898589959005901590259035904590559065907590859095910591159125913591459155916591759185919592059215922592359245925592659275928592959305931593259335934593559365937593859395940594159425943594459455946594759485949595059515952595359545955595659575958595959605961596259635964596559665967596859695970597159725973597459755976597759785979598059815982598359845985598659875988598959905991599259935994599559965997599859996000600160026003600460056006600760086009601060116012601360146015601660176018601960206021602260236024602560266027602860296030603160326033603460356036603760386039604060416042604360446045604660476048604960506051605260536054605560566057605860596060606160626063606460656066606760686069607060716072607360746075607660776078607960806081608260836084608560866087608860896090609160926093609460956096609760986099610061016102610361046105610661076108610961106111611261136114611561166117611861196120612161226123612461256126612761286129613061316132613361346135613661376138613961406141614261436144614561466147614861496150615161526153615461556156615761586159616061616162616361646165616661676168616961706171617261736174617561766177617861796180618161826183618461856186618761886189619061916192619361946195619661976198619962006201620262036204620562066207620862096210621162126213621462156216621762186219622062216222622362246225622662276228622962306231623262336234623562366237623862396240624162426243624462456246624762486249625062516252625362546255625662576258625962606261626262636264626562666267626862696270627162726273627462756276627762786279628062816282628362846285628662876288628962906291629262936294629562966297629862996300630163026303630463056306630763086309631063116312631363146315631663176318631963206321632263236324632563266327632863296330633163326333633463356336633763386339634063416342634363446345634663476348634963506351635263536354635563566357635863596360636163626363636463656366636763686369637063716372637363746375637663776378637963806381638263836384638563866387638863896390639163926393639463956396639763986399640064016402640364046405640664076408640964106411641264136414641564166417641864196420642164226423642464256426642764286429643064316432643364346435643664376438643964406441644264436444644564466447644864496450645164526453645464556456645764586459646064616462646364646465646664676468646964706471647264736474647564766477647864796480648164826483648464856486648764886489649064916492649364946495649664976498649965006501650265036504650565066507650865096510651165126513651465156516651765186519652065216522652365246525652665276528652965306531653265336534653565366537653865396540654165426543654465456546654765486549655065516552655365546555655665576558655965606561656265636564656565666567656865696570657165726573657465756576657765786579658065816582658365846585658665876588658965906591659265936594659565966597659865996600660166026603660466056606660766086609661066116612661366146615661666176618661966206621662266236624662566266627662866296630663166326633663466356636663766386639664066416642664366446645664666476648664966506651665266536654665566566657665866596660666166626663666466656666666766686669667066716672667366746675667666776678667966806681668266836684668566866687668866896690669166926693669466956696669766986699670067016702670367046705670667076708670967106711671267136714671567166717671867196720672167226723672467256726672767286729673067316732673367346735673667376738673967406741674267436744674567466747674867496750675167526753675467556756675767586759676067616762676367646765676667676768676967706771677267736774677567766777677867796780678167826783678467856786678767886789679067916792679367946795679667976798679968006801680268036804680568066807680868096810681168126813681468156816681768186819682068216822682368246825682668276828682968306831683268336834683568366837683868396840684168426843684468456846684768486849685068516852685368546855685668576858685968606861686268636864686568666867686868696870687168726873687468756876687768786879688068816882688368846885688668876888688968906891689268936894689568966897689868996900690169026903690469056906690769086909691069116912691369146915691669176918691969206921692269236924692569266927692869296930693169326933693469356936693769386939694069416942694369446945694669476948694969506951695269536954695569566957695869596960696169626963696469656966696769686969697069716972697369746975697669776978697969806981698269836984698569866987698869896990699169926993699469956996699769986999700070017002700370047005700670077008700970107011701270137014701570167017701870197020702170227023702470257026702770287029703070317032703370347035703670377038703970407041704270437044704570467047704870497050705170527053705470557056705770587059706070617062706370647065706670677068706970707071707270737074707570767077707870797080708170827083708470857086708770887089709070917092709370947095709670977098709971007101710271037104710571067107710871097110711171127113711471157116711771187119712071217122712371247125712671277128712971307131713271337134713571367137713871397140714171427143714471457146714771487149715071517152715371547155715671577158715971607161716271637164716571667167716871697170717171727173717471757176717771787179718071817182718371847185718671877188718971907191719271937194719571967197719871997200720172027203720472057206720772087209721072117212721372147215721672177218721972207221722272237224722572267227722872297230723172327233723472357236723772387239724072417242724372447245724672477248724972507251725272537254725572567257725872597260726172627263726472657266726772687269727072717272727372747275727672777278727972807281728272837284728572867287728872897290729172927293729472957296729772987299730073017302730373047305730673077308730973107311731273137314731573167317731873197320732173227323732473257326732773287329733073317332733373347335733673377338733973407341734273437344734573467347734873497350735173527353735473557356735773587359736073617362736373647365736673677368736973707371737273737374737573767377737873797380738173827383738473857386738773887389739073917392739373947395739673977398739974007401740274037404740574067407740874097410741174127413741474157416741774187419742074217422742374247425742674277428742974307431743274337434743574367437743874397440744174427443744474457446744774487449745074517452745374547455745674577458745974607461746274637464746574667467746874697470747174727473747474757476747774787479748074817482748374847485748674877488748974907491749274937494749574967497749874997500750175027503750475057506750775087509751075117512751375147515751675177518751975207521752275237524752575267527752875297530753175327533753475357536753775387539754075417542754375447545754675477548754975507551755275537554755575567557755875597560756175627563756475657566756775687569757075717572757375747575757675777578757975807581758275837584758575867587758875897590759175927593759475957596759775987599760076017602760376047605760676077608760976107611761276137614761576167617761876197620762176227623762476257626762776287629763076317632763376347635763676377638763976407641764276437644764576467647764876497650765176527653765476557656765776587659766076617662766376647665766676677668766976707671767276737674767576767677767876797680768176827683768476857686768776887689769076917692769376947695769676977698769977007701770277037704770577067707770877097710771177127713771477157716771777187719772077217722772377247725772677277728772977307731773277337734773577367737773877397740774177427743774477457746774777487749775077517752775377547755775677577758775977607761776277637764776577667767776877697770777177727773777477757776777777787779778077817782778377847785778677877788778977907791779277937794779577967797779877997800780178027803780478057806780778087809781078117812781378147815781678177818781978207821782278237824782578267827782878297830783178327833783478357836783778387839784078417842784378447845784678477848784978507851785278537854785578567857785878597860786178627863786478657866786778687869787078717872787378747875787678777878787978807881788278837884788578867887788878897890789178927893789478957896789778987899790079017902790379047905790679077908790979107911791279137914791579167917791879197920792179227923792479257926792779287929793079317932793379347935793679377938793979407941794279437944794579467947794879497950795179527953795479557956795779587959796079617962796379647965796679677968796979707971797279737974797579767977797879797980798179827983798479857986798779887989799079917992799379947995799679977998799980008001800280038004800580068007800880098010801180128013801480158016801780188019802080218022802380248025802680278028802980308031803280338034803580368037803880398040804180428043804480458046804780488049805080518052805380548055805680578058805980608061806280638064806580668067806880698070807180728073807480758076807780788079808080818082808380848085808680878088808980908091809280938094809580968097809880998100810181028103810481058106810781088109811081118112811381148115811681178118811981208121812281238124812581268127812881298130813181328133813481358136813781388139814081418142814381448145814681478148814981508151815281538154815581568157815881598160816181628163816481658166816781688169817081718172817381748175817681778178817981808181818281838184818581868187818881898190819181928193819481958196819781988199820082018202820382048205820682078208820982108211821282138214821582168217821882198220822182228223822482258226822782288229823082318232823382348235823682378238823982408241824282438244824582468247824882498250825182528253825482558256825782588259826082618262826382648265826682678268826982708271827282738274827582768277827882798280828182828283828482858286828782888289829082918292829382948295829682978298829983008301830283038304830583068307830883098310831183128313831483158316831783188319832083218322832383248325832683278328832983308331833283338334833583368337833883398340834183428343834483458346834783488349835083518352835383548355835683578358835983608361836283638364836583668367836883698370837183728373837483758376837783788379838083818382838383848385838683878388838983908391839283938394839583968397839883998400840184028403840484058406840784088409841084118412841384148415841684178418841984208421842284238424842584268427842884298430843184328433843484358436843784388439844084418442844384448445844684478448844984508451845284538454845584568457845884598460846184628463846484658466846784688469847084718472847384748475847684778478847984808481848284838484848584868487848884898490849184928493849484958496849784988499850085018502850385048505850685078508850985108511851285138514851585168517851885198520852185228523852485258526852785288529853085318532853385348535853685378538853985408541854285438544854585468547854885498550855185528553855485558556855785588559856085618562856385648565856685678568856985708571857285738574857585768577857885798580858185828583858485858586858785888589859085918592859385948595859685978598859986008601860286038604860586068607860886098610861186128613861486158616861786188619862086218622862386248625862686278628862986308631863286338634863586368637863886398640864186428643864486458646864786488649865086518652865386548655865686578658865986608661866286638664866586668667866886698670867186728673867486758676867786788679868086818682868386848685868686878688868986908691869286938694869586968697869886998700870187028703870487058706870787088709871087118712871387148715871687178718871987208721872287238724872587268727872887298730873187328733873487358736873787388739874087418742874387448745874687478748874987508751875287538754875587568757875887598760876187628763876487658766876787688769877087718772877387748775877687778778877987808781878287838784878587868787878887898790879187928793879487958796879787988799880088018802880388048805880688078808880988108811881288138814881588168817881888198820882188228823882488258826882788288829883088318832883388348835883688378838883988408841884288438844884588468847884888498850885188528853885488558856885788588859886088618862886388648865886688678868886988708871887288738874887588768877887888798880888188828883888488858886888788888889889088918892889388948895889688978898889989008901890289038904890589068907890889098910891189128913891489158916891789188919892089218922892389248925892689278928892989308931893289338934893589368937893889398940894189428943894489458946894789488949895089518952895389548955895689578958895989608961896289638964896589668967896889698970897189728973897489758976897789788979898089818982898389848985898689878988898989908991899289938994899589968997899889999000900190029003900490059006900790089009901090119012901390149015901690179018901990209021902290239024902590269027902890299030903190329033903490359036903790389039904090419042904390449045904690479048904990509051905290539054905590569057905890599060906190629063906490659066906790689069907090719072907390749075907690779078907990809081908290839084908590869087908890899090909190929093909490959096909790989099910091019102910391049105910691079108910991109111911291139114911591169117911891199120912191229123912491259126912791289129913091319132913391349135913691379138913991409141914291439144914591469147914891499150915191529153915491559156915791589159916091619162916391649165916691679168916991709171917291739174917591769177917891799180918191829183918491859186918791889189919091919192919391949195919691979198919992009201920292039204920592069207920892099210921192129213921492159216921792189219922092219222922392249225922692279228922992309231923292339234923592369237923892399240924192429243924492459246924792489249925092519252925392549255925692579258925992609261926292639264926592669267926892699270927192729273927492759276927792789279928092819282928392849285928692879288928992909291929292939294929592969297929892999300930193029303930493059306930793089309931093119312931393149315931693179318931993209321932293239324932593269327932893299330933193329333933493359336933793389339934093419342934393449345934693479348934993509351935293539354935593569357935893599360936193629363936493659366936793689369937093719372937393749375937693779378937993809381938293839384938593869387938893899390939193929393939493959396939793989399940094019402940394049405940694079408940994109411941294139414941594169417941894199420942194229423942494259426942794289429943094319432943394349435943694379438943994409441944294439444944594469447944894499450945194529453945494559456945794589459946094619462946394649465946694679468946994709471947294739474947594769477947894799480948194829483948494859486948794889489949094919492949394949495949694979498949995009501950295039504950595069507950895099510951195129513951495159516951795189519952095219522952395249525952695279528952995309531953295339534953595369537953895399540954195429543954495459546954795489549955095519552955395549555955695579558955995609561956295639564956595669567956895699570957195729573957495759576957795789579958095819582958395849585958695879588958995909591959295939594959595969597959895999600960196029603960496059606960796089609961096119612961396149615961696179618961996209621962296239624962596269627962896299630963196329633963496359636963796389639964096419642964396449645964696479648964996509651965296539654965596569657965896599660966196629663966496659666966796689669967096719672967396749675967696779678967996809681968296839684968596869687968896899690969196929693969496959696969796989699970097019702970397049705970697079708970997109711971297139714971597169717971897199720972197229723972497259726972797289729973097319732973397349735973697379738973997409741974297439744974597469747974897499750975197529753975497559756975797589759976097619762976397649765976697679768976997709771977297739774977597769777977897799780978197829783978497859786978797889789979097919792979397949795979697979798979998009801980298039804980598069807980898099810981198129813981498159816981798189819982098219822982398249825982698279828982998309831983298339834983598369837983898399840984198429843984498459846984798489849985098519852985398549855985698579858985998609861986298639864986598669867986898699870987198729873987498759876987798789879988098819882988398849885988698879888988998909891989298939894989598969897989898999900990199029903990499059906990799089909991099119912991399149915991699179918991999209921992299239924992599269927992899299930993199329933993499359936993799389939994099419942994399449945994699479948994999509951995299539954995599569957995899599960996199629963996499659966996799689969997099719972997399749975997699779978997999809981998299839984998599869987998899899990999199929993999499959996999799989999\n"
     ]
    }
   ],
   "source": [
    "# 高效的做法 (使用列表和 join())\n",
    "parts = [] # 列表是可变的，追加元素效率很高\n",
    "for i in range(10000):\n",
    "    parts.append(str(i))\n",
    "result = \"\".join(parts) # 最后只创建一次字符串\n",
    "print(result)"
   ]
  },
  {
   "cell_type": "markdown",
   "id": "e08765e4",
   "metadata": {},
   "source": [
    "**如何“改变”字符串？**\n",
    "由于不可变性，你无法直接通过索引修改某个字符。"
   ]
  },
  {
   "cell_type": "code",
   "execution_count": 21,
   "id": "dea6ec5e",
   "metadata": {},
   "outputs": [
    {
     "ename": "TypeError",
     "evalue": "'str' object does not support item assignment",
     "output_type": "error",
     "traceback": [
      "\u001b[31m---------------------------------------------------------------------------\u001b[39m",
      "\u001b[31mTypeError\u001b[39m                                 Traceback (most recent call last)",
      "\u001b[36mCell\u001b[39m\u001b[36m \u001b[39m\u001b[32mIn[21]\u001b[39m\u001b[32m, line 2\u001b[39m\n\u001b[32m      1\u001b[39m s = \u001b[33m\"\u001b[39m\u001b[33mhello\u001b[39m\u001b[33m\"\u001b[39m\n\u001b[32m----> \u001b[39m\u001b[32m2\u001b[39m \u001b[43ms\u001b[49m\u001b[43m[\u001b[49m\u001b[32;43m0\u001b[39;49m\u001b[43m]\u001b[49m = \u001b[33m'\u001b[39m\u001b[33mH\u001b[39m\u001b[33m'\u001b[39m \u001b[38;5;66;03m# 这行代码会报错：TypeError\u001b[39;00m\n",
      "\u001b[31mTypeError\u001b[39m: 'str' object does not support item assignment"
     ]
    }
   ],
   "source": [
    "s = \"hello\"\n",
    "s[0] = 'H' # 这行代码会报错：TypeError"
   ]
  },
  {
   "cell_type": "markdown",
   "id": "a3d3f38c",
   "metadata": {},
   "source": []
  },
  {
   "cell_type": "code",
   "execution_count": 22,
   "id": "ac00fb50",
   "metadata": {},
   "outputs": [
    {
     "name": "stdout",
     "output_type": "stream",
     "text": [
      "Hello\n"
     ]
    }
   ],
   "source": [
    "s = \"hello\"\n",
    "new_s = \"H\" + s[1:] # 切片拼接\n",
    "print(new_s) # Hello"
   ]
  },
  {
   "cell_type": "markdown",
   "id": "c7e690f4",
   "metadata": {},
   "source": [
    "### **f-Strings 实战速成手册**\n",
    "\n",
    "#### **核心规则：记住 `f` 前缀和 `{}`**\n",
    "在字符串前加 `f` 或 `F`，然后在字符串内部用 `{}` 包裹变量或表达式。"
   ]
  },
  {
   "cell_type": "code",
   "execution_count": null,
   "id": "5a2f9285",
   "metadata": {},
   "outputs": [],
   "source": [
    "name = \"Alex\"\n",
    "age = 28\n",
    "print(f\"My name is {name} and I'm {age} years old.\")\n",
    "# 输出: My name is Alex and I'm 28 years old."
   ]
  },
  {
   "cell_type": "markdown",
   "id": "ebf5b178",
   "metadata": {},
   "source": [
    "#### **1. 在 `{}` 里玩转表达式**\n",
    "不仅仅是变量，你可以放入任何有效的 Python 表达式！"
   ]
  },
  {
   "cell_type": "code",
   "execution_count": 24,
   "id": "d3b1ce7d",
   "metadata": {},
   "outputs": [
    {
     "name": "stdout",
     "output_type": "stream",
     "text": [
      "5 + 3 = 8, 5 * 3 = 15\n"
     ]
    }
   ],
   "source": [
    "# 数学运算\n",
    "a = 5\n",
    "b = 3\n",
    "print(f\"{a} + {b} = {a + b}, {a} * {b} = {a * b}\")\n",
    "# 输出: 5 + 3 = 8, 5 * 3 = 15"
   ]
  },
  {
   "cell_type": "code",
   "execution_count": 25,
   "id": "af969cd4",
   "metadata": {},
   "outputs": [
    {
     "name": "stdout",
     "output_type": "stream",
     "text": [
      "Uppercase: HELLO, Capitalized: Hello\n"
     ]
    }
   ],
   "source": [
    "# 调用方法/函数\n",
    "word = \"hello\"\n",
    "print(f\"Uppercase: {word.upper()}, Capitalized: {word.capitalize()}\")\n",
    "# 输出: Uppercase: HELLO, Capitalized: Hello"
   ]
  },
  {
   "cell_type": "code",
   "execution_count": 26,
   "id": "cb3441d3",
   "metadata": {},
   "outputs": [
    {
     "name": "stdout",
     "output_type": "stream",
     "text": [
      "Full name: Ada Lovelace\n"
     ]
    }
   ],
   "source": [
    "# 使用对象属性\n",
    "class Person:\n",
    "    def __init__(self, first, last):\n",
    "        self.first = first\n",
    "        self.last = last\n",
    "p = Person(\"Ada\", \"Lovelace\")\n",
    "print(f\"Full name: {p.first} {p.last}\")\n",
    "# 输出: Full name: Ada Lovelace"
   ]
  },
  {
   "cell_type": "markdown",
   "id": "0a615b05",
   "metadata": {},
   "source": [
    "#### **2. 格式化控制：`:` 后的魔法**\n",
    "在 `{}` 里变量后面加 `:`，可以精细控制输出格式。"
   ]
  },
  {
   "cell_type": "code",
   "execution_count": 29,
   "id": "b16c9aae",
   "metadata": {},
   "outputs": [
    {
     "name": "stdout",
     "output_type": "stream",
     "text": [
      "Pi=3.141593\n",
      "Pi=3.141593\n"
     ]
    }
   ],
   "source": [
    "pi = 3.1415926535\n",
    "print(f\"Pi={pi:2f}\")  # 保留2位小数 -> Pi ≈ 3.14\n",
    "print(f\"Pi={pi:4f}\")  # 保留4位小数 -> Pi ≈ 3.1416"
   ]
  },
  {
   "cell_type": "code",
   "execution_count": 30,
   "id": "6768d552",
   "metadata": {},
   "outputs": [
    {
     "name": "stdout",
     "output_type": "stream",
     "text": [
      "With commas:1,234,567,890\n"
     ]
    }
   ],
   "source": [
    "big_num = 1234567890\n",
    "print(f\"With commas:{big_num:,}\")"
   ]
  },
  {
   "cell_type": "code",
   "execution_count": 32,
   "id": "2228848d",
   "metadata": {},
   "outputs": [
    {
     "name": "stdout",
     "output_type": "stream",
     "text": [
      "Percentage:87.8%\n"
     ]
    }
   ],
   "source": [
    "percent = 0.878\n",
    "print(f\"Percentage:{percent:.1%}\")# 百分比格式 -> Percentage: 87.6%"
   ]
  },
  {
   "cell_type": "code",
   "execution_count": 39,
   "id": "2f17d46e",
   "metadata": {},
   "outputs": [
    {
     "name": "stdout",
     "output_type": "stream",
     "text": [
      "|Python    |\n",
      "|Python    |\n",
      "|    Python|\n",
      "|  Python  |\n"
     ]
    }
   ],
   "source": [
    "# 对齐与宽度\n",
    "text = \"Python\"\n",
    "print(f\"|{text:10}|\")\n",
    "print(f\"|{text:<10}|\")\n",
    "print(f\"|{text:>10}|\")\n",
    "print(f\"|{text:^10}|\")\n"
   ]
  },
  {
   "cell_type": "code",
   "execution_count": 36,
   "id": "7f9591fb",
   "metadata": {},
   "outputs": [
    {
     "name": "stdout",
     "output_type": "stream",
     "text": [
      "Python    |\n"
     ]
    }
   ],
   "source": [
    "# 对齐与宽度\n",
    "text = \"Python\"\n",
    "print(f\"{text:10}|\")    # 默认左对齐，宽度10 -> |Python "
   ]
  },
  {
   "cell_type": "code",
   "execution_count": null,
   "id": "b46f7189",
   "metadata": {},
   "outputs": [],
   "source": [
    "        \n",
    "print(f\"|{text:>10}|\")   # 右对齐 -> |    Python|\n",
    "print(f\"|{text:^10}|\")   # 居中对齐 -> |  Python  |\n",
    "print(f\"|{text:*^10}|\")  # 居中并用*填充 -> |**Python**|"
   ]
  },
  {
   "cell_type": "code",
   "execution_count": null,
   "id": "93512626",
   "metadata": {},
   "outputs": [
    {
     "name": "stdout",
     "output_type": "stream",
     "text": [
      "Hex:0x2a\n",
      "Bin:101010\n",
      "Ot:52\n"
     ]
    }
   ],
   "source": [
    "num = 42\n",
    "print(f\"Hex:{num:#x}\")\n",
    "print(f\"Bin:{num:b}\")\n",
    "print(f\"Oct:{num:o}\")"
   ]
  },
  {
   "cell_type": "code",
   "execution_count": null,
   "id": "7988c86f",
   "metadata": {},
   "outputs": [],
   "source": [
    "# 进制转换\n",
    "num = 42\n",
    "print(f\"Hex: {num:#x}\")  # 十六进制 (带0x前缀) -> Hex: 0x2a\n",
    "print(f\"Bin: {num:b}\")   # 二进制 -> Bin: 101010"
   ]
  },
  {
   "cell_type": "markdown",
   "id": "ae977a5c",
   "metadata": {},
   "source": [
    "#### **3. 日期时间格式化**\n",
    "结合 `datetime` 模块，轻松输出专业日期格式。"
   ]
  },
  {
   "cell_type": "code",
   "execution_count": 43,
   "id": "9a8973ff",
   "metadata": {},
   "outputs": [
    {
     "name": "stdout",
     "output_type": "stream",
     "text": [
      "Today is 2025-09-12\n",
      "Time: 20:26:39\n",
      "Full: Fri Sep 12 20:26:39 2025\n"
     ]
    }
   ],
   "source": [
    "from datetime import datetime\n",
    "now = datetime.now()\n",
    "print(f\"Today is {now:%Y-%m-%d}\")  # 年月日 -> Today is 2023-10-27\n",
    "print(f\"Time: {now:%H:%M:%S}\")     # 时分秒 -> Time: 14:30:15\n",
    "print(f\"Full: {now:%c}\")           # 本地日期时间表示 -> Full: Thu Oct 27 14:30:15 2023"
   ]
  },
  {
   "cell_type": "markdown",
   "id": "131de8aa",
   "metadata": {},
   "source": [
    "#### **4. 条件表达式（三元操作符）**\n",
    "直接在 `{}` 里进行简单的逻辑判断。"
   ]
  },
  {
   "cell_type": "code",
   "execution_count": 44,
   "id": "f8729588",
   "metadata": {},
   "outputs": [
    {
     "name": "stdout",
     "output_type": "stream",
     "text": [
      "Today is 2025-09-12\n",
      "Time: 20:26:54\n",
      "Full: Fri Sep 12 20:26:54 2025\n"
     ]
    }
   ],
   "source": [
    "from datetime import datetime\n",
    "\n",
    "now = datetime.now()\n",
    "print(f\"Today is {now:%Y-%m-%d}\")  # 年月日 -> Today is 2023-10-27\n",
    "print(f\"Time: {now:%H:%M:%S}\")     # 时分秒 -> Time: 14:30:15\n",
    "print(f\"Full: {now:%c}\")           # 本地日期时间表示 ->"
   ]
  },
  {
   "cell_type": "code",
   "execution_count": 45,
   "id": "8f8d4720",
   "metadata": {},
   "outputs": [
    {
     "name": "stdout",
     "output_type": "stream",
     "text": [
      "Result: Pass\n",
      "Status: Cool\n"
     ]
    }
   ],
   "source": [
    "score = 85\n",
    "print(f\"Result: {'Pass' if score >= 60 else 'Fail'}\")\n",
    "# 输出: Result: Pass\n",
    "temperature = 28.5\n",
    "print(f\"Status: {'Hot' if temperature > 30 else 'Cool'}\")\n",
    "# 输出: Status: Cool"
   ]
  },
  {
   "cell_type": "code",
   "execution_count": 46,
   "id": "f78bddc4",
   "metadata": {},
   "outputs": [
    {
     "name": "stdout",
     "output_type": "stream",
     "text": [
      "user='Charlie', items=3, items * 10=30\n"
     ]
    }
   ],
   "source": [
    "user = \"Charlie\"\n",
    "items = 3\n",
    "print(f\"{user=}, {items=}, {items * 10=}\")\n",
    "# 输出: user='Charlie', items=3, items * 10=30"
   ]
  },
  {
   "cell_type": "markdown",
   "id": "9f9b2780",
   "metadata": {},
   "source": [
    "### **动手实验室：马上开练！**\n",
    "\n",
    "**练习 1：收据生成器**"
   ]
  },
  {
   "cell_type": "code",
   "execution_count": 53,
   "id": "4a8fec7d",
   "metadata": {},
   "outputs": [
    {
     "name": "stdout",
     "output_type": "stream",
     "text": [
      "Item: Coffee\n",
      "Price: $4.50 x 2\n",
      "Subtotal: $9.00\n",
      "Tax (8.0%): $0.72\n",
      "Total: $9.72\n"
     ]
    }
   ],
   "source": [
    "item = \"Coffee\"\n",
    "price = 4.5\n",
    "quantity = 2\n",
    "tax_rate = 0.08\n",
    "\n",
    "def format_buy(item, price, quantity, tax_rate):\n",
    "    subtotal = price * quantity\n",
    "    tax = subtotal * tax_rate\n",
    "    total = subtotal + tax  # 正确的总价计算方式\n",
    "    \n",
    "    end_str = (f\"Item: {item}\\n\"\n",
    "               f\"Price: ${price:.2f} x {quantity}\\n\"  # 价格保留两位小数\n",
    "               f\"Subtotal: ${subtotal:.2f}\\n\"         # 小计保留两位小数\n",
    "               f\"Tax ({tax_rate*100}%): ${tax:.2f}\\n\" # 税费保留两位小数，使用传入的税率\n",
    "               f\"Total: ${total:.2f}\")                # 总价保留两位小数\n",
    "    return end_str\n",
    "\n",
    "print(format_buy(item, price, quantity, tax_rate))"
   ]
  },
  {
   "cell_type": "code",
   "execution_count": 65,
   "id": "c928d5dd",
   "metadata": {},
   "outputs": [
    {
     "name": "stdout",
     "output_type": "stream",
     "text": [
      "[███████████████     ]75%\n"
     ]
    }
   ],
   "source": [
    "progress = 0.75\n",
    "bar_length = 20\n",
    "completed = int(progress*bar_length)\n",
    "remaining = bar_length - completed\n",
    "progress_bar = (f\"[{'█'*completed}{\" \"*remaining}]\"\n",
    "                f\"{progress*100:.0f}%\"\n",
    "                )\n",
    "print(progress_bar)"
   ]
  },
  {
   "cell_type": "code",
   "execution_count": null,
   "id": "c9af017a",
   "metadata": {},
   "outputs": [],
   "source": [
    "from datetime import datetime\n",
    "username = \"coder_hero\"\n",
    "joined_date = \"2022-03-15\"\n",
    "post_count = 142\n",
    "last_login = \"2023-10-26 14:30\"\n",
    "#计算\n",
    "joined = datetime.strptime(joined_date)"
   ]
  },
  {
   "cell_type": "code",
   "execution_count": 67,
   "id": "4e28fc93",
   "metadata": {},
   "outputs": [
    {
     "name": "stdout",
     "output_type": "stream",
     "text": [
      "===== User Profile =====\n",
      "Username: coder_hero\n",
      "Joined: 2022-03-15 (1 year ago)\n",
      "Posts: 142\n",
      "Last seen: 2023-10-26 14:30\n"
     ]
    }
   ],
   "source": [
    "from datetime import datetime\n",
    "\n",
    "username = \"coder_hero\"\n",
    "joined_date = \"2022-03-15\"\n",
    "post_count = 142\n",
    "last_login = \"2023-10-26 14:30\"\n",
    "\n",
    "# 计算注册时间距今的年数\n",
    "joined = datetime.strptime(joined_date, \"%Y-%m-%d\")\n",
    "last_seen_date = datetime.strptime(last_login.split()[0], \"%Y-%m-%d\")\n",
    "years_ago = last_seen_date.year - joined.year\n",
    "\n",
    "# 生成用户信息卡\n",
    "profile_card = (f\"===== User Profile =====\\n\"\n",
    "                f\"Username: {username}\\n\"\n",
    "                f\"Joined: {joined_date} ({years_ago} year ago)\\n\"\n",
    "                f\"Posts: {post_count}\\n\"\n",
    "                f\"Last seen: {last_login}\")\n",
    "\n",
    "print(profile_card)"
   ]
  },
  {
   "cell_type": "code",
   "execution_count": null,
   "id": "cee9f0f7",
   "metadata": {},
   "outputs": [],
   "source": []
  }
 ],
 "metadata": {
  "kernelspec": {
   "display_name": ".venv (3.13.6)",
   "language": "python",
   "name": "python3"
  },
  "language_info": {
   "codemirror_mode": {
    "name": "ipython",
    "version": 3
   },
   "file_extension": ".py",
   "mimetype": "text/x-python",
   "name": "python",
   "nbconvert_exporter": "python",
   "pygments_lexer": "ipython3",
   "version": "3.13.6"
  }
 },
 "nbformat": 4,
 "nbformat_minor": 5
}

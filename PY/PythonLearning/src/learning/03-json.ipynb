{
 "cells": [
  {
   "cell_type": "markdown",
   "id": "5a830274",
   "metadata": {},
   "source": [
    "\n",
    "### **Python `json` 库深入学习参考目录**\n",
    "\n",
    "#### **一、 核心基石：官方文档**\n",
    "\n",
    "1.  **Python 官方文档 (`json` — JSON encoder and decoder)**\n",
    "    *   **链接**: https://docs.python.org/3/library/json.html\n",
    "    *   **必读内容**：\n",
    "        *   **基本用法**: 快速了解 `dumps`, `loads`, `dump`, `load` 四大函数。\n",
    "        *   **编码器和解码器**: 详细阅读 `JSONEncoder` 和 `JSONDecoder` 类的说明。\n",
    "        *   **参数详解**: 仔细研究 `json.dumps()` 和 `json.loads()` 的所有参数，如 `skipkeys`, `ensure_ascii`, `check_circular`, `allow_nan`, `cls`, `indent`, `separators`, `default`, `sort_keys`, `object_hook`, `parse_float`, `parse_int`, `object_pairs_hook`。**这是进阶的关键**。\n",
    "\n",
    "#### **二、 标准教程与指南**\n",
    "\n",
    "1.  **Real Python 教程**\n",
    "    *   **内容**: 以非常清晰和实用的方式讲解 JSON 在 Python 中的使用，涵盖了从基础到高级主题（如自定义序列化）。\n",
    "    *   **链接**: https://realpython.com/python-json/\n",
    "    *   **特点**: 强烈推荐，讲解透彻，例子丰富。\n",
    "\n",
    "2.  **W3Schools Python JSON 教程**\n",
    "    *   **内容**: 非常基础的入门教程，适合快速上手和查找简单示例。\n",
    "    *   **链接**: https://www.w3schools.com/python/python_json.asp\n",
    "    *   **特点**: 适合纯初学者，互动性强。\n",
    "\n",
    "3.  **GeeksforGeeks Python JSON 教程**\n",
    "    *   **内容**: 包含多篇关于特定操作的文章，例如读写文件、美化打印等。\n",
    "    *   **链接**: https://www.geeksforgeeks.org/python-json/\n",
    "    *   **特点**: 以具体代码片段为主，适合快速查找特定功能的实现方法。\n",
    "\n",
    "#### **三、 实践与深入理解**\n",
    "\n",
    "通过实际项目和常见问题来巩固知识。\n",
    "\n",
    "1.  **常见任务实现参考**：\n",
    "    *   **序列化复杂对象（如 `datetime`）**： 搜索 \"Python json serialize datetime\"。\n",
    "        *   **参考方案**: 使用 `json.dumps()` 的 `default` 参数或自定义 `JSONEncoder`。\n",
    "    *   **反序列化为对象（而非字典）**： 搜索 \"Python json deserialize to object\"。\n",
    "        *   **参考方案**: 使用 `json.loads()` 的 `object_hook` 参数。\n",
    "    *   **处理 JSON 文件**： 重点掌握 `with open(...) as f:` 配合 `json.load(f)`/`json.dump(data, f)` 的范式。\n",
    "\n",
    "2.  **常见错误与调试**：\n",
    "    *   **`JSONDecodeError: Expecting value: line 1 column 1 (char 0)`**： 通常是响应内容为空或不是JSON（如404 HTML页面）。\n",
    "    *   **`TypeError: Object of type ... is not JSON serializable`**： 尝试序列化不支持的类型。\n",
    "    *   **中文字符显示为 `\\uXXXX`**： 忘记设置 `ensure_ascii=False`。\n",
    "    *   **调试工具**: 使用 https://jsonlint.com/ 等在线验证器来验证你生成或获取的JSON字符串格式是否正确。\n",
    "\n",
    "#### **四、 性能与进阶**\n",
    "\n",
    "当你需要处理大量JSON数据或对性能有要求时，可以探索以下领域。\n",
    "\n",
    "1.  **替代库（Performance-focused substitutes）**:\n",
    "    *   **`orjson`**: 极其快速且符合标准的JSON库，直接支持 `datetime` 和 `UUID` 等类型。\n",
    "        *   **链接**: https://github.com/ijl/orjson\n",
    "    *   **`ujson`** (UltraJSON): 一个快速的JSON编码/解码器，C语言实现。\n",
    "        *   **链接**: https://github.com/ultrajson/ultrajson\n",
    "    *   **`msgspec`**: 一个非常快速且高效的序列化库，支持JSON、MessagePack等。\n",
    "        *   **链接**: https://github.com/jcrist/msgspec\n",
    "    *   **学习建议**: 先精通标准库 `json`，再根据项目需求评估是否需要引入这些第三方库。它们的API通常与标准库相似但可能有细微差别。\n",
    "\n",
    "2.  **相关数据格式**:\n",
    "    *   **JSON Lines (`.jsonl`)**: 每行是一个有效的JSON对象，用于处理流式大数据。\n",
    "        *   **链接**: https://jsonlines.org/\n",
    "    *   **MessagePack**: 一种高效的二进制序列化格式，类似于JSON但更快更小。\n",
    "        *   **链接**: https://msgpack.org/\n",
    "\n",
    "#### **五、 综合练习项目想法**\n",
    "\n",
    "1.  **配置文件管理器**: 编写一个类，用于读取、修改和保存程序的JSON配置。\n",
    "2.  **API 数据消费器**:\n",
    "    *   使用 `requests` 库从 https://jsonplaceholder.typicode.com/ 这类免费的测试API获取数据。\n",
    "    *   解析返回的JSON，并将特定信息（如用户帖子）保存到本地JSON文件。\n",
    "3.  **数据转换器**: 编写一个脚本，从CSV或XML文件读取数据，将其转换为JSON格式并保存。\n",
    "4.  **实现一个自定义编码器/解码器**: 尝试序列化和反序列化一个包含 `datetime` 对象和自定义类实例的复杂数据结构。\n"
   ]
  },
  {
   "cell_type": "markdown",
   "id": "3a8d374a",
   "metadata": {},
   "source": [
    "**什么是 JSON？**\n",
    "JSON（JavaScript Object Notation）是一种轻量级的数据交换格式。它采用完全独立于编程语言的文本格式，但使用了类似于 C 语言家族的约定（包括 C, C++, C#, Java, JavaScript, Python 等）。这些特性使 JSON 成为理想的数据交换语言。\n",
    "\n",
    "*   **易于人类阅读和编写**\n",
    "*   **易于机器解析和生成**\n",
    "*   **本质是一个字符串**，只是遵循了一种特殊的格式。"
   ]
  },
  {
   "cell_type": "markdown",
   "id": "8b422ee6",
   "metadata": {},
   "source": [
    "**JSON 的语法规则**\n",
    "JSON 语法是 JavaScript 对象表示语法的子集，但它是独立的。\n",
    "\n",
    "*   **数据是以 `键值对` 的形式存在**，例如：`\"name\": \"张三\"`\n",
    "*   **数据之间用 `逗号 ,` 分隔**\n",
    "*   **花括号 `{}` 保存 `对象`** （对应 Python 字典）\n",
    "*   **方括号 `[]` 保存 `数组`** （对应 Python 列表）\n",
    "*   **键名** 必须用 **双引号 `\"\"`** 包裹"
   ]
  },
  {
   "cell_type": "markdown",
   "id": "b789bb01",
   "metadata": {},
   "source": [
    "**JSON 数据类型：**\n",
    "\n",
    "| JSON       | 示例                | 说明 |\n",
    "| :--------- | :------------------ | :--- |\n",
    "| 字符串     | `\"hello\"`           | 必须使用双引号 |\n",
    "| 数字       | `123`, `-1.23`      |      |\n",
    "| 布尔值     | `true`, `false`     | 小写 |\n",
    "| 数组       | `[1, 2, \"three\"]`   |      |\n",
    "| 对象       | `{\"key\": \"value\"}`  |      |\n",
    "| null       | `null`              | 表示空值 |"
   ]
  },
  {
   "cell_type": "markdown",
   "id": "70e07cb8",
   "metadata": {},
   "source": [
    "**JSON 的常见用途：**\n",
    "*   **Web API**： 几乎所有的现代 API（如 Twitter、GitHub、天气API）都使用 JSON 作为数据发送和接收的标准格式。\n",
    "*   **配置文件**： 许多软件（如 VS Code、npm）使用 `.json` 文件来存储配置设置。Python 的 `package.json` 也是一个例子。\n",
    "*   **数据存储**： 可以作为一种简单的格式来存储结构化数据。"
   ]
  },
  {
   "cell_type": "markdown",
   "id": "2442a371",
   "metadata": {},
   "source": [
    "#### **2. Python 标准库：`json` 模块**\n",
    "\n",
    "Python 提供了一个名为 `json` 的内置模块，专门用于处理 JSON 数据。你需要做的第一件事就是导入它。"
   ]
  },
  {
   "cell_type": "code",
   "execution_count": 1,
   "id": "833f49c06c60aad4",
   "metadata": {},
   "outputs": [],
   "source": [
    "import json"
   ]
  },
  {
   "cell_type": "markdown",
   "id": "9ba4e26a",
   "metadata": {},
   "source": [
    "### `dump` 单词释义\n",
    "**v.**\n",
    "丢弃，扔掉；乱堆，乱放；丢下，抛弃；分手，甩掉；倾销，抛售；`转储，转存（计算机数据）`；`（尤指系统发生故障后内存的）打印输出，卸出`\n",
    "\n",
    "**n.**\n",
    "垃圾场；废料堆场；（金矿开采作业堆积而成的）矿山废石堆；<非正式>脏地方；军需品临时存放处；转存；<美，非正式>拉屎"
   ]
  },
  {
   "cell_type": "markdown",
   "id": "a30a96e2",
   "metadata": {},
   "source": [
    "该模块的两个核心功能是 **序列化** 和 **反序列化**，对应两个核心函数。\n",
    "\n",
    "*   **`json.dumps()` — 序列化（Encoding）**\n",
    "    *   **功能**： 将 **Python对象** 转换为 **JSON格式字符串**。\n",
    "    *   **名称由来**： **d**ump **s**tring"
   ]
  },
  {
   "cell_type": "code",
   "execution_count": 2,
   "id": "635f39d1e2d8cead",
   "metadata": {},
   "outputs": [],
   "source": [
    "data = {\n",
    "    \"name\": \"张三\",\n",
    "    \"age\": 30,\n",
    "    \"is_student\": False,\n",
    "    \"hobbies\": [\"reading\", \"swimming\"]\n",
    "}"
   ]
  },
  {
   "cell_type": "code",
   "execution_count": 12,
   "id": "95f34813",
   "metadata": {},
   "outputs": [],
   "source": [
    "json_string = json.dumps(data, ensure_ascii=False)"
   ]
  },
  {
   "cell_type": "code",
   "execution_count": 13,
   "id": "d2243f2f",
   "metadata": {},
   "outputs": [
    {
     "name": "stdout",
     "output_type": "stream",
     "text": [
      "{\"name\": \"张三\", \"age\": 30, \"is_student\": false, \"hobbies\": [\"reading\", \"swimming\"]}\n"
     ]
    }
   ],
   "source": [
    "print(json_string)"
   ]
  },
  {
   "cell_type": "markdown",
   "id": "02749985",
   "metadata": {},
   "source": [
    "\n",
    "### **`.dump或.dumps` 文件写入时的中文与特殊字符处理（重点！）**\n",
    "\n",
    "#### **问题核心：`ensure_ascii` 参数**\n",
    "*   **默认行为**：`json.dump()` 和 `json.dumps()` 的 `ensure_ascii` 参数默认为 `True`。\n",
    "*   **后果**：所有**非 ASCII 字符**（如中文、日文、俄文、Emoji 等）会被自动转义为 `\\uXXXX` 形式的 Unicode 转义序列。"
   ]
  },
  {
   "cell_type": "code",
   "execution_count": 11,
   "id": "c8310f6f",
   "metadata": {},
   "outputs": [
    {
     "name": "stdout",
     "output_type": "stream",
     "text": [
      "{\"name\": \"\\u5f20\\u4e09\", \"age\": 30, \"is_student\": false, \"hobbies\": [\"reading\", \"swimming\"]}\n"
     ]
    }
   ],
   "source": [
    "json_string = json.dumps(data)\n",
    "print(json_string)"
   ]
  },
  {
   "cell_type": "markdown",
   "id": "21097d4f",
   "metadata": {},
   "source": [
    "*   **`json.loads()` — 反序列化（Decoding）**\n",
    "    *   **功能**： 将 **JSON格式字符串** 解码为 **Python对象**。\n",
    "    *   **名称由来**： **l**oad **s**tring\n",
    "    *   **示例**："
   ]
  },
  {
   "cell_type": "code",
   "execution_count": 17,
   "id": "db436b4809bf510f",
   "metadata": {},
   "outputs": [
    {
     "name": "stdout",
     "output_type": "stream",
     "text": [
      "{'name': '张三', 'age': 30, 'is_student': False}\n",
      "<class 'dict'>\n"
     ]
    }
   ],
   "source": [
    "\n",
    "import json\n",
    "json_str = '{\"name\": \"张三\", \"age\": 30, \"is_student\": false}'\n",
    "python_data = json.loads(json_str)\n",
    "print(python_data)\n",
    "print(type(python_data))\n"
   ]
  },
  {
   "cell_type": "markdown",
   "id": "732a84ce",
   "metadata": {},
   "source": [
    "#### **3. Python 与 JSON 的数据类型映射**\n",
    "\n",
    "当使用 `json.dumps()` 和 `json.loads()` 时，数据会在 Python 和 JSON 格式之间自动转换。了解它们之间的映射关系至关重要，可以避免很多错误。\n",
    "\n",
    "| JSON          | Python            | 注意事项 & 常见陷阱                                  |\n",
    "| :------------ | :---------------- | :--------------------------------------------------- |\n",
    "| `object`      | `dict`            | 这是最常用的映射关系。                               |\n",
    "| `array`       | `list`            | JSON 数组会变成 Python 列表。                        |\n",
    "| `string`      | `str`             | JSON 字符串总是用 `\"\"`，Python 字符串可以用 `''` 或 `\"\"`。 |\n",
    "| `number`      | `int` 或 `float`  | JSON 不区分整型和浮点型，Python 会根据数字自动判断。 |\n",
    "| `true` / `false` | `True` / `False` | **注意大小写！** JSON 是小写，Python 是首字母大写。  |"
   ]
  },
  {
   "cell_type": "code",
   "execution_count": 25,
   "id": "a22123af",
   "metadata": {},
   "outputs": [],
   "source": [
    "with open('data.json', 'r', encoding='utf-8') as f:  # 'r' 表示读取模式\n",
    "    # 2. 使用 json.load() 从文件对象 f 加载数据\n",
    "    python_data = json.load(f)"
   ]
  },
  {
   "cell_type": "code",
   "execution_count": 26,
   "id": "ac466574",
   "metadata": {},
   "outputs": [
    {
     "name": "stdout",
     "output_type": "stream",
     "text": [
      "{'name': '王小明', 'age': 25, 'isStudent': True, 'courses': ['数学', '英语', '编程']}\n"
     ]
    }
   ],
   "source": [
    "print(python_data)"
   ]
  },
  {
   "cell_type": "code",
   "execution_count": 27,
   "id": "08a2fe94",
   "metadata": {},
   "outputs": [
    {
     "name": "stdout",
     "output_type": "stream",
     "text": [
      "<class 'dict'>\n"
     ]
    }
   ],
   "source": [
    "print(type(python_data))"
   ]
  },
  {
   "cell_type": "code",
   "execution_count": 28,
   "id": "35b8f134",
   "metadata": {},
   "outputs": [
    {
     "name": "stdout",
     "output_type": "stream",
     "text": [
      "王小明\n"
     ]
    }
   ],
   "source": [
    "print(python_data['name'])"
   ]
  },
  {
   "cell_type": "markdown",
   "id": "b7e20812",
   "metadata": {},
   "source": [
    "#### **2. 将 JSON 写入文件 (`json.dump()`)**\n",
    "\n",
    "**功能**： 将一个 Python 对象序列化为 JSON 格式，并将该 JSON 字符串写入指定的文件。\n",
    "\n",
    "**步骤**：\n",
    "1.  准备要写入的 Python 数据（字典、列表等）。\n",
    "2.  使用 `open()` 函数以 **写入模式 (`'w'`)** 打开文件。如果文件不存在则创建；如果存在则**覆盖**原有内容。\n",
    "3.  **极其重要**：\n",
    "    *   指定文件编码：`encoding='utf-8'`\n",
    "    *   设置 `ensure_ascii=False`：确保中文等字符正常显示（不再显示为 `\\uXXXX`）。\n",
    "    *   （可选）设置 `indent=4`：让生成的 JSON 文件有缩进，便于阅读。\n",
    "4.  将 Python 数据和打开的文件对象传递给 `json.dump()`。"
   ]
  },
  {
   "cell_type": "code",
   "execution_count": 29,
   "id": "c1445fd6",
   "metadata": {},
   "outputs": [],
   "source": [
    "student_data = {\n",
    "    \"姓名\": \"李华\",  # 包含中文\n",
    "    \"年级\": 3,\n",
    "    \"成绩\": {\n",
    "        \"语文\": 90,\n",
    "        \"数学\": 85,\n",
    "        \"英语\": 92\n",
    "    },\n",
    "    \"兴趣班\": [\"绘画\", \"篮球\"]\n",
    "}"
   ]
  },
  {
   "cell_type": "code",
   "execution_count": 30,
   "id": "5c9fbb5e",
   "metadata": {},
   "outputs": [],
   "source": [
    "with open('student_info.json', 'w', encoding='utf-8') as f:\n",
    "    json.dump(\n",
    "        student_data,\n",
    "        f,\n",
    "        ensure_ascii=False,\n",
    "        indent=4\n",
    "    )"
   ]
  },
  {
   "cell_type": "code",
   "execution_count": 32,
   "id": "9eba0ebc",
   "metadata": {},
   "outputs": [],
   "source": [
    "import json\n",
    "file_path = 'config.json'\n",
    "with open(file_path,'r',encoding='utf-8' )as file:\n",
    "    global data\n",
    "    data = json.load(file)  "
   ]
  },
  {
   "cell_type": "code",
   "execution_count": null,
   "id": "044a206d",
   "metadata": {},
   "outputs": [
    {
     "name": "stdout",
     "output_type": "stream",
     "text": [
      "<class 'dict'>\n",
      "{'app_name': '我的学习助手', 'language': 'zh-CN', 'max_items': 10, 'debug_mode': False}\n"
     ]
    }
   ],
   "source": [
    "print(type(data))\n",
    "print(data)"
   ]
  },
  {
   "cell_type": "code",
   "execution_count": 40,
   "id": "fd554891",
   "metadata": {},
   "outputs": [],
   "source": [
    "import json\n",
    "from datetime import datetime\n",
    "user_info = {\n",
    "    \"username\":\"张三\",\n",
    "    \"email\":\"zhangsan@example.com\",\n",
    "    \"registration_time\":datetime.now().strftime(\"%Y-%m-%d %H:%M:%S\"),\n",
    "    \"permissions\": [\"read\", \"write\", \"comment\", \"share\"]\n",
    "}"
   ]
  },
  {
   "cell_type": "code",
   "execution_count": 41,
   "id": "c9f86c8f",
   "metadata": {},
   "outputs": [],
   "source": [
    "with open(\"user_profile.json\",'w',encoding=\"utf-8\")as file:\n",
    "    json.dump(user_info, file, ensure_ascii=False, indent=4)\n"
   ]
  },
  {
   "cell_type": "markdown",
   "id": "2c5d999b",
   "metadata": {},
   "source": [
    " **第三部分：进阶技巧与参数详解**  \n",
    " #### **1. 美化输出 (Pretty Printing)**  \n",
    "让JSON更易读，适合配置文件或调试场景。\n",
    "\n",
    "**核心参数：**\n",
    "- **`indent`**：缩进空格数（整数）\n",
    "- **`sort_keys`**：按键名字母排序（布尔值）\n"
   ]
  },
  {
   "cell_type": "code",
   "execution_count": 43,
   "id": "9304ca81",
   "metadata": {},
   "outputs": [
    {
     "name": "stdout",
     "output_type": "stream",
     "text": [
      "{\"name\": \"张三\", \"age\": 30, \"skills\": [\"Python\", \"数据分析\"], \"projects\": {\"2023\": \"AI系统\", \"2024\": \"区块链\"}}\n",
      "<class 'str'>\n"
     ]
    }
   ],
   "source": [
    "import json\n",
    "data ={\n",
    "    \"name\": \"张三\",\n",
    "    \"age\": 30,\n",
    "    \"skills\": [\"Python\", \"数据分析\"],\n",
    "    \"projects\": {\"2023\": \"AI系统\", \"2024\": \"区块链\"}\n",
    "}\n",
    "compact = json.dumps(data,ensure_ascii=False)\n",
    "print(compact)\n",
    "print(type(compact))"
   ]
  },
  {
   "cell_type": "code",
   "execution_count": 47,
   "id": "55d7ed45",
   "metadata": {},
   "outputs": [],
   "source": [
    "pretty = json.dumps(data,\n",
    "                    indent=4,\n",
    "                    sort_keys=True,\n",
    "                    ensure_ascii=False)"
   ]
  },
  {
   "cell_type": "code",
   "execution_count": 48,
   "id": "56b328df",
   "metadata": {},
   "outputs": [
    {
     "name": "stdout",
     "output_type": "stream",
     "text": [
      "{\n",
      "    \"age\": 30,\n",
      "    \"name\": \"张三\",\n",
      "    \"projects\": {\n",
      "        \"2023\": \"AI系统\",\n",
      "        \"2024\": \"区块链\"\n",
      "    },\n",
      "    \"skills\": [\n",
      "        \"Python\",\n",
      "        \"数据分析\"\n",
      "    ]\n",
      "}\n"
     ]
    }
   ],
   "source": [
    "print(pretty)"
   ]
  },
  {
   "cell_type": "markdown",
   "id": "3fbdbc16",
   "metadata": {},
   "source": [
    "#### **2. 处理复杂对象（编码器进阶）**  \n",
    "解决 `datetime`、自定义类等非标准类型的序列化问题。\n",
    "\n",
    "**方法一：`default` 参数 + 自定义函数**"
   ]
  },
  {
   "cell_type": "code",
   "execution_count": 49,
   "id": "f76fbbc5",
   "metadata": {},
   "outputs": [
    {
     "name": "stdout",
     "output_type": "stream",
     "text": [
      "{\n",
      "  \"user\": {\n",
      "    \"name\": \"李四\",\n",
      "    \"id\": \"123e4567-e89b-12d3-a456-426614174000\"\n",
      "  },\n",
      "  \"timestamp\": \"2025-09-11T02:33:38.521054\"\n",
      "}\n"
     ]
    }
   ],
   "source": [
    "import json\n",
    "import datetime\n",
    "from uuid import UUID\n",
    "class User:\n",
    "    def __init__(self,name,user_id):\n",
    "        self.name =name\n",
    "        self.id = user_id\n",
    "data = {\n",
    "    \"user\": User(\"李四\", UUID('123e4567-e89b-12d3-a456-426614174000')),\n",
    "    \"timestamp\": datetime.datetime.now()\n",
    "}\n",
    "\n",
    "def custom_serializer(obj):\n",
    "    \"\"\"处理无法直接序列化的类型\"\"\"\n",
    "    if isinstance(obj, datetime.datetime):\n",
    "        return obj.isoformat()  # 转为ISO8601字符串\n",
    "    elif isinstance(obj, UUID):\n",
    "        return str(obj)  # UUID转为字符串\n",
    "    elif isinstance(obj, User):\n",
    "        return {\"name\": obj.name, \"id\": str(obj.id)}  # 自定义类转字典\n",
    "    raise TypeError(f\"无法序列化类型: {type(obj)}\")\n",
    "\n",
    "json_str = json.dumps(data, \n",
    "                     default=custom_serializer,\n",
    "                     ensure_ascii=False,\n",
    "                     indent=2)\n",
    "print(json_str)"
   ]
  },
  {
   "cell_type": "markdown",
   "id": "c942f3f1",
   "metadata": {},
   "source": [
    "**方法二：自定义编码器类（更优雅）**"
   ]
  },
  {
   "cell_type": "code",
   "execution_count": 51,
   "id": "018fcc9c",
   "metadata": {},
   "outputs": [
    {
     "name": "stdout",
     "output_type": "stream",
     "text": [
      "{\n",
      "  \"user\": {\n",
      "    \"username\": \"李四\",\n",
      "    \"user_id\": \"123e4567e89b12d3a456426614174000\"\n",
      "  },\n",
      "  \"timestamp\": \"2025年09月11日 02:33\"\n",
      "}\n"
     ]
    }
   ],
   "source": [
    "class CustomEncoder(json.JSONEncoder):\n",
    "    def default(self, obj):\n",
    "        if isinstance(obj, datetime.datetime):\n",
    "            return obj.strftime(\"%Y年%m月%d日 %H:%M\")\n",
    "        elif isinstance(obj, User):\n",
    "            return {\"username\": obj.name, \"user_id\": obj.id.hex}\n",
    "        return super().default(obj)\n",
    "# 使用自定义编码器\n",
    "json_str = json.dumps(data, \n",
    "                     cls=CustomEncoder,\n",
    "                     ensure_ascii=False,\n",
    "                     indent=2)\n",
    "print(json_str)"
   ]
  },
  {
   "cell_type": "markdown",
   "id": "ca0c1d8c",
   "metadata": {},
   "source": [
    "#### **3. 解析进阶（解码器进阶）**  \n",
    "将JSON字典转为自定义类实例。"
   ]
  },
  {
   "cell_type": "code",
   "execution_count": 52,
   "id": "ce2afb87",
   "metadata": {},
   "outputs": [
    {
     "name": "stdout",
     "output_type": "stream",
     "text": [
      "<Product 无线耳机 ¥299.0>\n",
      "<class '__main__.Product'>\n"
     ]
    }
   ],
   "source": [
    "class Product:\n",
    "    def __init__(self, name, price, in_stock):\n",
    "        self.name = name\n",
    "        self.price = price\n",
    "        self.in_stock = in_stock\n",
    "    def __repr__(self):\n",
    "        return f\"<Product {self.name} ¥{self.price}>\"\n",
    "json_str = '''\n",
    "{\n",
    "    \"name\": \"无线耳机\",\n",
    "    \"price\": 299.0,\n",
    "    \"in_stock\": true\n",
    "}\n",
    "'''\n",
    "def dict_to_product(d):\n",
    "    if \"name\" in d and \"price\" in d:\n",
    "        return Product(d['name'], d['price'], d.get('in_stock', False))\n",
    "    return d  # 非目标字典保持原样\n",
    "product = json.loads(json_str, object_hook=dict_to_product)\n",
    "print(product)  # 输出: <Product 无线耳机 ¥299.0>\n",
    "print(type(product))  # 输出: <class '__main__.Product'>"
   ]
  },
  {
   "cell_type": "markdown",
   "id": "688a661f",
   "metadata": {},
   "source": [
    "**嵌套对象处理：**"
   ]
  },
  {
   "cell_type": "code",
   "execution_count": 53,
   "id": "ec7572a1",
   "metadata": {},
   "outputs": [
    {
     "name": "stdout",
     "output_type": "stream",
     "text": [
      "<Product 鼠标 ¥89>\n"
     ]
    }
   ],
   "source": [
    "order_json = '''\n",
    "{\n",
    "    \"order_id\": \"ORD123\",\n",
    "    \"products\": [\n",
    "        {\"name\": \"鼠标\", \"price\": 89},\n",
    "        {\"name\": \"键盘\", \"price\": 199}\n",
    "    ]\n",
    "}\n",
    "'''\n",
    "class Order:\n",
    "    def __init__(self, order_id, products):\n",
    "        self.id = order_id\n",
    "        self.products = products\n",
    "def complex_decoder(d):\n",
    "    if \"order_id\" in d and \"products\" in d:\n",
    "        # 递归处理嵌套的products列表\n",
    "        products = [dict_to_product(p) for p in d[\"products\"]]\n",
    "        return Order(d[\"order_id\"], products)\n",
    "    return d\n",
    "order = json.loads(order_json, object_hook=complex_decoder)\n",
    "print(order.products[0])  # 输出: <Product 鼠标 ¥89>"
   ]
  },
  {
   "cell_type": "markdown",
   "id": "45de2a27",
   "metadata": {},
   "source": [
    "#### **4. 其他实用参数详解**"
   ]
  },
  {
   "cell_type": "markdown",
   "id": "4f4a542f",
   "metadata": {},
   "source": [
    "**1. `ensure_ascii`（中文字符处理）**\n",
    "\n",
    "**2. `separators`（控制JSON体积）**"
   ]
  },
  {
   "cell_type": "code",
   "execution_count": 55,
   "id": "669dc84f",
   "metadata": {},
   "outputs": [
    {
     "name": "stdout",
     "output_type": "stream",
     "text": [
      "{\"city\": \"\\u5317\\u4eac\"}\n",
      "{\"city\": \"北京\"}\n"
     ]
    }
   ],
   "source": [
    "# 默认行为（中文转Unicode转义）\n",
    "print(json.dumps({\"city\": \"北京\"})) \n",
    "# 输出: {\"city\": \"\\u5317\\u4eac\"}\n",
    "# 正确显示中文\n",
    "print(json.dumps({\"city\": \"北京\"}, ensure_ascii=False)) \n",
    "# 输出: {\"city\": \"北京\"}"
   ]
  },
  {
   "cell_type": "code",
   "execution_count": 56,
   "id": "834f78ac",
   "metadata": {},
   "outputs": [
    {
     "name": "stdout",
     "output_type": "stream",
     "text": [
      "默认长度: 24 字符\n",
      "紧凑长度: 19 字符\n"
     ]
    }
   ],
   "source": [
    "data = {\"a\": 1, \"b\": 2, \"c\": 3}\n",
    "# 默认分隔符：(\", \", \": \") → 带空格\n",
    "default = json.dumps(data)  # {\"a\": 1, \"b\": 2, \"c\": 3}\n",
    "# 紧凑模式：去掉所有空格\n",
    "compact = json.dumps(data, separators=(',', ':'))  # {\"a\":1,\"b\":2,\"c\":3}\n",
    "print(f\"默认长度: {len(default)} 字符\")\n",
    "print(f\"紧凑长度: {len(compact)} 字符\")"
   ]
  },
  {
   "cell_type": "markdown",
   "id": "def7fd00",
   "metadata": {},
   "source": [
    "**3. `skipkeys`（处理非法键名）**"
   ]
  },
  {
   "cell_type": "code",
   "execution_count": 57,
   "id": "bc8ea889",
   "metadata": {},
   "outputs": [],
   "source": [
    "data = {\n",
    "    \"正常键\": \"value\",\n",
    "    123: \"数字键\",  # 非字符串键\n",
    "    (1,2): \"元组键\" # 非基本类型键\n",
    "}\n",
    "# 默认会报错：TypeError: keys must be str, int, float, bool or None\n",
    "# 跳过非法键\n",
    "result = json.dumps(data, skipkeys=True)  \n",
    "# 输出: {\"正常键\": \"value\"}"
   ]
  },
  {
   "cell_type": "markdown",
   "id": "1e259f64",
   "metadata": {},
   "source": [
    "### **实战技巧总结表**\n",
    "\n",
    "| **场景**               | **解决方案**                              | **关键参数/方法**               |\n",
    "|------------------------|------------------------------------------|--------------------------------|\n",
    "| **美化输出**           | 添加缩进和排序                           | `indent=4`, `sort_keys=True`   |\n",
    "| **中文显示问题**       | 禁用ASCII转义                            | `ensure_ascii=False`           |\n",
    "| **序列化日期对象**     | 自定义转换函数                           | `default=` + ISO格式转换       |\n",
    "| **序列化自定义类**     | 实现`__dict__`或自定义编码器             | 继承`JSONEncoder`              |\n",
    "| **反序列化为对象**     | 使用object_hook映射                      | `object_hook=` + 构造函数      |\n",
    "| **最小化JSON体积**     | 压缩分隔符                               | `separators=(',', ':')`        |\n",
    "| **处理特殊键名**       | 跳过非法键                               | `skipkeys=True`                |\n",
    "| **精确控制浮点数**     | 指定精度                                 | `parse_float=decimal.Decimal`  |\n"
   ]
  },
  {
   "cell_type": "code",
   "execution_count": null,
   "id": "f14047b9",
   "metadata": {},
   "outputs": [],
   "source": []
  },
  {
   "cell_type": "markdown",
   "id": "14aad6e7",
   "metadata": {},
   "source": []
  },
  {
   "cell_type": "markdown",
   "id": "5ab88c36",
   "metadata": {},
   "source": [
    "---\n",
    "\n",
    "下面的可以跳过了"
   ]
  },
  {
   "cell_type": "markdown",
   "id": "76fdabb8",
   "metadata": {},
   "source": [
    "### **第四部分：实战应用与常见问题**\n",
    "\n",
    "#### **1. 实战场景一：与 Web API 交互**\n",
    "\n",
    "**场景 1A: 获取 API 数据 (GET 请求)**"
   ]
  },
  {
   "cell_type": "code",
   "execution_count": null,
   "id": "e382f15d",
   "metadata": {},
   "outputs": [
    {
     "name": "stdout",
     "output_type": "stream",
     "text": [
      "网络请求错误: Expecting value: line 1 column 1 (char 0)\n"
     ]
    }
   ],
   "source": [
    "import requests\n",
    "import json\n",
    "# 示例：从免费的公共API获取一条笑话\n",
    "url = \"https://official-joke-api.appspot.com/random_joke\"\n",
    "try:\n",
    "    # 发送 GET 请求\n",
    "    response = requests.get(url)\n",
    "    # 检查请求是否成功 (HTTP 状态码 200)\n",
    "    response.raise_for_status() \n",
    "    # 🚀 关键一步：直接使用 .json() 方法将响应内容解析为 Python 字典\n",
    "    joke_data = response.json()\n",
    "    # 现在可以像操作普通字典一样操作数据\n",
    "    print(f\"类型：{type(joke_data)}\")  # <class 'dict'>\n",
    "    print(f\"笑话：{joke_data['setup']}\")\n",
    "    print(f\" punchline：{joke_data['punchline']}\")\n",
    "except requests.exceptions.RequestException as e:\n",
    "    print(f\"网络请求错误: {e}\")\n",
    "except json.JSONDecodeError as e:\n",
    "    print(f\"JSON 解析错误: {e}\")"
   ]
  },
  {
   "cell_type": "code",
   "execution_count": null,
   "id": "355b25e2",
   "metadata": {},
   "outputs": [],
   "source": []
  }
 ],
 "metadata": {
  "kernelspec": {
   "display_name": ".venv (3.13.6)",
   "language": "python",
   "name": "python3"
  },
  "language_info": {
   "codemirror_mode": {
    "name": "ipython",
    "version": 3
   },
   "file_extension": ".py",
   "mimetype": "text/x-python",
   "name": "python",
   "nbconvert_exporter": "python",
   "pygments_lexer": "ipython3",
   "version": "3.13.6"
  }
 },
 "nbformat": 4,
 "nbformat_minor": 5
}

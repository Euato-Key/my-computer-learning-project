{
  "cells": [
    {
      "cell_type": "markdown",
      "metadata": {},
      "source": [
        "太棒了！你已经掌握了基础，现在是时候解锁正则表达式的「神技」了！以下是**第三阶段：进阶技巧与场景**的深度解析，带你进入正则表达式的高阶领域 🚀\r\n",
        "\r\n",
        "---\r\n",
        "\r\n",
        "### **第三阶段：进阶技巧与场景**\r\n",
        "#### **1. 零宽断言（Lookaround Assertions）**\r\n",
        "零宽断言不匹配字符，只匹配**位置**，是高级文本处理的王牌技巧！\r\n",
        "\r\n",
        "##### **(1) 正向先行断言（Positive Lookahead）** `(?=pattern)`\r\n",
        "匹配后面跟着特定模式的位置\r"
      ]
    },
    {
      "cell_type": "code",
      "execution_count": null,
      "metadata": {},
      "outputs": [],
      "source": [
        "# 匹配后面跟着\"元\"的\"Python\"\r\n",
        "text = \"Python元编程 Python基础 Python进阶\"\r\n",
        "result = re.findall(r\"Python(?=元)\", text)\r\n",
        "print(result)  # 输出: ['Python'] (匹配\"Python元\"中的Python)\r"
      ]
    },
    {
      "cell_type": "markdown",
      "metadata": {},
      "source": [
        "\r\n",
        "##### **(2) 负向先行断言（Negative Lookahead）** `(?!pattern)`\r\n",
        "匹配后面不跟着特定模式的位置\r"
      ]
    },
    {
      "cell_type": "code",
      "execution_count": null,
      "metadata": {},
      "outputs": [],
      "source": [
        "# 匹配后面不是\"元\"的\"Python\"\r\n",
        "result = re.findall(r\"Python(?!元)\", text)\r\n",
        "print(result)  # 输出: ['Python', 'Python'] (匹配\"Python基础\"和\"Python进阶\"中的Python)\r"
      ]
    },
    {
      "cell_type": "markdown",
      "metadata": {},
      "source": [
        "\r\n",
        "##### **(3) 正向后行断言（Positive Lookbehind）** `(?<=pattern)`\r\n",
        "匹配前面是特定模式的位置\r"
      ]
    },
    {
      "cell_type": "code",
      "execution_count": null,
      "metadata": {},
      "outputs": [],
      "source": [
        "# 匹配前面是\"￥\"的数字\r\n",
        "price_text = \"价格: ￥100, $50, ￥200\"\r\n",
        "result = re.findall(r\"(?<=￥)\\d+\", price_text)\r\n",
        "print(result)  # 输出: ['100', '200']\r"
      ]
    },
    {
      "cell_type": "markdown",
      "metadata": {},
      "source": [
        "\r\n",
        "##### **(4) 负向后行断言（Negative Lookbehind）** `(?<!pattern)`\r\n",
        "匹配前面不是特定模式的位置\r"
      ]
    },
    {
      "cell_type": "code",
      "execution_count": null,
      "metadata": {},
      "outputs": [],
      "source": [
        "# 匹配前面不是\"￥\"的数字\r\n",
        "result = re.findall(r\"(?<!￥)\\d+\", price_text)\r\n",
        "print(result)  # 输出: ['50'] (匹配$50中的50)\r"
      ]
    },
    {
      "cell_type": "markdown",
      "metadata": {},
      "source": [
        "\r\n",
        "**实战应用：提取不含扩展名的文件名**\r"
      ]
    },
    {
      "cell_type": "code",
      "execution_count": null,
      "metadata": {},
      "outputs": [],
      "source": [
        "filenames = \"report.pdf, data.xlsx, presentation.pptx\"\r\n",
        "# 匹配后面没有字母（即扩展名结束位置）的点之前的内容\r\n",
        "results = re.findall(r\".*?(?=\\.\\w+$)\", filenames)\r\n",
        "print(results)  # 输出: ['report', 'data', 'presentation']\r"
      ]
    },
    {
      "cell_type": "markdown",
      "metadata": {},
      "source": [
        "\r\n",
        "---\r\n",
        "\r\n",
        "#### **2. 复杂模式设计实战**\r\n",
        "##### **(1) 精准邮箱验证**\r"
      ]
    },
    {
      "cell_type": "code",
      "execution_count": null,
      "metadata": {},
      "outputs": [],
      "source": [
        "email_pattern = r\"\"\"\r\n",
        "    [a-zA-Z0-9._%+-]+      # 用户名：字母、数字、特殊字符\r\n",
        "    @                       # @符号\r\n",
        "    [a-zA-Z0-9.-]+          # 域名部分\r\n",
        "    \\.                      # 点号(需要转义)\r\n",
        "    [a-zA-Z]{2,}            # 顶级域名(2个以上字母)\r\n",
        "\"\"\"\r\n",
        "\r\n",
        "emails = \"联系: user.name+tag@example.com, 无效邮箱: user@.com\"\r\n",
        "valid_emails = re.findall(email_pattern, emails, re.VERBOSE)\r\n",
        "print(valid_emails)  # 输出: ['user.name+tag@example.com']\r"
      ]
    },
    {
      "cell_type": "markdown",
      "metadata": {},
      "source": [
        "\r\n",
        "##### **(2) URL解析器**\r"
      ]
    },
    {
      "cell_type": "code",
      "execution_count": null,
      "metadata": {},
      "outputs": [],
      "source": [
        "url_pattern = r\"\"\"\r\n",
        "    (https?)://             # 协议（http或https）\r\n",
        "    ([\\w.-]+)               # 域名\r\n",
        "    (:\\d+)?                 # 端口（可选）\r\n",
        "    (/[\\w./?%&=]*)?         # 路径和参数（可选）\r\n",
        "\"\"\"\r\n",
        "\r\n",
        "url = \"访问 https://www.example.com:8080/api/data?id=123 和 http://sub.domain.com/path\"\r\n",
        "results = re.findall(url_pattern, url, re.VERBOSE)\r\n",
        "for protocol, domain, port, path in results:\r\n",
        "    print(f\"协议: {protocol}, 域名: {domain}, 端口: {port or '默认'}, 路径: {path or '/'}\")\r"
      ]
    },
    {
      "cell_type": "markdown",
      "metadata": {},
      "source": [
        "\r\n",
        "##### **(3) 中文文本处理**\r"
      ]
    },
    {
      "cell_type": "code",
      "execution_count": null,
      "metadata": {},
      "outputs": [],
      "source": [
        "text = \"中文English混合文本123！@#\"\r\n",
        "# 提取中文字符\r\n",
        "chinese_chars = re.findall(r\"[\\u4e00-\\u9fff]\", text)\r\n",
        "print(\"中文字符:\", chinese_chars)  # 输出: ['中', '文', '混', '合', '文', '本']\r\n",
        "\r\n",
        "# 提取中文单词\r\n",
        "chinese_words = re.findall(r\"[\\u4e00-\\u9fff]+\", text)\r\n",
        "print(\"中文词语:\", chinese_words)  # 输出: ['中文', '混合文本']\r"
      ]
    },
    {
      "cell_type": "markdown",
      "metadata": {},
      "source": [
        "\r\n",
        "---\r\n",
        "\r\n",
        "#### **3. Flags深度应用**\r"
      ]
    },
    {
      "cell_type": "code",
      "execution_count": null,
      "metadata": {},
      "outputs": [],
      "source": [
        "text = \"Line ONE\\nline two\\nLINE THREE\"\r"
      ]
    },
    {
      "cell_type": "markdown",
      "metadata": {},
      "source": [
        "\r\n",
        "| Flag | 作用 | 示例 | 结果 |\r\n",
        "|------|------|------|------|\r\n",
        "| `re.IGNORECASE` (`re.I`) | 忽略大小写 | `re.findall(r\"line\", text, re.I)` | `['Line', 'line', 'LINE']` |\r\n",
        "| `re.MULTILINE` (`re.M`) | 多行模式（影响^和$） | `re.findall(r\"^line\", text, re.I|re.M)` | `['Line', 'line']` |\r\n",
        "| `re.DOTALL` (`re.S`) | 让`.`匹配换行符 | `re.findall(r\"ONE.*LINE\", text, re.S)` | `['ONE\\nline two\\nLINE']` |\r\n",
        "| `re.VERBOSE` (`re.X`) | 允许注释和空格 | 如上邮箱示例 | 提高复杂正则可读性 |\r\n",
        "\r\n",
        "**多Flag组合使用**：\r"
      ]
    },
    {
      "cell_type": "code",
      "execution_count": null,
      "metadata": {},
      "outputs": [],
      "source": [
        "# 同时忽略大小写且多行匹配\r\n",
        "results = re.findall(r\"^line\", text, re.I | re.M)\r\n",
        "print(results)  # 输出: ['Line', 'line']\r"
      ]
    },
    {
      "cell_type": "markdown",
      "metadata": {},
      "source": [
        "\r\n",
        "---\r\n",
        "\r\n",
        "#### **4. 高级替换技巧**\r\n",
        "##### **(1) 使用函数进行动态替换**\r"
      ]
    },
    {
      "cell_type": "code",
      "execution_count": null,
      "metadata": {},
      "outputs": [],
      "source": [
        "def encrypt_match(match):\r\n",
        "    text = match.group(0)\r\n",
        "    return \"#\" * len(text)\r\n",
        "\r\n",
        "text = \"信用卡号: 1234-5678-9012-3456, 电话: 400-800-1234\"\r\n",
        "# 将数字替换为相同长度的#号\r\n",
        "encrypted = re.sub(r\"\\d+\", encrypt_match, text)\r\n",
        "print(encrypted)  # 输出: \"信用卡号: ####-####-####-####, 电话: ###-###-####\"\r"
      ]
    },
    {
      "cell_type": "markdown",
      "metadata": {},
      "source": [
        "\r\n",
        "##### **(2) 条件性替换**\r"
      ]
    },
    {
      "cell_type": "code",
      "execution_count": null,
      "metadata": {},
      "outputs": [],
      "source": [
        "text = \"价格: $19.99, 折扣: 5%, 运费: $2.50\"\r\n",
        "# 只替换美元金额，保留百分比\r\n",
        "result = re.sub(r\"\\$(\\d+\\.\\d{2})\", r\"[价格: \\1]\", text)\r\n",
        "print(result)  # 输出: \"价格: [价格: 19.99], 折扣: 5%, 运费: [价格: 2.50]\"\r"
      ]
    },
    {
      "cell_type": "markdown",
      "metadata": {},
      "source": [
        "\r\n",
        "---\r\n",
        "\r\n",
        "### **⚡ 性能优化与最佳实践**\r\n",
        "#### **1. 避免回溯灾难**\r"
      ]
    },
    {
      "cell_type": "code",
      "execution_count": null,
      "metadata": {},
      "outputs": [],
      "source": [
        "# 危险模式：嵌套量词导致指数级回溯\r\n",
        "danger_pattern = r\"(a+)+b\"  # 多个a后跟b\r\n",
        "\r\n",
        "# 安全替代：使用原子分组或占有量词\r\n",
        "safe_pattern = r\"(?>a+)+b\"  # 原子分组，防止回溯\r"
      ]
    },
    {
      "cell_type": "markdown",
      "metadata": {},
      "source": [
        "\r\n",
        "#### **2. 预编译加速**\r"
      ]
    },
    {
      "cell_type": "code",
      "execution_count": null,
      "metadata": {},
      "outputs": [],
      "source": [
        "# 在循环外预编译正则\r\n",
        "pattern = re.compile(r\"\\d{3}-\\d{3}-\\d{4}\")\r\n",
        "\r\n",
        "for document in large_document_collection:\r\n",
        "    phones = pattern.findall(document)  # 快速执行\r"
      ]
    },
    {
      "cell_type": "markdown",
      "metadata": {},
      "source": [
        "\r\n",
        "#### **3. 使用更高效的替代方案**\r"
      ]
    },
    {
      "cell_type": "code",
      "execution_count": null,
      "metadata": {},
      "outputs": [],
      "source": [
        "# 当只需要简单匹配时，考虑字符串方法\r\n",
        "if \"error\" in log_message:  # 比re.search(r\"error\", log_message)更快\r\n",
        "    print(\"发现错误\")\r"
      ]
    },
    {
      "cell_type": "markdown",
      "metadata": {},
      "source": [
        "\r\n",
        "---\r\n",
        "\r\n",
        "### **🔧 实战项目：日志分析系统**\r"
      ]
    },
    {
      "cell_type": "code",
      "execution_count": null,
      "metadata": {},
      "outputs": [],
      "source": [
        "log_data = \"\"\"\r\n",
        "[INFO] 2023-10-01 12:30:45 - User login from 192.168.1.100\r\n",
        "[ERROR] 2023-10-01 12:31:22 - Database connection failed at 10.0.0.1\r\n",
        "[WARN] 2023-10-01 12:32:10 - High memory usage on server 192.168.1.200\r\n",
        "\"\"\"\r\n",
        "\r\n",
        "log_pattern = r\"\"\"\r\n",
        "    \\[(\\w+)\\]                 # 日志级别\r\n",
        "    \\s+(\\d{4}-\\d{2}-\\d{2})    # 日期\r\n",
        "    \\s+(\\d{2}:\\d{2}:\\d{2})    # 时间\r\n",
        "    .*?                       # 中间内容\r\n",
        "    (\\d+\\.\\d+\\.\\d+\\.\\d+)      # IP地址\r\n",
        "\"\"\"\r\n",
        "\r\n",
        "for match in re.finditer(log_pattern, log_data, re.VERBOSE):\r\n",
        "    level, date, time, ip = match.groups()\r\n",
        "    print(f\"{level} at {time} from {ip}\")\r"
      ]
    },
    {
      "cell_type": "markdown",
      "metadata": {},
      "source": [
        "\r\n",
        "---\r\n",
        "\r\n",
        "### **📌 第三阶段挑战任务**\r\n",
        "1. 使用零宽断言提取「价格：￥100.00」中的数字（100.00），但不包括货币符号\r\n",
        "2. 编写正则验证强密码：至少8位，包含大小写字母、数字和特殊字符\r\n",
        "3. 解析复杂字符串「姓名:张三,年龄:30,技能:Python|Java|Go」为字典格式\r\n",
        "4. 优化正则性能：将`r\".*@.*\\..*\"`邮箱验证改为更高效的形式\r\n",
        "\r\n",
        "你已经进入了正则表达式的专家领域！这些技巧将让你在文本处理中所向披靡。接下来可以开始实战项目，将这些技术应用到真实场景中！"
      ]
    }
  ],
  "metadata": {
    "kernelspec": {
      "display_name": "Python 3",
      "language": "python",
      "name": "python3"
    },
    "language_info": {
      "codemirror_mode": {
        "name": "ipython",
        "version": 3
      },
      "file_extension": ".py",
      "mimetype": "text/x-python",
      "name": "python",
      "nbconvert_exporter": "python",
      "pygments_lexer": "ipython3",
      "version": "3.8.0"
    }
  },
  "nbformat": 4,
  "nbformat_minor": 4
}
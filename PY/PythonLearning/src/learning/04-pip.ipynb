{
 "cells": [
  {
   "cell_type": "markdown",
   "id": "6a575bc6",
   "metadata": {},
   "source": [
    "#### **1. pip 简介**\n",
    "\n",
    "**是什么？**\n",
    "*   **官方定义**：pip 是 Python 的 **包管理工具** (Package Installer for Python)。\n",
    "*   **通俗理解**：把它想象成 Python 世界的 **“应用商店”或“软件管家”**。就像你的手机有 App Store 或 Google Play 来管理所有App一样，Python 用 pip 来管理所有第三方库（包）。\n",
    "*   **名字由来**：pip 是一个递归缩写，代表 **“Pip Installs Packages”**。早期的安装工具叫 `pyinstall`，后来改名为 pip，也有人认为它是“Preferred Installer Program”的缩写。"
   ]
  },
  {
   "cell_type": "markdown",
   "id": "65eb0b7e",
   "metadata": {},
   "source": [
    "*   **pip 的价值**：它自动化了以下过程：\n",
    "    1.  **搜索**：从庞大的软件库（PyPI）中找到你需要的包。\n",
    "    2.  **下载**：自动下载包文件及其所有依赖项。\n",
    "    3.  **安装**：将包安装到你的 Python 环境中正确的位置。\n",
    "    4.  **管理**：轻松地升级、降级或卸载包，并管理版本冲突。"
   ]
  },
  {
   "cell_type": "markdown",
   "id": "0924c896",
   "metadata": {},
   "source": [
    "**检查是否已安装**\n",
    "*   **打开终端 (Terminal) / 命令提示符 (CMD) / PowerShell**：\n",
    "    *   输入命令：`pip --version` 或 `pip3 --version`"
   ]
  },
  {
   "cell_type": "markdown",
   "id": "5856e88c",
   "metadata": {},
   "source": [
    "**安装/更新 pip**"
   ]
  },
  {
   "cell_type": "markdown",
   "id": "13b3940c",
   "metadata": {},
   "source": [
    "*   **方法一（推荐，通用）**：\n",
    "    ```bash\n",
    "    python -m pip install --upgrade pip\n",
    "    ```\n",
    "    *   `python -m`：表示运行 Python 模块。这里确保了你是用当前指定的 Python 解释器来运行 pip 模块，避免了路径混淆。\n",
    "    *   同样，如果你系统里有多个 Python，可以用 `python3 -m pip install --upgrade pip`。\n",
    "*   **方法二（官方保障）**：\n",
    "    ```bash\n",
    "    python -m ensurepip --upgrade\n",
    "    ```\n",
    "    `ensurepip` 是 Python 内置的一个模块，它的唯一作用就是“确保 pip 存在”，如果不存在就安装，存在就升级。"
   ]
  },
  {
   "cell_type": "markdown",
   "id": "4c4f09ff",
   "metadata": {},
   "source": [
    "#### **3. 理解 PyPI (Python Package Index)**\n",
    "**是什么？**\n",
    "*   **官方定义**：PyPI 是 Python 软件的官方仓库（Repository）。\n",
    "*   **通俗比喻**：它就是 Python 世界的 **“应用商店”**。而 pip 就是这个应用商店的**“管理客户端”**。"
   ]
  },
  {
   "cell_type": "markdown",
   "id": "5fb4e958",
   "metadata": {},
   "source": [
    "**访问方式**\n",
    "*   **命令行**：主要通过 `pip` 命令间接访问。\n",
    "*   **网页**：你可以直接访问 **https://pypi.org/** 来浏览和搜索你感兴趣的包。当你对某个包不确定时，直接上网站查看它的文档和更新日志是一个好习惯。"
   ]
  },
  {
   "cell_type": "markdown",
   "id": "2f9c8e5d",
   "metadata": {},
   "source": [
    "### **第二部分：核心操作篇 (日常使用) 细化详解**\n",
    "\n",
    "这是 pip 最核心的功能。所有命令都在终端（命令行、CMD、PowerShell）中执行。\n",
    "*   **作用**：从 PyPI 下载并安装指定的包及其所有依赖项。\n",
    "*   **示例**：安装最流行的 HTTP 请求库\n",
    "    ```bash\n",
    "    pip install requests\n",
    "    ```\n",
    "*   **发生了什么？**\n",
    "    1.  pip 连接 PyPI。\n",
    "    2.  查找名为 `requests` 的包。\n",
    "    3.  找到其最新稳定版（latest stable version）。\n",
    "    4.  分析该包的依赖关系（`requests` 依赖哪些其他包）。\n",
    "    5.  下载 `requests` 和所有必需的依赖包（如 `charset-normalizer`, `urllib3` 等）。\n",
    "    6.  将它们安装到你当前 Python 环境的 `site-packages` 目录下。"
   ]
  },
  {
   "cell_type": "markdown",
   "id": "ed283825",
   "metadata": {},
   "source": [
    "**安装指定版本**\n",
    "*   **为什么需要？**：确保项目环境的一致性。最新版可能不兼容你的旧代码。\n",
    "*   **语法**：`pip install <package_name>==<version>`\n",
    "*   **示例**：\n",
    "    ```bash\n",
    "    pip install django==3.2.18  # 安装Django的3.2.18版本\n",
    "    pip install pandas==1.3.5   # 安装Pandas的1.3.5版本\n",
    "    ```\n",
    "\n",
    "**安装版本范围**\n",
    "*   **语法**：使用比较运算符（`>`, `>=`, `<`, `<=`）。\n",
    "*   **示例**：\n",
    "    ```bash\n",
    "    pip install 'requests>=2.25.0'  # 安装2.25.0及以上版本\n",
    "    pip install 'numpy>=1.20, <1.23' # 安装1.20及以上但低于1.23的版本\n",
    "    ```"
   ]
  },
  {
   "cell_type": "markdown",
   "id": "0dff9b37",
   "metadata": {},
   "source": [
    "**升级已安装的包**\n",
    "*   **命令**：`pip install --upgrade <package_name>`\n",
    "*   **缩写**：`-U` 是 `--upgrade` 的缩写。\n",
    "*   **示例**：将 `requests` 升级到最新版\n",
    "    ```bash\n",
    "    pip install --upgrade requests\n",
    "    # 或\n",
    "    pip install -U requests\n",
    "    ```"
   ]
  },
  {
   "cell_type": "markdown",
   "id": "2649b62d",
   "metadata": {},
   "source": [
    "**从其他来源安装**\n",
    "*   **从本地归档文件安装**（`.whl`, `.tar.gz`）：\n",
    "    ```bash\n",
    "    pip install /path/to/your/downloaded_package.whl\n",
    "    ```\n",
    "*   **从版本控制系统（如GitHub）直接安装**：\n",
    "    ```bash\n",
    "    pip install git+https://github.com/username/repository.git\n",
    "    # 也可以指定分支、标签或提交\n",
    "    pip install git+https://github.com/username/repository.git@master\n",
    "    pip install git+https://github.com/username/repository.git@v1.0\n",
    "    ```"
   ]
  },
  {
   "cell_type": "markdown",
   "id": "5d559f6c",
   "metadata": {},
   "source": [
    "#### **2. 卸载包 (Uninstall)**\n",
    "\n",
    "**基本命令：`pip uninstall <package_name>`**\n",
    "*   **作用**：卸载一个已安装的包。\n",
    "*   **示例**：卸载 `requests`\n",
    "    ```bash\n",
    "    pip uninstall requests\n",
    "    ```"
   ]
  },
  {
   "cell_type": "markdown",
   "id": "1ab8a356",
   "metadata": {},
   "source": [
    "#### **3. 查看已安装的包 (List)**\n",
    "**列出所有包：`pip list`**\n",
    "*   **作用**：以表格形式列出当前环境中所有已安装的包及其版本。"
   ]
  },
  {
   "cell_type": "markdown",
   "id": "8156130f",
   "metadata": {},
   "source": [
    "**列出过时的包：`pip list --outdated`**\n",
    "*   **缩写**：`-o`\n",
    "*   **作用**：检查所有已安装的包中，哪些有可用的新版本。"
   ]
  },
  {
   "cell_type": "markdown",
   "id": "1353b04d",
   "metadata": {},
   "source": [
    "#### **4. 查看包详情 (Show)**\n",
    "\n",
    "**命令：`pip show <package_name>`**\n",
    "*   **作用**：显示某个已安装包的详细信息。\n",
    "*   **示例**：查看 `requests` 包的详细信息\n",
    "    ```bash\n",
    "    pip show requests\n",
    "    ```"
   ]
  },
  {
   "cell_type": "markdown",
   "id": "05158554",
   "metadata": {},
   "source": [
    "#### **5. 搜索包 (Search)**\n",
    "\n",
    "*   **历史**：`pip search <keyword>` 命令曾经可以直接从终端搜索 PyPI。但由于该接口被滥用导致服务器压力过大，**官方已将其禁用**。\n",
    "*   **现在怎么做**：直接访问 **https://pypi.org/** 进行搜索。网站的搜索功能更强大，界面更友好，可以看到项目描述、下载量、文档等丰富信息。"
   ]
  },
  {
   "cell_type": "markdown",
   "id": "c497454a",
   "metadata": {},
   "source": [
    "### **第三部分：进阶技巧篇 (依赖管理) 细化详解**\n",
    "依赖管理的核心目标是：**确保项目的稳定性和可重现性**。简单来说，就是保证今天写的代码，在另一台电脑上、或者一个月后，依然能一模一样地运行，不会因为依赖库的自动更新而莫名崩溃。"
   ]
  },
  {
   "cell_type": "markdown",
   "id": "ad7b1ce6",
   "metadata": {},
   "source": [
    "#### **1. 生成依赖清单 (`pip freeze`)**\n",
    "\n",
    "**命令：`pip freeze`**\n",
    "*   **作用**：列出**当前Python环境**下所有已安装的第三方包及其**精确的版本号**。输出格式直接就是 `包名==版本号`，这个格式可以被 `pip install` 直接识别。"
   ]
  },
  {
   "cell_type": "markdown",
   "id": "dfa6922f",
   "metadata": {},
   "source": [
    "**核心应用：生成 `requirements.txt` 文件**\n",
    "*   这个文件是项目的**依赖身份证**，应该放在项目根目录，并纳入版本控制（如Git）。\n",
    "*   **生成命令**：\n",
    "    ```bash\n",
    "    pip freeze > requirements.txt\n",
    "    ```\n",
    "    这会将 `pip freeze` 的输出重定向（写入）到名为 `requirements.txt` 的文件中。"
   ]
  },
  {
   "cell_type": "markdown",
   "id": "16f1849c",
   "metadata": {},
   "source": [
    "#### **2. 从依赖清单安装 (`pip install -r`)**\n",
    "\n",
    "**命令：`pip install -r requirements.txt`**\n",
    "*   **作用**：根据 `requirements.txt` 文件中记录的包和版本，**一次性、精确地**复现项目所需的运行环境。这是团队协作和项目部署的标准流程。\n",
    "*   **工作流示例**：\n",
    "    1.  你克隆了一个新项目到本地：`git clone <project-url>`\n",
    "    2.  进入项目目录并创建虚拟环境：`python -m venv .venv` 然后 `source .venv/bin/activate` (Linux/macOS) 或 `.venv\\Scripts\\activate` (Windows)\n",
    "    3.  安装所有依赖：`pip install -r requirements.txt`\n",
    "    4.  现在你的环境就和项目所要求的环境完全一致了，可以正常运行代码了。"
   ]
  },
  {
   "cell_type": "markdown",
   "id": "708511f4",
   "metadata": {},
   "source": [
    "#### **3. `requirements.txt` 文件详解**\n",
    "\n",
    "你不仅可以固定死版本，还可以指定灵活的版本范围，这需要理解文件的语法。\n",
    "\n",
    "**版本操作符**\n",
    "| 操作符 | 说明 | 示例 | 含义 |\n",
    "| :--- | :--- | :--- | :--- |\n",
    "| `==` | 严格等于 | `django==3.2.18` | 必须安装3.2.18版 |\n",
    "| `>=` | 大于等于 | `requests>=2.25.0` | 安装2.25.0或更高版本 |\n",
    "| `<=` | 小于等于 | `numpy<=1.26.0` | 安装1.26.0或更低版本 |\n",
    "| `>` | 大于 | `pytest>6.0` | 安装6.0以上的版本（不包含6.0） |\n",
    "| `<` | 小于 | `packaging<22.0` | 安装22.0以下的版本（不包含22.0） |\n",
    "| `~=` | 兼容版本 | `celery~=5.2.0` | 允许安装**>=5.2.0, <5.3.0**的版本。即允许修订号（最后一位）和补丁号（中间一位）更新，但主版本号（第一位）必须相同。 |\n",
    "| `!=` | 不等于 | `markupsafe!=2.0.0` | 安装任何不是2.0.0的版本 |"
   ]
  },
  {
   "cell_type": "markdown",
   "id": "5cb4f479",
   "metadata": {},
   "source": [
    "#### **4. 依赖解析与冲突 (`pip check`)**\n",
    "\n",
    "**依赖冲突是如何发生的？**\n",
    "假设你的 `requirements.txt` 里有：\n",
    "```bash\n",
    "package-a==1.0.0 # 它依赖 package-c>=1.0, <2.0\n",
    "package-b==2.0.0 # 它依赖 package-c>=2.0, <3.0\n",
    "```\n",
    "`package-a` 和 `package-b` 对 `package-c` 的版本要求是矛盾的，无法同时满足。这就是依赖冲突。\n"
   ]
  },
  {
   "cell_type": "markdown",
   "id": "1c723ab6",
   "metadata": {},
   "source": [
    "**检查冲突：`pip check`**\n",
    "*   **命令**：`pip check`\n",
    "*   **作用**：验证已安装的包之间是否有兼容性冲突。\n",
    "*   **输出示例（如果有冲突）**：\n",
    "    ```\n",
    "    package-a 1.0.0 requires package-c<2.0,>=1.0, but you have package-c 2.0.0.\n",
    "    ```"
   ]
  },
  {
   "cell_type": "markdown",
   "id": "44089d56",
   "metadata": {},
   "source": [
    "*   **怎么办？**：如果出现冲突，需要：\n",
    "    1.  仔细阅读错误信息。\n",
    "    2.  尝试更新冲突的包（如 `pip install -U package-a`），看新版本是否放松了对 `package-c` 的限制。\n",
    "    3.  如果无法更新，可能需要在 `requirements.txt` 中固定一个能同时满足双方要求的、折中的 `package-c` 版本，或者寻找功能类似的替代包。"
   ]
  },
  {
   "cell_type": "markdown",
   "id": "6f2c4cfd",
   "metadata": {},
   "source": [
    "### **第四部分：高级主题与最佳实践 细化详解**\n",
    "\n",
    "#### **1. pip 与虚拟环境 (Virtual Environments) —— 【重中之重】**\n",
    "\n",
    "**具体好处：**\n",
    "1.  **解决依赖冲突**：不同项目可能需要同一个库的不同版本。\n",
    "2.  **保持系统整洁**：不会将大量的开发包安装到全局Python中，避免污染。\n",
    "3.  **便于依赖管理**：每个项目的依赖清单（`requirements.txt`）都非常清晰，只包含它自己需要的包。\n",
    "4.  **便于部署和协作**：轻松为任何项目复现其所需的精确环境。"
   ]
  },
  {
   "cell_type": "markdown",
   "id": "7b9c442e",
   "metadata": {},
   "source": [
    "**如何使用 `venv` (Python内置)**\n",
    "`venv` 是Python 3.3+标准库的一部分，无需额外安装。"
   ]
  },
  {
   "cell_type": "markdown",
   "id": "42535ced",
   "metadata": {},
   "source": [
    "1.  **创建虚拟环境**：\n",
    "    ```bash\n",
    "    # 在项目根目录下执行\n",
    "    python -m venv .venv\n",
    "    ```\n",
    "    *   `python -m venv`：运行`venv`模块。\n",
    "    *   `.venv`：虚拟环境的目录名称（常见的还有`venv`、`env`）。使用点号开头在类Unix系统上可以将其隐藏，看起来很整洁。"
   ]
  },
  {
   "cell_type": "markdown",
   "id": "d2a3ef3c",
   "metadata": {},
   "source": [
    "2.  **激活虚拟环境**：\n",
    "    *   **Windows (CMD/PowerShell)**:\n",
    "        ```bash\n",
    "        # CMD\n",
    "        .venv\\Scripts\\activate.bat\n",
    "        # PowerShell\n",
    "        .venv\\Scripts\\Activate.ps1\n",
    "        ```\n",
    "        *注意：PowerShell默认的执行策略可能禁止运行脚本。如果报错，可以先以管理员身份运行 `Set-ExecutionPolicy RemoteSigned`。*\n",
    "    *   **macOS / Linux (Bash/Zsh)**:\n",
    "        ```bash\n",
    "        source .venv/bin/activate\n",
    "        ```\n",
    "\n",
    "    **激活成功的标志**：命令提示符（Prompt）前面会出现一个 `(.venv)` 前缀。\n",
    "    ```\n",
    "    (.venv) C:\\Users\\YourName\\your_project>\n",
    "    ```"
   ]
  },
  {
   "cell_type": "markdown",
   "id": "c705e358",
   "metadata": {},
   "source": [
    "3.  **在激活的环境中进行操作**：\n",
    "    现在，使用的 `python`、`pip` 等命令都只在这个隔离环境内生效。\n",
    "    ```bash\n",
    "    (.venv) $ pip install requests  # 安装的包只在.venv内\n",
    "    (.venv) $ python -c \"import requests; print(requests.__file__)\" # 会显示包在.venv目录下\n",
    "    ```"
   ]
  },
  {
   "cell_type": "markdown",
   "id": "24bf1261",
   "metadata": {},
   "source": [
    "4.  **退出虚拟环境**：\n",
    "    ```bash\n",
    "    deactivate\n",
    "    ```\n",
    "    执行后，`(.venv)` 前缀消失，回到了系统的全局Python环境。\n"
   ]
  },
  {
   "cell_type": "markdown",
   "id": "46c1dd90",
   "metadata": {},
   "source": [
    "#### **2. 配置 pip (Configuration File)**"
   ]
  },
  {
   "cell_type": "markdown",
   "id": "8a27fb21",
   "metadata": {},
   "source": [
    "可以通过配置文件永久性地改变pip的默认行为，而无需每次都在命令后加参数。\n",
    "\n",
    "**配置文件位置（按优先级从低到高）：**\n",
    "1.  **全局配置**：`/etc/pip.conf` (Linux/macOS)\n",
    "2.  **用户配置**：\n",
    "    *   Unix: `$HOME/.config/pip/pip.conf` 或 `$HOME/.pip/pip.conf`\n",
    "    *   Windows: `%APPDATA%\\pip\\pip.ini` 或 `%HOME%\\pip\\pip.ini`\n",
    "3.  **虚拟环境配置**：`$VIRTUAL_ENV/pip.conf`\n",
    "4.  **项目配置**：当前目录下的 `pip.conf`\n",
    "\n",
    "**最常见的配置：更换国内镜像源**\n",
    "从PyPI官方源下载包在国内可能很慢。使用国内镜像源可以极大提升下载速度。\n",
    "\n",
    "*   **国内常用源（选一个即可）**：\n",
    "    *   **清华大学**：`https://pypi.tuna.tsinghua.edu.cn/simple/`\n",
    "    *   **阿里云**：`https://mirrors.aliyun.com/pypi/simple/`\n",
    "    *   **中国科技大学**：`https://pypi.mirrors.ustc.edu.cn/simple/`\n",
    "    *   **豆瓣**：`https://pypi.douban.com/simple/`\n",
    "\n",
    "*   **如何配置（以清华源为例）**：\n",
    "    1.  在用户目录下创建文件 `~/.pip/pip.conf` (Linux/macOS) 或 `%APPDATA%\\pip\\pip.ini` (Windows)。\n",
    "    2.  写入以下内容：\n",
    "        ```ini\n",
    "        [global]\n",
    "        index-url = https://pypi.tuna.tsinghua.edu.cn/simple\n",
    "        trusted-host = pypi.tuna.tsinghua.edu.cn\n",
    "        ```\n",
    "        *   `index-url`：指定镜像源地址。\n",
    "        *   `trusted-host`：将该主机标记为受信任，否则使用HTTPS时可能报错。\n",
    "\n",
    "*   **临时使用源（不想配置文件时）**：\n",
    "    ```bash\n",
    "    pip install -i https://pypi.tuna.tsinghua.edu.cn/simple some-package\n",
    "    ```"
   ]
  },
  {
   "cell_type": "markdown",
   "id": "5d7ef469",
   "metadata": {},
   "source": [
    "#### **3. 理解包格式：Wheel vs. Egg**\n",
    "\n",
    "*   **Egg**：是旧的格式，由 `setuptools` 引入。它像一个压缩的`.zip`文件，包含源代码和元数据。安装时需要先解压，有时还需要编译，过程较慢。\n",
    "*   **Wheel** (`.whl`)：是 **新的标准格式**（PEP 427）。它的关键优势是**预编译**。\n",
    "    *   **好处**：对于包含C扩展的包（如NumPy, Pandas, Cryptography），Wheel文件包含了预编译好的二进制文件（如`.pyd`或`.so`文件）。这意味着用户安装时**无需本地编译**，安装速度极快，且避免了用户可能没有编译环境（如Visual C++ Build Tools）的问题。\n",
    "    *   **如何选择**：`pip` 会**自动优先选择 Wheel 文件**。如果某个包没有提供与你平台和Python版本匹配的Wheel文件，pip才会退回到下载源代码包（`tar.gz`）并进行本地编译。\n",
    "    *   **检查**：运行 `pip debug --verbose` 可以看到你的系统兼容哪些Wheel标签（如 `cp39-cp39-win_amd64`）。"
   ]
  },
  {
   "cell_type": "markdown",
   "id": "926cc282",
   "metadata": {},
   "source": [
    "#### **4. pip 缓存 (Cache)**\n",
    "\n",
    "pip会缓存下载的包和构建的wheel，以避免重复下载和构建，节省时间和带宽。\n",
    "\n",
    "*   **查看缓存位置**：\n",
    "    ```bash\n",
    "    pip cache dir\n",
    "    ```\n",
    "*   **列出缓存内容**：\n",
    "    ```bash\n",
    "    pip cache list\n",
    "    ```\n",
    "*   **清空缓存**：\n",
    "    ```bash\n",
    "    pip cache purge\n",
    "    ```\n",
    "*   **在实际工作中**：通常不需要手动管理缓存。但在磁盘空间极度紧张或需要彻底清理时，这个命令很有用。"
   ]
  }
 ],
 "metadata": {
  "language_info": {
   "name": "python"
  }
 },
 "nbformat": 4,
 "nbformat_minor": 5
}

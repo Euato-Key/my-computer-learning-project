{
  "cells": [
    {
      "cell_type": "markdown",
      "metadata": {},
      "source": [
        "# 第四阶段：正则表达式实战与调试指南\n",
        "\n",
        "掌握了正则表达式的基础和进阶知识后，现在是时候将这些技能应用到实际场景中并学会高效调试了。本阶段将带你深入了解专业工具、性能优化策略和实战应用。\n",
        "\n",
        "## 1. 专业调试工具与技巧\n",
        "\n",
        "### Regex101：在线实时调试神器\n",
        "\n",
        "**网址**：https://regex101.com\n",
        "\n",
        "这是最强大的正则表达式在线调试工具，提供以下核心功能：\n",
        "\n",
        "- 实时高亮显示匹配结果\n",
        "- 详细解释每个正则元字符的含义\n",
        "- 支持多种正则引擎（PCRE、Python、JavaScript等）\n",
        "- 生成不同语言的代码\n",
        "- 测试多种输入样例\n",
        "\n",
        "**使用示例**：\n",
        "1. 在测试区输入正则：`r\"\\b[A-Z0-9._%+-]+@[A-Z0-9.-]+\\.[A-Z]{2,}\\b\"`\n",
        "2. 在样本文本中输入测试邮箱\n",
        "3. 查看右侧的「解释」面板理解匹配逻辑\n",
        "4. 使用「测试」功能验证多个案例\n",
        "\n",
        "### Python内置调试模式\n",
        "\n"
      ]
    },
    {
      "cell_type": "code",
      "execution_count": 1,
      "metadata": {},
      "outputs": [
        {
          "name": "stdout",
          "output_type": "stream",
          "text": [
            "MAX_REPEAT 3 3\n",
            "  IN\n",
            "    CATEGORY CATEGORY_DIGIT\n",
            "LITERAL 45\n",
            "MAX_REPEAT 3 3\n",
            "  IN\n",
            "    CATEGORY CATEGORY_DIGIT\n",
            "LITERAL 45\n",
            "MAX_REPEAT 4 4\n",
            "  IN\n",
            "    CATEGORY CATEGORY_DIGIT\n",
            "\n",
            " 0. INFO 4 0b0 12 12 (to 5)\n",
            " 5: REPEAT_ONE 9 3 3 (to 15)\n",
            " 9.   IN 4 (to 14)\n",
            "11.     CATEGORY UNI_DIGIT\n",
            "13.     FAILURE\n",
            "14:   SUCCESS\n",
            "15: LITERAL 0x2d ('-')\n",
            "17. REPEAT_ONE 9 3 3 (to 27)\n",
            "21.   IN 4 (to 26)\n",
            "23.     CATEGORY UNI_DIGIT\n",
            "25.     FAILURE\n",
            "26:   SUCCESS\n",
            "27: LITERAL 0x2d ('-')\n",
            "29. REPEAT_ONE 9 4 4 (to 39)\n",
            "33.   IN 4 (to 38)\n",
            "35.     CATEGORY UNI_DIGIT\n",
            "37.     FAILURE\n",
            "38:   SUCCESS\n",
            "39: SUCCESS\n"
          ]
        }
      ],
      "source": [
        "import re\n",
        "\n",
        "# 启用调试模式查看正则解析过程\n",
        "pattern = re.compile(r'\\d{3}-\\d{3}-\\d{4}', re.DEBUG)\n",
        "\n",
        "# 输出显示正则引擎如何解析你的模式：\n",
        "# LITERAL 123\n",
        "# LITERAL 45\n",
        "# ...（详细解析步骤）\n"
      ]
    },
    {
      "cell_type": "markdown",
      "metadata": {},
      "source": [
        "\n",
        "### 可视化调试工具\n",
        "\n",
        "- **Regexper**：https://regexper.com - 将正则表达式转换为可视化流程图\n",
        "- **Debuggex**：https://www.debuggex.com - 交互式正则调试器\n",
        "\n",
        "## 2. 性能优化高级策略\n",
        "\n",
        "### 避免回溯灾难（Catastrophic Backtracking）\n",
        "\n"
      ]
    },
    {
      "cell_type": "code",
      "execution_count": 2,
      "metadata": {},
      "outputs": [],
      "source": [
        "# 危险案例：指数级回溯\n",
        "text = \"aaaaaaaaaaaaaaaaaaaaaaaa!\"\n",
        "pattern = r\"(a+)+b\"  # 遇到!时会产生大量回溯\n",
        "\n",
        "# 解决方案1：使用原子分组（Atomic Grouping）\n",
        "safe_pattern = r\"(?>a+)+b\"  # 防止回溯\n",
        "\n",
        "# 解决方案2：使用占有量词（Possessive Quantifiers）\n",
        "safe_pattern2 = r\"a++b\"     # 类似原子分组\n"
      ]
    },
    {
      "cell_type": "markdown",
      "metadata": {},
      "source": [
        "\n",
        "### 基准测试与性能分析\n",
        "\n"
      ]
    },
    {
      "cell_type": "code",
      "execution_count": 3,
      "metadata": {},
      "outputs": [
        {
          "name": "stdout",
          "output_type": "stream",
          "text": [
            "模式: (a+)+b | 时间: 0.0015s | 每次: 0.00ms\n",
            "模式: (?>a+)+b | 时间: 0.0013s | 每次: 0.00ms\n"
          ]
        }
      ],
      "source": [
        "import time\n",
        "import re\n",
        "\n",
        "def benchmark_regex(pattern, text, iterations=1000):\n",
        "    compiled = re.compile(pattern)\n",
        "    start = time.time()\n",
        "    \n",
        "    for _ in range(iterations):\n",
        "        compiled.findall(text)\n",
        "    \n",
        "    elapsed = time.time() - start\n",
        "    print(f\"模式: {pattern} | 时间: {elapsed:.4f}s | 每次: {elapsed/iterations*1000:.2f}ms\")\n",
        "\n",
        "# 测试不同写法的性能\n",
        "text = \"a\" * 1000 + \"b\"\n",
        "benchmark_regex(r\"(a+)+b\", text)    # 危险模式\n",
        "benchmark_regex(r\"(?>a+)+b\", text)  # 优化模式\n"
      ]
    },
    {
      "cell_type": "markdown",
      "metadata": {},
      "source": [
        "\n",
        "### 高效模式设计原则\n",
        "\n",
        "1. **尽量具体**：`r\"\\d{4}-\\d{2}-\\d{2}\"` 比 `r\".*?.*?.*?\"` 快100倍\n",
        "2. **避免重复捕获**：使用非捕获分组 `(?:...)` 当不需要捕获内容时\n",
        "3. **使用锚点加速**：`r\"^start\"` 比 `r\"start\"` 更快，因为失败时立即返回\n",
        "\n",
        "## 3. 常见陷阱与解决方案\n",
        "\n",
        "### 转义问题\n",
        "\n"
      ]
    },
    {
      "cell_type": "code",
      "execution_count": 4,
      "metadata": {},
      "outputs": [
        {
          "data": {
            "text/plain": [
              "[]"
            ]
          },
          "execution_count": 4,
          "metadata": {},
          "output_type": "execute_result"
        }
      ],
      "source": [
        "# 错误：忘记转义特殊字符\n",
        "re.findall(\"example.com\", text)  # . 被当作通配符!\n",
        "\n",
        "# 正确：使用re.escape()或手动转义\n",
        "re.findall(r\"example\\.com\", text)  # 手动转义\n",
        "re.findall(re.escape(\"example.com\"), text)  # 自动转义\n"
      ]
    },
    {
      "cell_type": "markdown",
      "metadata": {},
      "source": [
        "\n",
        "### Unicode匹配问题\n",
        "\n"
      ]
    },
    {
      "cell_type": "code",
      "execution_count": 5,
      "metadata": {},
      "outputs": [
        {
          "name": "stdout",
          "output_type": "stream",
          "text": [
            "['中文Chinese', '123']\n",
            "['中文Chinese', '123!', '@#']\n"
          ]
        }
      ],
      "source": [
        "text = \"中文Chinese 123! @#\"\n",
        "\n",
        "# 匹配所有单词字符（包括中文）\n",
        "words = re.findall(r\"\\w+\", text, re.UNICODE)\n",
        "print(words)  # 输出: ['中文Chinese', '123']\n",
        "\n",
        "# 匹配所有非空白字符\n",
        "non_space = re.findall(r\"\\S+\", text)\n",
        "print(non_space)  # 输出: ['中文Chinese', '123!', '@#']\n"
      ]
    },
    {
      "cell_type": "markdown",
      "metadata": {},
      "source": [
        "\n",
        "### 多行匹配陷阱\n",
        "\n"
      ]
    },
    {
      "cell_type": "code",
      "execution_count": 6,
      "metadata": {},
      "outputs": [
        {
          "data": {
            "text/plain": [
              "['第一行\\n第二行\\n第三行']"
            ]
          },
          "execution_count": 6,
          "metadata": {},
          "output_type": "execute_result"
        }
      ],
      "source": [
        "text = \"第一行\\n第二行\\n第三行\"\n",
        "\n",
        "# 错误：默认模式下.不匹配换行符\n",
        "re.findall(r\"第一行.*第三行\", text)  # 无匹配\n",
        "\n",
        "# 正确：使用DOTALL标志或[\\s\\S]\n",
        "re.findall(r\"第一行.*第三行\", text, re.DOTALL)  # 成功\n",
        "re.findall(r\"第一行[\\s\\S]*?第三行\", text)       # 替代方案\n"
      ]
    },
    {
      "cell_type": "markdown",
      "metadata": {},
      "source": [
        "\n",
        "## 4. 综合实战项目\n",
        "\n",
        "### 项目1：日志分析系统\n",
        "\n"
      ]
    },
    {
      "cell_type": "code",
      "execution_count": 7,
      "metadata": {},
      "outputs": [],
      "source": [
        "def analyze_logs(log_file):\n",
        "    \"\"\"解析Apache/Nginx风格日志\"\"\"\n",
        "    log_pattern = r\"\"\"\n",
        "        (\\d+\\.\\d+\\.\\d+\\.\\d+)       # IP地址\n",
        "        .*?\\[(.*?)\\]                # 时间戳\n",
        "        .*?\\\"(.*?)\\\"                # 请求信息\n",
        "        (\\d+)                       # 状态码\n",
        "        (\\d+|-)                     # 响应大小\n",
        "    \"\"\"\n",
        "    \n",
        "    stats = {\"total\": 0, \"errors\": 0, \"by_ip\": {}}\n",
        "    \n",
        "    with open(log_file, 'r') as f:\n",
        "        for line in f:\n",
        "            match = re.search(log_pattern, line, re.VERBOSE)\n",
        "            if match:\n",
        "                ip, timestamp, request, status, size = match.groups()\n",
        "                stats[\"total\"] += 1\n",
        "                if status.startswith('4') or status.startswith('5'):\n",
        "                    stats[\"errors\"] += 1\n",
        "                stats[\"by_ip\"][ip] = stats[\"by_ip\"].get(ip, 0) + 1\n",
        "    \n",
        "    return stats\n",
        "\n",
        "# 使用示例\n",
        "# results = analyze_logs(\"access.log\")\n",
        "# print(f\"总请求: {results['total']}, 错误数: {results['errors']}\")\n"
      ]
    },
    {
      "cell_type": "markdown",
      "metadata": {},
      "source": [
        "\n",
        "### 项目2：数据提取与清洗管道\n",
        "\n"
      ]
    },
    {
      "cell_type": "code",
      "execution_count": 8,
      "metadata": {},
      "outputs": [
        {
          "name": "stdout",
          "output_type": "stream",
          "text": [
            "Contact john@example.com phone (123) 456-7890 Multiple spaces.\n"
          ]
        }
      ],
      "source": [
        "def data_cleanup_pipeline(text):\n",
        "    \"\"\"多步骤数据清洗\"\"\"\n",
        "    transformations = [\n",
        "        (r'\\s+', ' '),           # 合并多余空格\n",
        "        (r'[^\\w\\s\\.\\-\\@]', ''),  # 移除特殊字符（保留基本标点）\n",
        "        (r'\\b(\\d{3})-(\\d{3})-(\\d{4})\\b', r'(\\1) \\2-\\3'),  # 格式化电话\n",
        "        (r'\\b(\\w+@\\w+\\.\\w+)\\b', lambda m: m.group(1).lower()),  # 邮箱转小写\n",
        "    ]\n",
        "    \n",
        "    for pattern, replacement in transformations:\n",
        "        text = re.sub(pattern, replacement, text)\n",
        "    \n",
        "    return text\n",
        "\n",
        "# 测试清洗管道\n",
        "dirty_text = \"Contact: JOHN@EXAMPLE.COM,  phone: 123-456-7890!!!   Multiple   spaces.\"\n",
        "clean_text = data_cleanup_pipeline(dirty_text)\n",
        "print(clean_text)  # 输出: \"Contact: john@example.com, phone: (123) 456-7890 Multiple spaces.\"\n"
      ]
    },
    {
      "cell_type": "markdown",
      "metadata": {},
      "source": [
        "\n",
        "### 项目3：模板引擎（高级应用）\n",
        "\n"
      ]
    },
    {
      "cell_type": "code",
      "execution_count": 9,
      "metadata": {},
      "outputs": [
        {
          "name": "stdout",
          "output_type": "stream",
          "text": [
            "Hello Alice, your order 12345 is ready!\n"
          ]
        }
      ],
      "source": [
        "def simple_template_engine(template, data):\n",
        "    \"\"\"简易模板渲染引擎\"\"\"\n",
        "    def replace_match(match):\n",
        "        key = match.group(1)\n",
        "        return str(data.get(key, f\"{{{key}}}\"))\n",
        "    \n",
        "    # 匹配 {{key}} 格式的模板变量\n",
        "    return re.sub(r\"\\{\\{(\\w+)\\}\\}\", replace_match, template)\n",
        "\n",
        "# 使用示例\n",
        "template = \"Hello {{name}}, your order {{order_id}} is ready!\"\n",
        "data = {\"name\": \"Alice\", \"order_id\": \"12345\"}\n",
        "result = simple_template_engine(template, data)\n",
        "print(result)  # 输出: \"Hello Alice, your order 12345 is ready!\"\n"
      ]
    },
    {
      "cell_type": "markdown",
      "metadata": {},
      "source": [
        "\n",
        "## 5. 调试工作流程\n",
        "\n",
        "1. **简化问题**：先测试正则的各个部分\n",
        "2. **使用小样本**：在少量文本上测试通过后再处理大数据\n",
        "3. **逐步构建**：从简单模式开始，逐步添加复杂度\n",
        "4. **边界测试**：测试空字符串、极端值、边界情况\n",
        "5. **可视化分析**：使用Regexper等工具理解复杂正则\n",
        "\n"
      ]
    },
    {
      "cell_type": "code",
      "execution_count": 10,
      "metadata": {},
      "outputs": [
        {
          "name": "stdout",
          "output_type": "stream",
          "text": [
            "✓ 测试1: '123-4567'\n",
            "   匹配: '123-4567' (位置: 0-8)\n",
            "✗ 测试2: '1234567'\n",
            "✗ 测试3: '123-45678'\n"
          ]
        }
      ],
      "source": [
        "def debug_regex(pattern, test_cases):\n",
        "    \"\"\"正则表达式调试函数\"\"\"\n",
        "    compiled = re.compile(pattern)\n",
        "    \n",
        "    for i, test_case in enumerate(test_cases, 1):\n",
        "        match = compiled.search(test_case)\n",
        "        status = \"✓\" if match else \"✗\"\n",
        "        print(f\"{status} 测试{i}: '{test_case}'\")\n",
        "        if match:\n",
        "            print(f\"   匹配: '{match.group()}' (位置: {match.start()}-{match.end()})\")\n",
        "            if match.groups():\n",
        "                print(f\"   分组: {match.groups()}\")\n",
        "\n",
        "# 调试示例\n",
        "debug_regex(r'\\b\\d{3}-\\d{4}\\b', ['123-4567', '1234567', '123-45678'])\n"
      ]
    },
    {
      "cell_type": "markdown",
      "metadata": {},
      "source": [
        "\n",
        "## 6. 终极挑战任务\n",
        "\n",
        "1. 编写一个正则表达式验证器，能够检测并解释常见的正则表达式错误\n",
        "2. 创建性能测试套件，对比不同正则写法在处理1MB文本时的性能差异\n",
        "3. 实现一个智能日志解析器，能自动识别多种日志格式并提取关键信息\n",
        "4. 构建正则表达式学习工具，可视化展示匹配过程和回溯情况\n",
        "\n",
        "通过这些实战项目和调试技巧，你将能够自信地处理各种复杂的文本处理任务，并能够高效地调试和优化正则表达式。记住，真正的 mastery 来自于解决真实世界的问题！\n"
      ]
    }
  ],
  "metadata": {
    "kernelspec": {
      "display_name": ".venv (3.13.6)",
      "language": "python",
      "name": "python3"
    },
    "language_info": {
      "codemirror_mode": {
        "name": "ipython",
        "version": 3
      },
      "file_extension": ".py",
      "mimetype": "text/x-python",
      "name": "python",
      "nbconvert_exporter": "python",
      "pygments_lexer": "ipython3",
      "version": "3.13.6"
    }
  },
  "nbformat": 4,
  "nbformat_minor": 4
}

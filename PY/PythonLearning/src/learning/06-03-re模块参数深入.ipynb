{
  "cells": [
    {
      "cell_type": "markdown",
      "metadata": {},
      "source": [
        "### **第三阶段：进阶技巧与场景**\n",
        "#### **1. 零宽断言（Lookaround Assertions）**\n",
        "零宽断言不匹配字符，只匹配**位置**，是高级文本处理的王牌技巧！\n",
        "\n",
        "`(?=...)` 是正则表达式中的**正向先行断言（Positive Lookahead Assertion）**，是一种特殊的语法结构。\n",
        "\n",
        "它的作用是：\n",
        "- 匹配某个位置，该位置后面**紧跟着**`...`中定义的内容\n",
        "- 但**不包含**`...`中的内容在匹配结果里\n",
        "\n",
        "简单说，就是\"检查后面是否有指定内容，但不把这个内容算进匹配结果\"。\n",
        "\n",
        "例如在 `Python(?=元)` 中：\n",
        "- 只会匹配后面紧跟着\"元\"字的\"Python\"\n",
        "- 最终匹配结果只包含\"Python\"，不包含\"元\"\n",
        "\n",
        "类似的还有：\n",
        "- `(?!...)`：负向先行断言（后面**不能**是指定内容）\n",
        "- `(?<=...)`：正向后行断言（前面**必须**是指定内容）\n",
        "- `(?<!...)`：负向后行断言（前面**不能**是指定内容）\n",
        "\n",
        "这些断言都属于\"零宽断言\"，只用来判断位置，不会消耗字符串中的字符。\n",
        "##### **(1) 正向先行断言（Positive Lookahead）** `(?=pattern)`\n",
        "匹配后面跟着特定模式的位置\n"
      ]
    },
    {
      "cell_type": "code",
      "execution_count": null,
      "metadata": {},
      "outputs": [],
      "source": [
        "# 匹配后面跟着\"元\"的\"Python\"\n",
        "text = \"Python元编程 Python基础 Python进阶\"\n",
        "result = re.findall(r\"Python(?=元)\", text)\n",
        "print(result)  # 输出: ['Python'] (匹配\"Python元\"中的Python)\n"
      ]
    },
    {
      "cell_type": "markdown",
      "metadata": {},
      "source": [
        "\n",
        "##### **(2) 负向先行断言（Negative Lookahead）** `(?!pattern)`\n",
        "匹配后面不跟着特定模式的位置\n"
      ]
    },
    {
      "cell_type": "code",
      "execution_count": null,
      "metadata": {},
      "outputs": [],
      "source": [
        "# 匹配后面不是\"元\"的\"Python\"\n",
        "result = re.findall(r\"Python(?!元)\", text)\n",
        "print(result)  # 输出: ['Python', 'Python'] (匹配\"Python基础\"和\"Python进阶\"中的Python)\n"
      ]
    },
    {
      "cell_type": "markdown",
      "metadata": {},
      "source": [
        "\n",
        "##### **(3) 正向后行断言（Positive Lookbehind）** `(?<=pattern)`\n",
        "匹配前面是特定模式的位置\n"
      ]
    },
    {
      "cell_type": "code",
      "execution_count": null,
      "metadata": {},
      "outputs": [],
      "source": [
        "# 匹配前面是\"￥\"的数字\n",
        "price_text = \"价格: ￥100, $50, ￥200\"\n",
        "result = re.findall(r\"(?<=￥)\\d+\", price_text)\n",
        "print(result)  # 输出: ['100', '200']\n"
      ]
    },
    {
      "cell_type": "markdown",
      "metadata": {},
      "source": [
        "\n",
        "##### **(4) 负向后行断言（Negative Lookbehind）** `(?<!pattern)`\n",
        "匹配前面不是特定模式的位置\n"
      ]
    },
    {
      "cell_type": "code",
      "execution_count": null,
      "metadata": {},
      "outputs": [],
      "source": [
        "# 匹配前面不是\"￥\"的数字\n",
        "result = re.findall(r\"(?<!￥)\\d+\", price_text)\n",
        "print(result)  # 输出: ['50'] (匹配$50中的50)\n"
      ]
    },
    {
      "cell_type": "markdown",
      "metadata": {},
      "source": [
        "\n",
        "**实战应用：提取不含扩展名的文件名**\n"
      ]
    },
    {
      "cell_type": "code",
      "execution_count": null,
      "metadata": {},
      "outputs": [],
      "source": [
        "filenames = \"report.pdf, data.xlsx, presentation.pptx\"\n",
        "# 匹配后面没有字母（即扩展名结束位置）的点之前的内容\n",
        "results = re.findall(r\".*?(?=\\.\\w+$)\", filenames)\n",
        "print(results)  # 输出: ['report', 'data', 'presentation']\n"
      ]
    },
    {
      "cell_type": "markdown",
      "metadata": {},
      "source": [
        "\n",
        "---\n",
        "\n",
        "#### **2. 复杂模式设计实战**\n",
        "##### **(1) 精准邮箱验证**\n"
      ]
    },
    {
      "cell_type": "code",
      "execution_count": null,
      "metadata": {},
      "outputs": [],
      "source": [
        "email_pattern = r\"\"\"\n",
        "    [a-zA-Z0-9._%+-]+      # 用户名：字母、数字、特殊字符\n",
        "    @                       # @符号\n",
        "    [a-zA-Z0-9.-]+          # 域名部分\n",
        "    \\.                      # 点号(需要转义)\n",
        "    [a-zA-Z]{2,}            # 顶级域名(2个以上字母)\n",
        "\"\"\"\n",
        "\n",
        "emails = \"联系: user.name+tag@example.com, 无效邮箱: user@.com\"\n",
        "valid_emails = re.findall(email_pattern, emails, re.VERBOSE)\n",
        "print(valid_emails)  # 输出: ['user.name+tag@example.com']\n"
      ]
    },
    {
      "cell_type": "markdown",
      "metadata": {},
      "source": [
        "`re.VERBOSE` 是 Python 正则表达式模块中的一个标志（flag），也可以简写为 `re.X`，它的主要作用是**允许编写更易读的正则表达式**。\n",
        "\n",
        "当使用 `re.VERBOSE` 时，正则表达式中会忽略：\n",
        "1. 空格（除非空格被转义或放在字符类中）\n",
        "2. `#` 后面的注释（直到行尾）\n",
        "\n",
        "这让你可以像示例中那样，把复杂的正则表达式拆分成多行，并添加注释说明每个部分的作用，大大提高可读性。\n",
        "\n",
        "### 对比示例：\n",
        "如果不使用 `re.VERBOSE`，示例中的邮箱正则需要写成一行，且不能加注释：\n",
        "```python\n",
        "email_pattern = r\"[a-zA-Z0-9._%+-]+@[a-zA-Z0-9.-]+\\.[a-zA-Z]{2,}\"\n",
        "```\n",
        "\n",
        "而使用 `re.VERBOSE` 后，就可以写成带格式和注释的多行形式，逻辑更清晰：\n",
        "```python\n",
        "email_pattern = r\"\"\"\n",
        "    [a-zA-Z0-9._%+-]+      # 用户名：字母、数字、特殊字符\n",
        "    @                       # @符号\n",
        "    [a-zA-Z0-9.-]+          # 域名部分\n",
        "    \\.                      # 点号(需要转义)\n",
        "    [a-zA-Z]{2,}            # 顶级域名(2个以上字母)\n",
        "\"\"\"\n",
        "```\n",
        "\n",
        "### 注意：\n",
        "- 使用 `re.VERBOSE` 时，正则表达式字符串通常用三引号 `\"\"\"` 包裹，方便换行\n",
        "- 如果需要匹配空格，必须用 `\\ `（转义空格）或放在字符类 `[]` 中（如 `[ ]`）\n",
        "\n",
        "这个标志特别适合编写复杂的正则表达式，让代码更易于维护和理解。"
      ]
    },
    {
      "cell_type": "markdown",
      "metadata": {},
      "source": [
        "\n",
        "##### **(2) URL解析器**\n"
      ]
    },
    {
      "cell_type": "code",
      "execution_count": null,
      "metadata": {},
      "outputs": [],
      "source": [
        "url_pattern = r\"\"\"\n",
        "    (https?)://             # 协议（http或https）\n",
        "    ([\\w.-]+)               # 域名\n",
        "    (:\\d+)?                 # 端口（可选）\n",
        "    (/[\\w./?%&=]*)?         # 路径和参数（可选）\n",
        "\"\"\"\n",
        "\n",
        "url = \"访问 https://www.example.com:8080/api/data?id=123 和 http://sub.domain.com/path\"\n",
        "results = re.findall(url_pattern, url, re.VERBOSE)\n",
        "for protocol, domain, port, path in results:\n",
        "    print(f\"协议: {protocol}, 域名: {domain}, 端口: {port or '默认'}, 路径: {path or '/'}\")\n"
      ]
    },
    {
      "cell_type": "markdown",
      "metadata": {},
      "source": [
        "\n",
        "##### **(3) 中文文本处理**\n"
      ]
    },
    {
      "cell_type": "code",
      "execution_count": 2,
      "metadata": {},
      "outputs": [
        {
          "name": "stdout",
          "output_type": "stream",
          "text": [
            "中文字符: ['中', '文', '混', '合', '文', '本']\n",
            "中文词语: ['中文', '混合文本']\n"
          ]
        }
      ],
      "source": [
        "import re  # 导入正则表达式模块\n",
        "\n",
        "text = \"中文English混合文本123！@#\"\n",
        "# 提取中文字符\n",
        "chinese_chars = re.findall(r\"[\\u4e00-\\u9fff]\", text)\n",
        "print(\"中文字符:\", chinese_chars)  # 输出: ['中', '文', '混', '合', '文', '本']\n",
        "\n",
        "# 提取中文单词（连续的中文字符）\n",
        "chinese_words = re.findall(r\"[\\u4e00-\\u9fff]+\", text)\n",
        "print(\"中文词语:\", chinese_words)  # 输出: ['中文', '混合文本']"
      ]
    },
    {
      "cell_type": "markdown",
      "metadata": {},
      "source": [
        "\n",
        "---\n",
        "\n",
        "#### **3. Flags深度应用**\n"
      ]
    },
    {
      "cell_type": "code",
      "execution_count": 11,
      "metadata": {},
      "outputs": [],
      "source": [
        "text = \"Line ONE\\nline two\\nLINE THREE\""
      ]
    },
    {
      "cell_type": "markdown",
      "metadata": {},
      "source": [
        "\n",
        "| Flag | 作用 | 示例 | 结果 |\n",
        "|------|------|------|------|\n",
        "| `re.IGNORECASE` (`re.I`) | 忽略大小写 | `re.findall(r\"line\", text, re.I)` | `['Line', 'line', 'LINE']` |\n",
        "| `re.MULTILINE` (`re.M`) | 多行模式（影响^和$） | `re.findall(r\"^line\", text, re.I|re.M)` | `['Line', 'line']` |\n",
        "| `re.DOTALL` (`re.S`) | 让`.`匹配换行符 | `re.findall(r\"ONE.*LINE\", text, re.S)` | `['ONE\\nline two\\nLINE']` |\n",
        "| `re.VERBOSE` (`re.X`) | 允许注释和空格 | 如上邮箱示例 | 提高复杂正则可读性 |\n",
        "\n",
        "**多Flag组合使用**：\n"
      ]
    },
    {
      "cell_type": "code",
      "execution_count": 12,
      "metadata": {},
      "outputs": [
        {
          "name": "stdout",
          "output_type": "stream",
          "text": [
            "['Line', 'line', 'LINE']\n"
          ]
        }
      ],
      "source": [
        "# 同时忽略大小写且多行匹配\n",
        "results = re.findall(r\"^line\", text, re.I | re.M)\n",
        "print(results)  # 输出: ['Line', 'line']\n"
      ]
    },
    {
      "cell_type": "markdown",
      "metadata": {},
      "source": [
        "\n",
        "---\n",
        "\n",
        "#### **4. 高级替换技巧**\n",
        "##### **(1) 使用函数进行动态替换**\n"
      ]
    },
    {
      "cell_type": "code",
      "execution_count": 13,
      "metadata": {},
      "outputs": [
        {
          "name": "stdout",
          "output_type": "stream",
          "text": [
            "信用卡号: ####-####-####-####, 电话: ###-###-####\n"
          ]
        }
      ],
      "source": [
        "def encrypt_match(match):\n",
        "    text = match.group(0)\n",
        "    return \"#\" * len(text)\n",
        "\n",
        "text = \"信用卡号: 1234-5678-9012-3456, 电话: 400-800-1234\"\n",
        "# 将数字替换为相同长度的#号\n",
        "encrypted = re.sub(r\"\\d+\", encrypt_match, text)\n",
        "print(encrypted)  # 输出: \"信用卡号: ####-####-####-####, 电话: ###-###-####\"\n"
      ]
    },
    {
      "cell_type": "markdown",
      "metadata": {},
      "source": [
        "\n",
        "##### **(2) 条件性替换**\n"
      ]
    },
    {
      "cell_type": "code",
      "execution_count": 14,
      "metadata": {},
      "outputs": [
        {
          "name": "stdout",
          "output_type": "stream",
          "text": [
            "价格: [价格: 19.99], 折扣: 5%, 运费: [价格: 2.50]\n"
          ]
        }
      ],
      "source": [
        "text = \"价格: $19.99, 折扣: 5%, 运费: $2.50\"\n",
        "# 只替换美元金额，保留百分比\n",
        "result = re.sub(r\"\\$(\\d+\\.\\d{2})\", r\"[价格: \\1]\", text)\n",
        "print(result)  # 输出: \"价格: [价格: 19.99], 折扣: 5%, 运费: [价格: 2.50]\"\n"
      ]
    },
    {
      "cell_type": "markdown",
      "metadata": {},
      "source": [
        "\n",
        "---\n",
        "\n",
        "### **⚡ 性能优化与最佳实践**\n",
        "#### **1. 避免回溯灾难**\n"
      ]
    },
    {
      "cell_type": "code",
      "execution_count": 7,
      "metadata": {},
      "outputs": [],
      "source": [
        "# 危险模式：嵌套量词导致指数级回溯\n",
        "danger_pattern = r\"(a+)+b\"  # 多个a后跟b\n",
        "\n",
        "# 安全替代：使用原子分组或占有量词\n",
        "safe_pattern = r\"(?>a+)+b\"  # 原子分组，防止回溯\n"
      ]
    },
    {
      "cell_type": "markdown",
      "metadata": {},
      "source": [
        "\n",
        "#### **2. 预编译加速**\n"
      ]
    },
    {
      "cell_type": "code",
      "execution_count": null,
      "metadata": {},
      "outputs": [
        {
          "ename": "NameError",
          "evalue": "name 'large_document_collection' is not defined",
          "output_type": "error",
          "traceback": [
            "\u001b[31m---------------------------------------------------------------------------\u001b[39m",
            "\u001b[31mNameError\u001b[39m                                 Traceback (most recent call last)",
            "\u001b[36mCell\u001b[39m\u001b[36m \u001b[39m\u001b[32mIn[9]\u001b[39m\u001b[32m, line 4\u001b[39m\n\u001b[32m      1\u001b[39m \u001b[38;5;66;03m# 在循环外预编译正则\u001b[39;00m\n\u001b[32m      2\u001b[39m pattern = re.compile(\u001b[33mr\u001b[39m\u001b[33m\"\u001b[39m\u001b[33m\\\u001b[39m\u001b[33md\u001b[39m\u001b[38;5;132;01m{3}\u001b[39;00m\u001b[33m-\u001b[39m\u001b[33m\\\u001b[39m\u001b[33md\u001b[39m\u001b[38;5;132;01m{3}\u001b[39;00m\u001b[33m-\u001b[39m\u001b[33m\\\u001b[39m\u001b[33md\u001b[39m\u001b[38;5;132;01m{4}\u001b[39;00m\u001b[33m\"\u001b[39m)\n\u001b[32m----> \u001b[39m\u001b[32m4\u001b[39m \u001b[38;5;28;01mfor\u001b[39;00m document \u001b[38;5;129;01min\u001b[39;00m \u001b[43mlarge_document_collection\u001b[49m:\n\u001b[32m      5\u001b[39m     phones = pattern.findall(document)  \u001b[38;5;66;03m# 快速执行\u001b[39;00m\n",
            "\u001b[31mNameError\u001b[39m: name 'large_document_collection' is not defined"
          ]
        }
      ],
      "source": [
        "import \n",
        "# 在循环外预编译正则\n",
        "pattern = re.compile(r\"\\d{3}-\\d{3}-\\d{4}\")\n",
        "\n",
        "for document in large_document_collection:\n",
        "    phones = pattern.findall(document)  # 快速执行\n"
      ]
    },
    {
      "cell_type": "markdown",
      "metadata": {},
      "source": [
        "\n",
        "#### **3. 使用更高效的替代方案**\n"
      ]
    },
    {
      "cell_type": "code",
      "execution_count": null,
      "metadata": {},
      "outputs": [],
      "source": [
        "# 当只需要简单匹配时，考虑字符串方法\n",
        "if \"error\" in log_message:  # 比re.search(r\"error\", log_message)更快\n",
        "    print(\"发现错误\")\n"
      ]
    },
    {
      "cell_type": "markdown",
      "metadata": {},
      "source": [
        "\n",
        "---\n",
        "\n",
        "### **🔧 实战项目：日志分析系统**\n"
      ]
    },
    {
      "cell_type": "code",
      "execution_count": null,
      "metadata": {},
      "outputs": [],
      "source": [
        "log_data = \"\"\"\n",
        "[INFO] 2023-10-01 12:30:45 - User login from 192.168.1.100\n",
        "[ERROR] 2023-10-01 12:31:22 - Database connection failed at 10.0.0.1\n",
        "[WARN] 2023-10-01 12:32:10 - High memory usage on server 192.168.1.200\n",
        "\"\"\"\n",
        "\n",
        "log_pattern = r\"\"\"\n",
        "    \\[(\\w+)\\]                 # 日志级别\n",
        "    \\s+(\\d{4}-\\d{2}-\\d{2})    # 日期\n",
        "    \\s+(\\d{2}:\\d{2}:\\d{2})    # 时间\n",
        "    .*?                       # 中间内容\n",
        "    (\\d+\\.\\d+\\.\\d+\\.\\d+)      # IP地址\n",
        "\"\"\"\n",
        "\n",
        "for match in re.finditer(log_pattern, log_data, re.VERBOSE):\n",
        "    level, date, time, ip = match.groups()\n",
        "    print(f\"{level} at {time} from {ip}\")\n"
      ]
    },
    {
      "cell_type": "markdown",
      "metadata": {},
      "source": [
        "\n",
        "---\n",
        "\n",
        "### **📌 第三阶段挑战任务**\n",
        "1. 使用零宽断言提取「价格：￥100.00」中的数字（100.00），但不包括货币符号\n",
        "2. 编写正则验证强密码：至少8位，包含大小写字母、数字和特殊字符\n",
        "3. 解析复杂字符串「姓名:张三,年龄:30,技能:Python|Java|Go」为字典格式\n",
        "4. 优化正则性能：将`r\".*@.*\\..*\"`邮箱验证改为更高效的形式\n",
        "\n",
        "你已经进入了正则表达式的专家领域！这些技巧将让你在文本处理中所向披靡。接下来可以开始实战项目，将这些技术应用到真实场景中！\n"
      ]
    }
  ],
  "metadata": {
    "kernelspec": {
      "display_name": ".venv (3.13.6)",
      "language": "python",
      "name": "python3"
    },
    "language_info": {
      "codemirror_mode": {
        "name": "ipython",
        "version": 3
      },
      "file_extension": ".py",
      "mimetype": "text/x-python",
      "name": "python",
      "nbconvert_exporter": "python",
      "pygments_lexer": "ipython3",
      "version": "3.13.6"
    }
  },
  "nbformat": 4,
  "nbformat_minor": 4
}

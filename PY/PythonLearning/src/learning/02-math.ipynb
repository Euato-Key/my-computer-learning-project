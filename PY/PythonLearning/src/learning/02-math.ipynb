{
 "cells": [
  {
   "metadata": {},
   "cell_type": "markdown",
   "source": [
    "### **第一阶段：基础认知与准备 - 详细教程**\n",
    "\n",
    "#### **1. 认识两个来源**\n",
    "\n",
    "- 在Python中完成数学计算，我们主要依赖两个“工具包”：\n",
    "\n",
    "    - **a) Python 内置函数 (Built-in Functions)**\n",
    "        *   **是什么**：这是Python语言本身自带的一套基础函数，就像你买手机自带的基础应用（如计算器、手电筒）。\n",
    "        *   **特点**：\n",
    "            *   **无需导入**：它们总是在任何地方都可以直接使用，不需要任何额外的步骤。\n",
    "            *   **通用性**：它们不仅是数学计算，还包括数据类型转换（如 `int()`, `str()`）、序列操作（如 `len()`）、逻辑判断等。我们只关注其中与数学相关的部分。\n",
    "        *   **常见数学内置函数举例**： `abs()`, `round()`, `max()`, `min()`, `sum()`, `pow()`。\n",
    "    - **b) math 模块 (The math module)**\n",
    "\n",
    "        *   **是什么**：这是一个专门为**浮点数**数学计算而设计的标准库。它提供了更专业、更复杂的数学函数，就像你需要一个专业的科学计算器App，而不是手机自带的简易计算器。\n",
    "        *   **特点**：\n",
    "            *   **需要导入**：使用前必须明确告诉Python：“我要使用math库了”。\n",
    "            *   **专业性**：包含三角函数、对数函数、指数函数、常数π和e等。\n",
    "        *   **常见math函数举例**： `math.sqrt()`, `math.sin()`, `math.log()`, `math.pi`。"
   ],
   "id": "4d82477ecd754c05"
  },
  {
   "metadata": {},
   "cell_type": "markdown",
   "source": [
    "## 参考文档：\n",
    "1. **Python 官方文档（最权威）**\n",
    "   https://docs.python.org/3/library/math.html\n",
    "   包含 `math` 库所有函数的详细说明、参数、返回值及示例，是最权威的参考资料。\n",
    "\n",
    "2. **W3Schools Python Math 教程**\n",
    "   https://www.w3schools.com/python/python_math.asp\n",
    "   适合初学者，通过简洁的示例讲解常用数学函数的用法，附带在线代码运行环境。\n",
    "\n",
    "3. **Real Python 的 Math 模块指南**\n",
    "   https://realpython.com/python-math-module/\n",
    "   深入讲解 `math` 库的核心功能，包括进阶用法和实际场景示例，适合有一定基础的学习者。\n",
    "\n",
    "4. **GeeksforGeeks Python Math 模块教程**\n",
    "   https://www.geeksforgeeks.org/python-math-module/\n",
    "   分类整理了 `math` 库的函数（如三角函数、对数函数等），每个函数都有具体代码示例。\n",
    "\n",
    "5. **Python 数值计算入门（含 math 库）**\n",
    "   https://www.tutorialspoint.com/python/python_math_functions.htm\n",
    "   涵盖基础数学运算到复杂函数的使用，结构清晰，适合系统学习。"
   ],
   "id": "1a1097b4621f8ca7"
  },
  {
   "metadata": {},
   "cell_type": "markdown",
   "source": "### **第二阶段：内置数学函数 - 详细教程**",
   "id": "1865e26fec803551"
  },
  {
   "metadata": {},
   "cell_type": "markdown",
   "source": [
    "### **1. 数值计算函数**\n",
    "#### **`abs(x)`**\n",
    "*   **功能**：返回数字 `x` 的**绝对值**。\n",
    "*   **参数**：`x` 可以是整数 (`int`)、浮点数 (`float`)，或者实现了 `__abs__()` 方法的自定义对象（如复数 `complex`）。\n",
    "*   **返回值**：一个非负数。类型通常与输入 `x` 相同（复数返回浮点数）。\n",
    "*   **应用场景**：计算距离、误差、不考虑符号的大小比较等。"
   ],
   "id": "fc06e7ff628c9c17"
  },
  {
   "metadata": {},
   "cell_type": "code",
   "outputs": [],
   "execution_count": null,
   "source": [
    "print(abs(-10))     # 输出: 10 (整数)\n",
    "print(abs(-3.14))   # 输出: 3.14 (浮点数)\n",
    "print(abs(5))       # 输出: 5 (正数不变)\n",
    "print(abs(1 + 2j))  # 输出: 2.23606797749979 (复数的模，即 sqrt(1^2 + 2^2))"
   ],
   "id": "4ba734dd47063ba9"
  },
  {
   "metadata": {},
   "cell_type": "markdown",
   "source": [
    "#### **round**\n",
    "\n",
    "adj.\n",
    "圆形的，球形的；弧形的；微胖的，丰满的；<喻>（声音）圆润的；整数的；<古>（钱）大量的；耿直的\n",
    "\n",
    "adv.\n",
    "旋转，环绕；周长；在周围，围绕；到处，四处；朝反方向，转过来；绕弯，向另一侧；逐一，挨个；到某地，在某地；大约；闲着；从头至尾\n",
    "\n",
    "prep.\n",
    "环绕，围绕；绕过，在另一侧；解决（问题）；在……周围，包围；在……各处；在……整个期间；适应，以……为中心\n",
    "\n",
    "n.\n",
    "轮次；（比赛的）局，场；一系列常规活动；（固定的）递送路线；巡防，巡诊；一巡（饮料）；一阵（掌声）；轮唱曲；一次射击，一发子弹；圆形物；<英> 一片（面包），一个（三明治）\n",
    "\n",
    "**v.\n",
    "环绕，绕过；（使）成圆形，变圆；取整，四舍五入；圆满结束，圆满完成**\n",
    "\n",
    "【名】 （Round）（美、英、加、澳、印、德）朗德（人名）"
   ],
   "id": "93f9eaf12ea9832d"
  },
  {
   "metadata": {},
   "cell_type": "markdown",
   "source": "#### **`round(number[, ndigits])`**",
   "id": "4a7262abbec51fa7"
  },
  {
   "metadata": {},
   "cell_type": "markdown",
   "source": [
    "*   **功能**：对浮点数 `number` 进行**四舍五入**。\n",
    "*   **参数**：\n",
    "    *   `number`：要四舍五入的数字（通常是浮点数）。\n",
    "    *   `ndigits` (可选)：指定保留的小数位数。默认为 `0`（即取整）。可以是负数，表示对整数部分进行四舍五入（如 `ndigits=-1` 表示四舍五入到十位）。\n",
    "*   **返回值**：四舍五入后的数字。如果 `ndigits` 被省略或为 `None`，则返回整数 (`int`)，否则返回浮点数 (`float`)。\n",
    "*   **注意**：Python 的 `round()` 使用的是“银行家舍入法”（round half to even）。当要舍弃的部分恰好等于 `0.5` 时，它会舍入到**最近的偶数**。"
   ],
   "id": "aee4494dbc831b5d"
  },
  {
   "metadata": {},
   "cell_type": "code",
   "outputs": [],
   "execution_count": null,
   "source": "print(round(3.1415926)) # 输出: 3 (默认ndigits=0)",
   "id": "898ebccd64c09108"
  },
  {
   "metadata": {},
   "cell_type": "code",
   "outputs": [],
   "execution_count": null,
   "source": [
    "print(round(3.1415926,2))   # 输出: 3.14 (保留2位小数)\n",
    "print(round(3.14159, 3))    # 输出: 3.142 (保留3位小数)\n",
    "print(round(2.675, 2))      # 输出: 2.67 (注意！2.675 在二进制浮点表示中不完全"
   ],
   "id": "de561685f9fbfa18"
  },
  {
   "metadata": {},
   "cell_type": "code",
   "outputs": [],
   "execution_count": null,
   "source": [
    "print(round(12345, -1))     # 输出: 12340 (四舍五入到十位)\n",
    "print(round(12345, -2))     # 输出: 12300 (四舍五入到百位)\n",
    "print(round(12345, -3))     # 输出: 12000 (四舍五入到千位)"
   ],
   "id": "feefad0099f84f29"
  },
  {
   "metadata": {},
   "cell_type": "markdown",
   "source": [
    "#### **power** -> **pow()**\n",
    "\n",
    "n.\n",
    "控制力，操控力；政权，统治；权力，职权；强国，大国；有影响力的人（或组织）；能力，本领；支配力，实力；（某事物或社会集团的）影响力，势力；力量，体能；能量，电力；动力，功率； `幂，乘方，指数；` 放大率；神灵，神力；（基督教）掌权天使（powers）；（旨在提升某群体地位的）权力运动\n",
    "\n",
    "v.\n",
    "驱动，推动（机器或车辆）；（使）迅猛移动，快速前进；猛力踢（或推、顶）（尤指球）\n",
    "\n",
    "adj.\n",
    "电力的，电动的；强大的；有重要人士参与的；（服装）礼服的，显示权势的"
   ],
   "id": "f101e2393faa2777"
  },
  {
   "metadata": {},
   "cell_type": "markdown",
   "source": [
    "#### **`pow(x, y[, z])`**\n",
    "*   **功能**：计算 `x` 的 `y` 次幂（即 `x ** y`）。如果提供了第三个参数 `z`，则计算 `(x ** y) % z`（模幂运算）。\n",
    "*   **参数**：\n",
    "    *   `x`：底数。\n",
    "    *   `y`：指数。\n",
    "    *   `z` (可选)：模数。\n",
    "*   **返回值**：\n",
    "    *   如果只有 `x` 和 `y`：返回 `x ** y`。\n",
    "    *   如果提供了 `z`：返回 `(x ** y) % z`（计算更高效，尤其对于大数）。\n",
    "*   **与运算符 `**` 的区别**：`pow()` 是一个函数，`**` 是一个运算符。当需要模幂运算时，`pow(x, y, z)` 比 `(x ** y) % z` 效率高得多，且能处理非常大的数字。"
   ],
   "id": "432c1ad036341054"
  },
  {
   "metadata": {},
   "cell_type": "code",
   "outputs": [],
   "execution_count": null,
   "source": "print(pow(2, 3))        # 输出: 8 (2的3次方)",
   "id": "7b16dc9f4cdfc206"
  },
  {
   "metadata": {},
   "cell_type": "code",
   "outputs": [],
   "execution_count": null,
   "source": "print(pow(2, 3, 3))     # 输出: 2 (8 % 3 = 2)",
   "id": "3d88ed8330c7d6d5"
  },
  {
   "metadata": {},
   "cell_type": "code",
   "outputs": [],
   "execution_count": null,
   "source": "print(2 ** 3)           # 输出: 8 (等同于 pow(2, 3))",
   "id": "34413b20e8fc8620"
  },
  {
   "metadata": {
    "ExecuteTime": {
     "end_time": "2025-09-09T10:05:20.242709Z",
     "start_time": "2025-09-09T10:05:20.237832Z"
    }
   },
   "cell_type": "code",
   "source": "print(pow(10, -2))      # 输出: 0.01 (10的-2次方)",
   "id": "314aab28fa4de082",
   "outputs": [
    {
     "name": "stdout",
     "output_type": "stream",
     "text": [
      "0.01\n"
     ]
    }
   ],
   "execution_count": 16
  },
  {
   "metadata": {
    "ExecuteTime": {
     "end_time": "2025-09-09T10:06:10.404901Z",
     "start_time": "2025-09-09T10:06:10.400511Z"
    }
   },
   "cell_type": "code",
   "source": "print(pow(2,0.5))    # 输出: 1.414…… (2的0.5次方)",
   "id": "907c2ad2a783f61a",
   "outputs": [
    {
     "name": "stdout",
     "output_type": "stream",
     "text": [
      "1.4142135623730951\n"
     ]
    }
   ],
   "execution_count": 18
  },
  {
   "metadata": {
    "ExecuteTime": {
     "end_time": "2025-09-09T10:07:00.339945Z",
     "start_time": "2025-09-09T10:07:00.325042Z"
    }
   },
   "cell_type": "code",
   "source": "print(pow(2,1+2j))",
   "id": "982b658d41693ac1",
   "outputs": [
    {
     "name": "stdout",
     "output_type": "stream",
     "text": [
      "(0.36691394948660344+1.9660554808224875j)\n"
     ]
    }
   ],
   "execution_count": 19
  },
  {
   "metadata": {},
   "cell_type": "markdown",
   "source": [
    "#### **`divmod(a, b)`**\n",
    "*   **功能**：将两个数字（非复数）作为参数，返回一个包含它们的**商**和**余数**的元组 `(a // b, a % b)`。\n",
    "*   **参数**：`a` (被除数), `b` (除数)。\n",
    "*   **返回值**：一个元组 `(quotient, remainder)`。\n",
    "    *   `quotient = a // b` (整数除法，向下取整)\n",
    "    *   `remainder = a % b` (取模/余数)"
   ],
   "id": "e40595881073624c"
  },
  {
   "metadata": {
    "ExecuteTime": {
     "end_time": "2025-09-09T10:10:17.983702Z",
     "start_time": "2025-09-09T10:10:17.979487Z"
    }
   },
   "cell_type": "code",
   "source": [
    "result = divmod(10, 3)\n",
    "print(result)\n",
    "print(type(result))\n",
    "quotient,remainder = divmod(17,5)\n",
    "print(f\"商：{quotient},余数：{remainder}\")\n",
    "print(divmod(7.5,2.5))\n",
    "print(divmod(10,-3))"
   ],
   "id": "5969c3b94c802c91",
   "outputs": [
    {
     "name": "stdout",
     "output_type": "stream",
     "text": [
      "(3, 1)\n",
      "<class 'tuple'>\n",
      "商：3,余数：2\n",
      "(3.0, 0.0)\n",
      "(-4, -2)\n"
     ]
    }
   ],
   "execution_count": 22
  },
  {
   "metadata": {},
   "cell_type": "markdown",
   "source": [
    "### 计算商\n",
    "在Python中，整数除法遵循“向下取整”原则，即 `a // b` ，对于 `10 // -3` ，根据向下取整规则，结果是 `-4` 。因为 `-4 * -3 = 12` ，`-3 * -3 = 9` ，而向下取整就是取不大于实际商的最大整数，`10 / -3 ≈ -3.33` ，不大于 `-3.33` 的最大整数是 `-4` 。\n",
    "\n",
    "### 计算余数\n",
    "根据余数计算公式 `余数 = 被除数 - 除数 * 商` ，已知被除数 `a = 10` ，除数 `b = -3` ，商为 `-4` ，则余数为 `10 - (-3) * (-4) = 10 - 12 = -2` 。\n",
    "\n",
    "所以，`divmod(10, -3)` 的结果是 `(-4, -2)` ，运行 `print(divmod(10, -3))` 后，在控制台会输出 `(-4, -2)` 。"
   ],
   "id": "f79a3109b0f4bbc7"
  },
  {
   "metadata": {},
   "cell_type": "markdown",
   "source": [
    "### **2. 序列操作与统计函数**\n",
    "\n",
    "#### **`sum(iterable[, start])`**\n",
    "*   **功能**：计算可迭代对象（如列表、元组、集合、字典的键或值）中所有元素的总和。\n",
    "*   **参数**：\n",
    "    *   `iterable`：包含可加元素的序列（通常是数字）。\n",
    "    *   `start` (可选)：计算的起始值。默认为 `0`。\n",
    "*   **返回值**：所有元素加上 `start` 的总和。"
   ],
   "id": "b6cc5a9189c4248"
  },
  {
   "metadata": {
    "ExecuteTime": {
     "end_time": "2025-09-09T10:14:59.531868Z",
     "start_time": "2025-09-09T10:14:59.525589Z"
    }
   },
   "cell_type": "code",
   "source": [
    "numbers = [1, 2, 3, 4, 5]\n",
    "print(sum(numbers))"
   ],
   "id": "36b7eed3ed778034",
   "outputs": [
    {
     "name": "stdout",
     "output_type": "stream",
     "text": [
      "15\n"
     ]
    }
   ],
   "execution_count": 24
  },
  {
   "metadata": {
    "ExecuteTime": {
     "end_time": "2025-09-09T10:15:12.636802Z",
     "start_time": "2025-09-09T10:15:12.630954Z"
    }
   },
   "cell_type": "code",
   "source": "print(sum(numbers, 10))      # 输出: 25 (15 + 10)",
   "id": "b77ee9965651ffa8",
   "outputs": [
    {
     "name": "stdout",
     "output_type": "stream",
     "text": [
      "25\n"
     ]
    }
   ],
   "execution_count": 25
  },
  {
   "metadata": {
    "ExecuteTime": {
     "end_time": "2025-09-09T10:15:18.704007Z",
     "start_time": "2025-09-09T10:15:18.699534Z"
    }
   },
   "cell_type": "code",
   "source": [
    "tuples = (1.5, 2.5, 3.5)\n",
    "print(sum(tuples))           # 输出: 7.5"
   ],
   "id": "d9244c4dbae9fb5",
   "outputs": [
    {
     "name": "stdout",
     "output_type": "stream",
     "text": [
      "7.5\n"
     ]
    }
   ],
   "execution_count": 26
  },
  {
   "metadata": {
    "ExecuteTime": {
     "end_time": "2025-09-09T10:15:25.999294Z",
     "start_time": "2025-09-09T10:15:25.994554Z"
    }
   },
   "cell_type": "code",
   "source": [
    "sets = {10, 20, 30}\n",
    "print(sum(sets))             # 输出: 60"
   ],
   "id": "349a76bf97cf1981",
   "outputs": [
    {
     "name": "stdout",
     "output_type": "stream",
     "text": [
      "60\n"
     ]
    }
   ],
   "execution_count": 27
  },
  {
   "metadata": {
    "ExecuteTime": {
     "end_time": "2025-09-09T10:15:46.439316Z",
     "start_time": "2025-09-09T10:15:46.414187Z"
    }
   },
   "cell_type": "code",
   "source": [
    "# 字典默认对键求和\n",
    "my_dict = {'a': 1, 'b': 2, 'c': 3}\n",
    "print(sum(my_dict))          # 输出: 6 (尝试 'a' + 'b' + 'c' -> TypeError! 因为字符串不能加)"
   ],
   "id": "30287e649097bda9",
   "outputs": [
    {
     "ename": "TypeError",
     "evalue": "unsupported operand type(s) for +: 'int' and 'str'",
     "output_type": "error",
     "traceback": [
      "\u001B[31m---------------------------------------------------------------------------\u001B[39m",
      "\u001B[31mTypeError\u001B[39m                                 Traceback (most recent call last)",
      "\u001B[36mCell\u001B[39m\u001B[36m \u001B[39m\u001B[32mIn[29]\u001B[39m\u001B[32m, line 3\u001B[39m\n\u001B[32m      1\u001B[39m \u001B[38;5;66;03m# 字典默认对键求和\u001B[39;00m\n\u001B[32m      2\u001B[39m my_dict = {\u001B[33m'\u001B[39m\u001B[33ma\u001B[39m\u001B[33m'\u001B[39m: \u001B[32m1\u001B[39m, \u001B[33m'\u001B[39m\u001B[33mb\u001B[39m\u001B[33m'\u001B[39m: \u001B[32m2\u001B[39m, \u001B[33m'\u001B[39m\u001B[33mc\u001B[39m\u001B[33m'\u001B[39m: \u001B[32m3\u001B[39m}\n\u001B[32m----> \u001B[39m\u001B[32m3\u001B[39m \u001B[38;5;28mprint\u001B[39m(\u001B[38;5;28;43msum\u001B[39;49m\u001B[43m(\u001B[49m\u001B[43mmy_dict\u001B[49m\u001B[43m)\u001B[49m)          \u001B[38;5;66;03m# 输出: 6 (尝试 'a' + 'b' + 'c' -> TypeError! 因为字符串不能加)\u001B[39;00m\n",
      "\u001B[31mTypeError\u001B[39m: unsupported operand type(s) for +: 'int' and 'str'"
     ]
    }
   ],
   "execution_count": 29
  },
  {
   "metadata": {
    "ExecuteTime": {
     "end_time": "2025-09-09T10:15:51.816209Z",
     "start_time": "2025-09-09T10:15:51.811666Z"
    }
   },
   "cell_type": "code",
   "source": "print(sum(my_dict.values())) # 输出: 6 (正确: 1+2+3)",
   "id": "7f3a87db8fb76f85",
   "outputs": [
    {
     "name": "stdout",
     "output_type": "stream",
     "text": [
      "6\n"
     ]
    }
   ],
   "execution_count": 30
  },
  {
   "metadata": {},
   "cell_type": "markdown",
   "source": [
    "#### **`max(iterable, *[, key, default])` / `max(arg1, arg2, *args[, key])`**\n",
    "*   **功能**：返回可迭代对象中的**最大值**，或者返回两个及以上参数中的最大值。\n",
    "*   **参数形式**：\n",
    "    *   **形式一**：`max(iterable, *, key=None, default=None)`\n",
    "        *   `iterable`：要查找最大值的序列。\n",
    "        *   `key` (可选)：一个函数，用于指定比较依据（如 `key=len` 表示按长度比较）。\n",
    "        *   `default` (可选)：如果 `iterable` 为空，则返回此值。不提供且 `iterable` 为空会引发 `ValueError`。\n",
    "    *   **形式二**：`max(arg1, arg2, *args, *, key=None)`\n",
    "        *   `arg1, arg2, *args`：两个或多个要比较的对象。\n",
    "        *   `key` (可选)：同上。\n",
    "*   **返回值**：序列或参数中的最大值。"
   ],
   "id": "70419cdeecd99f5f"
  },
  {
   "metadata": {
    "ExecuteTime": {
     "end_time": "2025-09-09T10:16:54.933837Z",
     "start_time": "2025-09-09T10:16:54.930270Z"
    }
   },
   "cell_type": "code",
   "source": [
    "# 形式一：从序列中找最大值\n",
    "numbers = [5, 1, 8, 3, 9]\n",
    "print(max(numbers))              # 输出: 9"
   ],
   "id": "59fcf9a2a6b1ba61",
   "outputs": [
    {
     "name": "stdout",
     "output_type": "stream",
     "text": [
      "9\n"
     ]
    }
   ],
   "execution_count": 32
  },
  {
   "metadata": {
    "ExecuteTime": {
     "end_time": "2025-09-09T10:17:05.009934Z",
     "start_time": "2025-09-09T10:17:05.003893Z"
    }
   },
   "cell_type": "code",
   "source": [
    "words = [\"apple\", \"banana\", \"cherry\", \"date\"]\n",
    "print(max(words))                # 输出: 'date' (按字母顺序)"
   ],
   "id": "8957ddd1653f169",
   "outputs": [
    {
     "name": "stdout",
     "output_type": "stream",
     "text": [
      "date\n"
     ]
    }
   ],
   "execution_count": 33
  },
  {
   "metadata": {
    "ExecuteTime": {
     "end_time": "2025-09-09T10:17:26.332614Z",
     "start_time": "2025-09-09T10:17:26.329134Z"
    }
   },
   "cell_type": "code",
   "source": "print(max(words, key=len))       # 输出: 'banana' (按长度比较)",
   "id": "1c54428cc84189ba",
   "outputs": [
    {
     "name": "stdout",
     "output_type": "stream",
     "text": [
      "banana\n"
     ]
    }
   ],
   "execution_count": 34
  },
  {
   "metadata": {
    "ExecuteTime": {
     "end_time": "2025-09-09T10:19:08.836006Z",
     "start_time": "2025-09-09T10:19:08.832027Z"
    }
   },
   "cell_type": "code",
   "source": [
    "empty_list = []\n",
    "# print(max(empty_list))         # 会引发 ValueError: max() arg is an empty sequence\n",
    "print(max(empty_list, default=0)) # 输出: 0 (使用default避免错误)\n"
   ],
   "id": "7b70f395d5ea0ace",
   "outputs": [
    {
     "name": "stdout",
     "output_type": "stream",
     "text": [
      "0\n"
     ]
    }
   ],
   "execution_count": 35
  },
  {
   "metadata": {
    "ExecuteTime": {
     "end_time": "2025-09-09T10:19:25.521954Z",
     "start_time": "2025-09-09T10:19:25.517192Z"
    }
   },
   "cell_type": "code",
   "source": [
    "# 形式二：比较多个参数\n",
    "print(max(10, 20, 30))           # 输出: 30\n",
    "print(max(3.14, -5, 10, key=abs)) # 输出: -5 (按绝对值比较，-5的绝对值最大)"
   ],
   "id": "3cb62e4f445513c5",
   "outputs": [
    {
     "name": "stdout",
     "output_type": "stream",
     "text": [
      "30\n",
      "10\n"
     ]
    }
   ],
   "execution_count": 36
  },
  {
   "metadata": {},
   "cell_type": "markdown",
   "source": [
    "### **3. 进制转换函数（与数学紧密相关）**\n",
    "\n",
    "这些函数将整数转换为不同进制表示的**字符串**。\n",
    "\n",
    "#### **`bin(x)`**\n",
    "*   **功能**：将整数 `x` 转换为一个以 `'0b'` 开头的**二进制**字符串。\n",
    "*   **参数**：`x` 必须是整数 (`int`)。\n",
    "*   **返回值**：二进制字符串。"
   ],
   "id": "95c619dd971ccc7a"
  },
  {
   "metadata": {
    "ExecuteTime": {
     "end_time": "2025-09-09T10:22:06.760213Z",
     "start_time": "2025-09-09T10:22:06.755359Z"
    }
   },
   "cell_type": "code",
   "source": [
    "print(bin(10))    # 输出: '0b1010'\n",
    "print(bin(0))     # 输出: '0b0'\n",
    "print(bin(-5))    # 输出: '-0b101' (注意负数的二进制表示是补码，这里显示的是绝对值的二进制加负号)\n",
    "# 去掉 '0b' 前缀\n",
    "binary_str = bin(10)[2:]\n",
    "print(binary_str) # 输出: '1010'\n"
   ],
   "id": "bddf7905420387e2",
   "outputs": [
    {
     "name": "stdout",
     "output_type": "stream",
     "text": [
      "0b1010\n",
      "0b0\n",
      "-0b101\n",
      "1010\n"
     ]
    }
   ],
   "execution_count": 37
  },
  {
   "metadata": {},
   "cell_type": "markdown",
   "source": [
    "#### **`oct(x)`**\n",
    "*   **功能**：将整数 `x` 转换为一个以 `'0o'` 开头的**八进制**字符串。\n",
    "*   **参数**：`x` 必须是整数 (`int`)。\n",
    "*   **返回值**：八进制字符串。"
   ],
   "id": "3acede0beb39c334"
  },
  {
   "metadata": {
    "ExecuteTime": {
     "end_time": "2025-09-09T10:22:35.688Z",
     "start_time": "2025-09-09T10:22:35.684283Z"
    }
   },
   "cell_type": "code",
   "source": [
    "print(oct(10))    # 输出: '0o12'\n",
    "print(oct(64))    # 输出: '0o100'\n",
    "# 去掉 '0o' 前缀\n",
    "octal_str = oct(10)[2:]\n",
    "print(octal_str)  # 输出: '12'"
   ],
   "id": "79f96b358c91fdbd",
   "outputs": [
    {
     "name": "stdout",
     "output_type": "stream",
     "text": [
      "0o12\n",
      "0o100\n",
      "12\n"
     ]
    }
   ],
   "execution_count": 38
  },
  {
   "metadata": {},
   "cell_type": "markdown",
   "source": [
    "#### **`hex(x)`**\n",
    "*   **功能**：将整数 `x` 转换为一个以 `'0x'` 开头的**十六进制**字符串（小写字母）。\n",
    "*   **参数**：`x` 必须是整数 (`int`)。\n",
    "*   **返回值**：十六进制字符串（字母 a-f 为小写）。"
   ],
   "id": "65dc2704660700c"
  },
  {
   "metadata": {
    "ExecuteTime": {
     "end_time": "2025-09-09T10:22:53.891207Z",
     "start_time": "2025-09-09T10:22:53.887107Z"
    }
   },
   "cell_type": "code",
   "source": [
    "print(hex(255))   # 输出: '0xff'\n",
    "print(hex(16))    # 输出: '0x10'\n",
    "# 去掉 '0x' 前缀，并转换为大写（如果需要）\n",
    "hex_str = hex(255)[2:]\n",
    "print(hex_str)    # 输出: 'ff'\n",
    "hex_str_upper = hex(255)[2:].upper()\n",
    "print(hex_str_upper) # 输出: 'FF'"
   ],
   "id": "df4d81b745941747",
   "outputs": [
    {
     "name": "stdout",
     "output_type": "stream",
     "text": [
      "0xff\n",
      "0x10\n",
      "ff\n",
      "FF\n"
     ]
    }
   ],
   "execution_count": 39
  },
  {
   "metadata": {},
   "cell_type": "markdown",
   "source": [
    "### 进入math 模块核心功能详解\n",
    "### **1. 数与表示（数值操作与检查）**\n",
    "\n",
    "#### **`math.ceil(x)`**\n",
    "*   **功能**：返回大于或等于 `x` 的最小**整数**（向上取整）。\n",
    "*   **参数**：`x` 是数值（整数或浮点数）。\n",
    "*   **返回值**：整数。"
   ],
   "id": "c15dc0c038e3914d"
  },
  {
   "metadata": {},
   "cell_type": "markdown",
   "source": [
    "`ceiling`:\n",
    "\n",
    "n.\n",
    "天花板，吊顶；上限，最高限度；最高飞行限度， **升限**"
   ],
   "id": "e3d4452bc37f8c1c"
  },
  {
   "metadata": {
    "ExecuteTime": {
     "end_time": "2025-09-09T10:49:13.943680Z",
     "start_time": "2025-09-09T10:49:13.939550Z"
    }
   },
   "cell_type": "code",
   "source": [
    "import math as mt\n",
    "print(mt.ceil(5.2))\n",
    "print(mt.ceil(-5.2))\n",
    "print(mt.ceil(4.0))"
   ],
   "id": "f4002626121bba1e",
   "outputs": [
    {
     "name": "stdout",
     "output_type": "stream",
     "text": [
      "6\n",
      "-5\n",
      "4\n"
     ]
    }
   ],
   "execution_count": 61
  },
  {
   "metadata": {},
   "cell_type": "markdown",
   "source": [
    "#### **`math.floor(x)`**\n",
    "*   **功能**：返回小于或等于 `x` 的最大**整数**（向下取整）。\n",
    "*   **参数**：`x` 是数值（整数或浮点数）。\n",
    "*   **返回值**：整数。"
   ],
   "id": "3ed30996f50fd8e6"
  },
  {
   "metadata": {
    "ExecuteTime": {
     "end_time": "2025-09-09T10:33:17.057852Z",
     "start_time": "2025-09-09T10:33:17.053663Z"
    }
   },
   "cell_type": "code",
   "source": [
    "print(mt.floor(4.9))   # 输出: 4\n",
    "print(mt.floor(-4.9))  # 输出: -5 (注意：向负无穷方向取整)\n",
    "print(mt.floor(4.0))   # 输出: 4"
   ],
   "id": "2c103014c698458b",
   "outputs": [
    {
     "name": "stdout",
     "output_type": "stream",
     "text": [
      "4\n",
      "-5\n",
      "4\n"
     ]
    }
   ],
   "execution_count": 44
  },
  {
   "metadata": {},
   "cell_type": "markdown",
   "source": [
    "#### **`math.trunc(x)`**\n",
    "- Truncation\n",
    "*   **功能**：返回 `x` 的**整数部分**（向零取整）。对于正数相当于 `floor`，对于负数相当于 `ceil`。\n",
    "*   **参数**：`x` 是数值（整数或浮点数）。\n",
    "*   **返回值**：整数。"
   ],
   "id": "4b1a7a424aa68b87"
  },
  {
   "metadata": {
    "ExecuteTime": {
     "end_time": "2025-09-09T10:33:58.556364Z",
     "start_time": "2025-09-09T10:33:58.552688Z"
    }
   },
   "cell_type": "code",
   "source": [
    "print(mt.trunc(4.9))   # 输出: 4\n",
    "print(mt.trunc(-4.9))  # 输出: -4 (直接去掉小数部分)\n",
    "print(mt.trunc(4.0))   # 输出: 4"
   ],
   "id": "b1145b0690443d27",
   "outputs": [
    {
     "name": "stdout",
     "output_type": "stream",
     "text": [
      "4\n",
      "-4\n",
      "4\n"
     ]
    }
   ],
   "execution_count": 46
  },
  {
   "metadata": {},
   "cell_type": "markdown",
   "source": [
    "#### **`math.isclose(a, b, *, rel_tol=1e-09, abs_tol=0.0)`** (极其重要！)\n",
    "*   **功能**：判断两个浮点数 `a` 和 `b` 是否“足够接近”。这是处理**浮点数精度问题**的标准方法！永远不要直接用 `==` 比较浮点数！\n",
    "*   **参数**：\n",
    "    *   `a`, `b`：要比较的两个浮点数。\n",
    "    *   `rel_tol` (可选)：相对容差。默认为 `1e-09` (即 0.000000001)。比较基于 `abs(a-b) <= max(rel_tol * max(abs(a), abs(b)), abs_tol)`。\n",
    "    *   `abs_tol` (可选)：绝对容差。默认为 `0.0`。主要用于比较接近零的数。\n",
    "*   **返回值**：布尔值 (`True` 或 `False`)。"
   ],
   "id": "5ea377914d2a9ac1"
  },
  {
   "metadata": {
    "ExecuteTime": {
     "end_time": "2025-09-09T10:36:58.362678Z",
     "start_time": "2025-09-09T10:36:58.359920Z"
    }
   },
   "cell_type": "code",
   "source": "import math",
   "id": "e06a9259a2cd1ba0",
   "outputs": [],
   "execution_count": 48
  },
  {
   "metadata": {
    "ExecuteTime": {
     "end_time": "2025-09-09T10:38:34.476492Z",
     "start_time": "2025-09-09T10:38:34.472803Z"
    }
   },
   "cell_type": "code",
   "source": [
    "a = 0.1 + 0.2\n",
    "b = 0.3\n",
    "print(a == b)\n"
   ],
   "id": "e56589ff0e65d9ae",
   "outputs": [
    {
     "name": "stdout",
     "output_type": "stream",
     "text": [
      "False\n"
     ]
    }
   ],
   "execution_count": 52
  },
  {
   "metadata": {
    "ExecuteTime": {
     "end_time": "2025-09-09T10:38:45.875097Z",
     "start_time": "2025-09-09T10:38:45.868055Z"
    }
   },
   "cell_type": "code",
   "source": "print(math.isclose(a,b))",
   "id": "7244ba6482803bca",
   "outputs": [
    {
     "name": "stdout",
     "output_type": "stream",
     "text": [
      "True\n"
     ]
    }
   ],
   "execution_count": 53
  },
  {
   "metadata": {
    "ExecuteTime": {
     "end_time": "2025-09-09T10:39:21.921731Z",
     "start_time": "2025-09-09T10:39:21.917758Z"
    }
   },
   "cell_type": "code",
   "source": "print(math.isclose(1.0,1.00000000001))",
   "id": "c41f1e4870d45f5f",
   "outputs": [
    {
     "name": "stdout",
     "output_type": "stream",
     "text": [
      "True\n"
     ]
    }
   ],
   "execution_count": 54
  },
  {
   "metadata": {
    "ExecuteTime": {
     "end_time": "2025-09-09T10:39:35.860265Z",
     "start_time": "2025-09-09T10:39:35.857072Z"
    }
   },
   "cell_type": "code",
   "source": "print(math.isclose(1.0, 1.0000000001, rel_tol=1e-10)) # 输出: False",
   "id": "c56eb39cd846aecb",
   "outputs": [
    {
     "name": "stdout",
     "output_type": "stream",
     "text": [
      "False\n"
     ]
    }
   ],
   "execution_count": 55
  },
  {
   "metadata": {
    "ExecuteTime": {
     "end_time": "2025-09-09T10:40:38.188644Z",
     "start_time": "2025-09-09T10:40:38.185408Z"
    }
   },
   "cell_type": "code",
   "source": [
    "# 比较接近零的数 (使用 abs_tol)\n",
    "print(math.isclose(1e-9, 1e-10))               # 输出: False (相对差距大)"
   ],
   "id": "37bf1a4e1162c61",
   "outputs": [
    {
     "name": "stdout",
     "output_type": "stream",
     "text": [
      "False\n"
     ]
    }
   ],
   "execution_count": 57
  },
  {
   "metadata": {
    "ExecuteTime": {
     "end_time": "2025-09-09T10:41:01.187979Z",
     "start_time": "2025-09-09T10:41:01.184625Z"
    }
   },
   "cell_type": "code",
   "source": "print(math.isclose(1e-9, 1e-10, abs_tol=1e-8))  # 输出: True (绝对差距小于 abs_tol)",
   "id": "16e44398260f1c22",
   "outputs": [
    {
     "name": "stdout",
     "output_type": "stream",
     "text": [
      "True\n"
     ]
    }
   ],
   "execution_count": 58
  },
  {
   "metadata": {},
   "cell_type": "markdown",
   "source": [
    "#### **`math.isfinite(x)`, `math.isinf(x)`, `math.isnan(x)`**\n",
    "*   **功能**：检查数字的特殊状态。\n",
    "    *   `math.isfinite(x)`：如果 `x` 既不是无穷大也不是 NaN，则返回 `True`。\n",
    "    *   `math.isinf(x)`：如果 `x` 是正无穷大或负无穷大，则返回 `True`。\n",
    "    *   `math.isnan(x)`：如果 `x` 是 NaN (Not a Number)，则返回 `True`。\n",
    "*   **参数**：`x` 是数值。\n",
    "*   **返回值**：布尔值 (`True` 或 `False`)。"
   ],
   "id": "467f2b70bdf04044"
  },
  {
   "metadata": {
    "ExecuteTime": {
     "end_time": "2025-09-09T10:44:55.793634Z",
     "start_time": "2025-09-09T10:44:55.787051Z"
    }
   },
   "cell_type": "code",
   "source": [
    "print(math.isfinite(3.14))       # 输出: True\n",
    "print(math.isfinite(float('inf'))) # 输出: False\n",
    "print(math.isfinite(float('nan'))) # 输出: False\n",
    "print(math.isinf(float('inf')))   # 输出: True\n",
    "print(math.isinf(float('-inf')))  # 输出: True\n",
    "print(math.isinf(3.14))           # 输出: False\n",
    "print(math.isnan(float('nan')))   # 输出: True\n",
    "print(math.isnan(3.14))           # 输出: False"
   ],
   "id": "1bf6c1aa4c18369d",
   "outputs": [
    {
     "name": "stdout",
     "output_type": "stream",
     "text": [
      "True\n",
      "False\n",
      "False\n",
      "True\n",
      "True\n",
      "False\n",
      "True\n",
      "False\n"
     ]
    }
   ],
   "execution_count": 59
  },
  {
   "metadata": {},
   "cell_type": "markdown",
   "source": "*   **应用场景**：数据清洗（过滤无效值如 NaN、Inf）、计算结果验证（防止无效值传播）。",
   "id": "c7afc06e9b2566d2"
  },
  {
   "metadata": {},
   "cell_type": "markdown",
   "source": [
    "### **2. 幂与对数函数**\n",
    "\n",
    "#### **`math.sqrt(x)`**\n",
    "*   **功能**：计算 `x` 的**平方根**。\n",
    "*   **参数**：`x` 必须是一个**非负**数（`x >= 0`）。\n",
    "*   **返回值**：`x` 的平方根（浮点数）。"
   ],
   "id": "2ef873167288758c"
  },
  {
   "metadata": {
    "ExecuteTime": {
     "end_time": "2025-09-09T10:46:50.397565Z",
     "start_time": "2025-09-09T10:46:50.392750Z"
    }
   },
   "cell_type": "code",
   "source": [
    "print(math.sqrt(25))    # 输出: 5.0\n",
    "print(math.sqrt(2))     # 输出: 1.4142135623730951\n",
    "# print(math.sqrt(-1))  # 会引发 ValueError: math domain error"
   ],
   "id": "51c6447a4fb071ff",
   "outputs": [
    {
     "name": "stdout",
     "output_type": "stream",
     "text": [
      "5.0\n",
      "1.4142135623730951\n"
     ]
    }
   ],
   "execution_count": 60
  },
  {
   "metadata": {},
   "cell_type": "markdown",
   "source": "*   **应用场景**：勾股定理、标准差计算、二次方程求根。",
   "id": "b76a39517040cbe5"
  },
  {
   "metadata": {},
   "cell_type": "markdown",
   "source": [
    "#### **`math.exp(x)`**\n",
    "*   **功能**：计算 `e` (自然常数，约等于 2.71828) 的 `x` 次幂。\n",
    "*   **参数**：`x` 是数值。\n",
    "*   **返回值**：`e**x` (浮点数)。"
   ],
   "id": "ee84d69bc0ae0574"
  },
  {
   "metadata": {
    "ExecuteTime": {
     "end_time": "2025-09-09T10:51:07.052434Z",
     "start_time": "2025-09-09T10:51:07.047050Z"
    }
   },
   "cell_type": "code",
   "source": [
    "print(math.exp(1))      # 输出: 2.718281828459045 (近似 e)\n",
    "print(math.exp(0))      # 输出: 1.0\n",
    "print(math.exp(2))      # 输出: 7.38905609893065 (e^2)"
   ],
   "id": "1cbd9807f541bfbd",
   "outputs": [
    {
     "name": "stdout",
     "output_type": "stream",
     "text": [
      "2.718281828459045\n",
      "1.0\n",
      "7.38905609893065\n"
     ]
    }
   ],
   "execution_count": 62
  },
  {
   "metadata": {},
   "cell_type": "markdown",
   "source": [
    "#### **`math.log(x[, base])`**\n",
    "*   **功能**：计算 `x` 的对数。\n",
    "*   **参数**：\n",
    "    *   `x`：必须是一个**正数**（`x > 0`）。\n",
    "    *   `base` (可选)：对数的底数。默认为 `e`（自然对数 `ln(x)`）。\n",
    "*   **返回值**：以 `base` 为底的 `x` 的对数（浮点数）。"
   ],
   "id": "b0fd96745c682eb7"
  },
  {
   "metadata": {
    "ExecuteTime": {
     "end_time": "2025-09-09T10:52:33.727579Z",
     "start_time": "2025-09-09T10:52:33.721462Z"
    }
   },
   "cell_type": "code",
   "source": [
    "print(math.log(math.e))    # 输出: 1.0 (ln(e) = 1)\n",
    "print(math.log(100, 10))   # 输出: 2.0 (log10(100) = 2)\n",
    "print(math.log(8, 2))      # 输出: 3.0 (log2(8) = 3)\n",
    "# print(math.log(-1))      # 会引发 ValueError: math domain error"
   ],
   "id": "cde551f93eb81a8f",
   "outputs": [
    {
     "name": "stdout",
     "output_type": "stream",
     "text": [
      "1.0\n",
      "2.0\n",
      "3.0\n"
     ]
    }
   ],
   "execution_count": 63
  },
  {
   "metadata": {},
   "cell_type": "markdown",
   "source": [
    "#### **`math.log2(x)`, `math.log10(x)`**\n",
    "*   **功能**：计算 `x` 的以 2 为底的对数 (`log2(x)`) 或以 10 为底的对数 (`log10(x)`)。\n",
    "*   **参数**：`x` 必须是一个**正数**（`x > 0`）。\n",
    "*   **返回值**：对应的对数值（浮点数）。\n",
    "*   **优势**：比 `math.log(x, 2)` 和 `math.log(x, 10)` 通常更精确、更高效。"
   ],
   "id": "153e6290d43fcc46"
  },
  {
   "metadata": {
    "ExecuteTime": {
     "end_time": "2025-09-09T10:53:10.994913Z",
     "start_time": "2025-09-09T10:53:10.990808Z"
    }
   },
   "cell_type": "code",
   "source": [
    "print(math.log2(8))       # 输出: 3.0\n",
    "print(math.log10(1000))   # 输出: 3.0\n",
    "print(math.log10(0.001))  # 输出: -3.0"
   ],
   "id": "fc3ab971764401ae",
   "outputs": [
    {
     "name": "stdout",
     "output_type": "stream",
     "text": [
      "3.0\n",
      "3.0\n",
      "-3.0\n"
     ]
    }
   ],
   "execution_count": 64
  },
  {
   "metadata": {},
   "cell_type": "markdown",
   "source": "### **3. 三角函数** (参数和返回值单位均为**弧度**！)",
   "id": "1d473510b8f9facf"
  },
  {
   "metadata": {},
   "cell_type": "markdown",
   "source": [
    "#### **角度与弧度转换**\n",
    "*   **`math.degrees(x)`**：将弧度 `x` 转换为角度。\n",
    "*   **`math.radians(x)`**：将角度 `x` 转换为弧度。"
   ],
   "id": "aa84f219ccf95536"
  },
  {
   "metadata": {
    "ExecuteTime": {
     "end_time": "2025-09-09T10:54:35.600778Z",
     "start_time": "2025-09-09T10:54:35.596151Z"
    }
   },
   "cell_type": "code",
   "source": [
    "print(math.degrees(math.pi))      # 输出: 180.0\n",
    "print(math.radians(90))           # 输出: 1.5707963267948966 (π/2)\n",
    "angle_deg = 45\n",
    "angle_rad = math.radians(angle_deg)"
   ],
   "id": "b2010efc92249115",
   "outputs": [
    {
     "name": "stdout",
     "output_type": "stream",
     "text": [
      "180.0\n",
      "1.5707963267948966\n"
     ]
    }
   ],
   "execution_count": 65
  },
  {
   "metadata": {},
   "cell_type": "markdown",
   "source": [
    "#### **基本三角函数**\n",
    "*   **`math.sin(x)`**：正弦函数。\n",
    "*   **`math.cos(x)`**：余弦函数。\n",
    "*   **`math.tan(x)`**：正切函数。\n",
    "*   **参数**：`x` 是以**弧度**表示的角度。\n",
    "*   **返回值**：对应的三角函数值（浮点数）。"
   ],
   "id": "b174f0f1298f3439"
  },
  {
   "metadata": {
    "ExecuteTime": {
     "end_time": "2025-09-09T10:56:41.080193Z",
     "start_time": "2025-09-09T10:56:41.075907Z"
    }
   },
   "cell_type": "code",
   "source": [
    "# 计算 30 度的正弦值 (先转换为弧度)\n",
    "sin_30 = math.sin(math.radians(30))\n",
    "print(sin_30)  # 输出: 0.49999999999999994 (近似 0.5)\n",
    "\n",
    "# 计算 π/4 (45度) 的余弦值\n",
    "cos_pi4 = math.cos(math.pi / 4)\n",
    "print(cos_pi4) # 输出: 0.7071067811865476 (√2/2)\n",
    "\n",
    "# 计算 π/4 (45度) 的正切值\n",
    "tan_pi4 = math.tan(math.pi / 4)\n",
    "print(tan_pi4) # 输出: 0.9999999999999999 (近似 1.0)"
   ],
   "id": "d311970c29807ed0",
   "outputs": [
    {
     "name": "stdout",
     "output_type": "stream",
     "text": [
      "0.49999999999999994\n",
      "0.7071067811865476\n",
      "0.9999999999999999\n"
     ]
    }
   ],
   "execution_count": 68
  },
  {
   "metadata": {},
   "cell_type": "markdown",
   "source": [
    "#### **反三角函数** (返回值为**弧度**！)\n",
    "*   **`math.asin(x)`**：反正弦函数。`x` 必须在 `[-1, 1]` 范围内。返回值在 `[-π/2, π/2]` 弧度之间。\n",
    "*   **`math.acos(x)`**：反余弦函数。`x` 必须在 `[-1, 1]` 范围内。返回值在 `[0, π]` 弧度之间。\n",
    "*   **`math.atan(x)`**：反正切函数。返回值在 `[-π/2, π/2]` 弧度之间。\n",
    "*   **`math.atan2(y, x)`**：计算 `atan(y / x)`，但能正确处理所有象限（考虑 `x` 和 `y` 的符号）。返回值在 `[-π, π]` 弧度之间。**这是计算角度的首选方法！**\n",
    "*   **参数**：`asin`, `acos` 的参数 `x` 必须在 `[-1, 1]` 范围内。\n",
    "*   **返回值**：对应的角度（**弧度**）。"
   ],
   "id": "db9e074033f13ebe"
  },
  {
   "metadata": {
    "ExecuteTime": {
     "end_time": "2025-09-09T10:58:52.387361Z",
     "start_time": "2025-09-09T10:58:52.380582Z"
    }
   },
   "cell_type": "code",
   "source": [
    "# 已知 sin(θ) = 0.5，求 θ (弧度)\n",
    "theta_rad = math.asin(0.5)\n",
    "print(theta_rad)               # 输出: 0.5235987755982989 (约 π/6)\n",
    "print(math.degrees(theta_rad)) # 输出: 30.000000000000004 (近似 30度)\n",
    "# 计算点 (1, 1) 的角度 (相对于正x轴)\n",
    "angle_rad = math.atan2(1, 1)   # y=1, x=1\n",
    "print(math.degrees(angle_rad)) # 输出: 45.0\n",
    "# 计算点 (-1, -1) 的角度\n",
    "angle_rad = math.atan2(-1, -1) # y=-1, x=-1\n",
    "print(math.degrees(angle_rad)) # 输出: -135.0 (或 225度)"
   ],
   "id": "b5d4eca0b18a71cd",
   "outputs": [
    {
     "name": "stdout",
     "output_type": "stream",
     "text": [
      "0.5235987755982989\n",
      "30.000000000000004\n",
      "45.0\n",
      "-135.0\n"
     ]
    }
   ],
   "execution_count": 69
  },
  {
   "metadata": {
    "ExecuteTime": {
     "end_time": "2025-09-09T10:58:55.206634Z",
     "start_time": "2025-09-09T10:58:55.201333Z"
    }
   },
   "cell_type": "code",
   "source": [
    "# 已知 sin(θ) = 0.5，求 θ (弧度)\n",
    "theta_rad = math.asin(0.5)\n",
    "print(theta_rad)               # 输出: 0.5235987755982989 (约 π/6)\n",
    "print(math.degrees(theta_rad)) # 输出: 30.000000000000004 (近似 30度)\n",
    "# 计算点 (1, 1) 的角度 (相对于正x轴)\n",
    "angle_rad = math.atan2(1, 1)   # y=1, x=1\n",
    "print(math.degrees(angle_rad)) # 输出: 45.0\n",
    "# 计算点 (-1, -1) 的角度\n",
    "angle_rad = math.atan2(-1, -1) # y=-1, x=-1\n",
    "print(math.degrees(angle_rad)) # 输出: -135.0 (或 225度)"
   ],
   "id": "ed6c18b39f183e14",
   "outputs": [
    {
     "name": "stdout",
     "output_type": "stream",
     "text": [
      "0.5235987755982989\n",
      "30.000000000000004\n",
      "45.0\n",
      "-135.0\n"
     ]
    }
   ],
   "execution_count": 70
  },
  {
   "metadata": {},
   "cell_type": "markdown",
   "source": [
    "#### **双曲函数**\n",
    "*   **`math.sinh(x)`**：双曲正弦函数。\n",
    "*   **`math.cosh(x)`**：双曲余弦函数。\n",
    "*   **`math.tanh(x)`**：双曲正切函数。\n",
    "*   **参数**：`x` 是数值。\n",
    "*   **返回值**：对应的双曲函数值（浮点数）。\n",
    "*   **定义**：\n",
    "    *   `sinh(x) = (e^x - e^{-x}) / 2`\n",
    "    *   `cosh(x) = (e^x + e^{-x}) / 2`\n",
    "    *   `tanh(x) = sinh(x) / cosh(x)`"
   ],
   "id": "f36c1372fa2fc369"
  },
  {
   "metadata": {
    "ExecuteTime": {
     "end_time": "2025-09-09T10:59:36.447492Z",
     "start_time": "2025-09-09T10:59:36.443365Z"
    }
   },
   "cell_type": "code",
   "source": [
    "print(math.sinh(0))  # 输出: 0.0\n",
    "print(math.cosh(0))  # 输出: 1.0\n",
    "print(math.tanh(0))  # 输出: 0.0"
   ],
   "id": "b4256a49668f6c8b",
   "outputs": [
    {
     "name": "stdout",
     "output_type": "stream",
     "text": [
      "0.0\n",
      "1.0\n",
      "0.0\n"
     ]
    }
   ],
   "execution_count": 71
  },
  {
   "metadata": {},
   "cell_type": "markdown",
   "source": [
    "#### **特殊函数**\n",
    "*   **`math.gamma(x)`**：Gamma函数。是阶乘函数在实数和复数域上的推广。`gamma(n) = (n-1)!` 对于正整数 `n`。\n",
    "*   **`math.erf(x)`**：误差函数。在概率论、统计学以及偏微分方程中有广泛应用。\n",
    "*   **参数**：`x` 是数值。\n",
    "*   **返回值**：对应的函数值（浮点数）。"
   ],
   "id": "f40b5ac5025a760"
  },
  {
   "metadata": {
    "ExecuteTime": {
     "end_time": "2025-09-09T11:00:00.745445Z",
     "start_time": "2025-09-09T11:00:00.731245Z"
    }
   },
   "cell_type": "code",
   "source": [
    "# Gamma函数 (计算 5! = 120)\n",
    "print(math.gamma(6)) # 输出: 120.0 (gamma(n) = (n-1)!)\n",
    "# 计算 gamma(0.5) = √π\n",
    "print(math.gamma(0.5)) # 输出: 1.7724538509055159 ≈ √π\n",
    "# 误差函数 erf(0) = 0, erf(∞) = 1\n",
    "print(math.erf(0))   # 输出: 0.0\n",
    "print(math.erf(1))   # 输出: 0.8427007929497148"
   ],
   "id": "175adfdf74133993",
   "outputs": [
    {
     "name": "stdout",
     "output_type": "stream",
     "text": [
      "120.0\n",
      "1.7724538509055159\n",
      "0.0\n",
      "0.8427007929497149\n"
     ]
    }
   ],
   "execution_count": 72
  },
  {
   "metadata": {},
   "cell_type": "markdown",
   "source": [
    "### **5. 常数与精度相关**\n",
    "\n",
    "*   **`math.pi`**：数学常数 π (圆周率)，约等于 3.141592653589793。\n",
    "*   **`math.e`**：数学常数 e (自然对数的底)，约等于 2.718281828459045。\n",
    "*   **`math.tau`**：数学常数 τ (2π)，约等于 6.283185307179586。在某些领域（如周期函数）比 π 更自然。\n",
    "*   **`math.inf`**：浮点正无穷大。等同于 `float('inf')`。\n",
    "*   **`math.nan`**：浮点“非数字”(NaN)值。等同于 `float('nan')`。"
   ],
   "id": "eb115820630b9caf"
  },
  {
   "metadata": {
    "ExecuteTime": {
     "end_time": "2025-09-09T11:00:23.551417Z",
     "start_time": "2025-09-09T11:00:23.547632Z"
    }
   },
   "cell_type": "code",
   "source": [
    "print(math.pi)    # 输出: 3.141592653589793\n",
    "print(math.e)     # 输出: 2.718281828459045\n",
    "print(math.tau)   # 输出: 6.283185307179586\n",
    "print(math.inf)   # 输出: inf\n",
    "print(math.nan)   # 输出: nan"
   ],
   "id": "2a612996655421a0",
   "outputs": [
    {
     "name": "stdout",
     "output_type": "stream",
     "text": [
      "3.141592653589793\n",
      "2.718281828459045\n",
      "6.283185307179586\n",
      "inf\n",
      "nan\n"
     ]
    }
   ],
   "execution_count": 73
  },
  {
   "metadata": {},
   "cell_type": "markdown",
   "source": "### 进阶应用与综合实践",
   "id": "c6a51a9d0f14f8e6"
  },
  {
   "metadata": {},
   "cell_type": "markdown",
   "source": [
    "#### **1.1 数值积分（近似计算定积分）**\n",
    "\n",
    "**原理**：将曲线下的面积近似为许多小矩形或梯形的面积之和。\n",
    "\n",
    "**方法**：矩形法（Midpoint Rule）\n",
    "*   公式：\n",
    "*   首先是矩形法（中点法则）核心公式：$$ ∫(a, b) f(x) dx ≈ Σ [f(x_i) * Δx] $$\n",
    "*   接着是Δx（区间宽度）计算公式:$$ \\Delta x = \\frac{b - a}{n} $$\n",
    "*   最后是x_i（每个小区间中点）计算公式：$$ x_i = a + (i + 0.5) \\cdot \\Delta x $$ (取每个小区间的中点)\n",
    "\n",
    "**任务**：计算函数 `f(x) = sin(x)` 在区间 `[0, π]` 上的积分（理论值为 `2.0`）。"
   ],
   "id": "69a9a7f842b9399c"
  },
  {
   "metadata": {
    "ExecuteTime": {
     "end_time": "2025-09-09T11:19:50.635607Z",
     "start_time": "2025-09-09T11:16:00.417865Z"
    }
   },
   "cell_type": "code",
   "source": [
    "import math\n",
    "def integrate_sin(a,b,n = 1000):\n",
    "    \"\"\"\n",
    "\n",
    "    :param a: 左区间参数\n",
    "    :param b: 右区间参数\n",
    "    :param n: 分段\n",
    "    :return: 返回sin(x)在区间[a,b]上的定积分\n",
    "    \"\"\"\n",
    "    total_area = 0.0\n",
    "    dx = (b-a)/n\n",
    "    for i in range (n):\n",
    "        x_midpoint = a+(i+0.5)*dx\n",
    "        height = math.sin(x_midpoint)\n",
    "        area = height*dx\n",
    "        total_area +=area\n",
    "    return total_area\n",
    "a = 0\n",
    "b = math.pi\n",
    "result = integrate_sin(a,b)\n",
    "print(f\"数值积分结果: {result}\")\n",
    "print(f\"理论值 (2.0): 2.0\")\n",
    "print(f\"绝对误差: {abs(result - 2.0)}\")\n",
    "\n",
    "\n",
    "result = integrate_sin(a,b,10000)\n",
    "print(f\"数值积分结果: {result}\")\n",
    "print(f\"理论值 (2.0): 2.0\")\n",
    "print(f\"绝对误差: {abs(result - 2.0)}\")\n",
    "\n",
    "result = integrate_sin(a,b,100000)\n",
    "print(f\"数值积分结果: {result}\")\n",
    "print(f\"理论值 (2.0): 2.0\")\n",
    "print(f\"绝对误差: {abs(result - 2.0)}\")\n",
    "\n",
    "result = integrate_sin(a,b,1000000)\n",
    "print(f\"数值积分结果: {result}\")\n",
    "print(f\"理论值 (2.0): 2.0\")\n",
    "print(f\"绝对误差: {abs(result - 2.0)}\")\n",
    "\n",
    "result = integrate_sin(a,b,10000000)\n",
    "print(f\"数值积分结果: {result}\")\n",
    "print(f\"理论值 (2.0): 2.0\")\n",
    "print(f\"绝对误差: {abs(result - 2.0)}\")\n",
    "\n",
    "result = integrate_sin(a,b,100000000)\n",
    "print(f\"数值积分结果: {result}\")\n",
    "print(f\"理论值 (2.0): 2.0\")\n",
    "print(f\"绝对误差: {abs(result - 2.0)}\")\n",
    "\n",
    "result = integrate_sin(a,b,1000000000)\n",
    "print(f\"数值积分结果: {result}\")\n",
    "print(f\"理论值 (2.0): 2.0\")\n",
    "print(f\"绝对误差: {abs(result - 2.0)}\")"
   ],
   "id": "e6b10dc8c2ba09fb",
   "outputs": [
    {
     "name": "stdout",
     "output_type": "stream",
     "text": [
      "数值积分结果: 2.0000008224672694\n",
      "理论值 (2.0): 2.0\n",
      "绝对误差: 8.224672694012725e-07\n",
      "数值积分结果: 2.0000000082246694\n",
      "理论值 (2.0): 2.0\n",
      "绝对误差: 8.224669389989003e-09\n",
      "数值积分结果: 2.0000000000822356\n",
      "理论值 (2.0): 2.0\n",
      "绝对误差: 8.22355517016149e-11\n",
      "数值积分结果: 2.0000000000008424\n",
      "理论值 (2.0): 2.0\n",
      "绝对误差: 8.424372310855688e-13\n",
      "数值积分结果: 2.000000000000073\n",
      "理论值 (2.0): 2.0\n",
      "绝对误差: 7.283063041541027e-14\n",
      "数值积分结果: 1.9999999999996825\n",
      "理论值 (2.0): 2.0\n",
      "绝对误差: 3.1752378504279477e-13\n",
      "数值积分结果: 1.9999999999969138\n",
      "理论值 (2.0): 2.0\n",
      "绝对误差: 3.08619796385301e-12\n"
     ]
    }
   ],
   "execution_count": 83
  },
  {
   "metadata": {},
   "cell_type": "markdown",
   "source": [
    "#### **1.2 数据处理与清洗基础**\n",
    "\n",
    "在实际数据分析中，原始数据常常包含缺失、异常或无效值。`math` 模块的函数可以帮助我们识别和处理它们。\n",
    "\n",
    "**任务**：清理一个包含数字、`NaN`（非数字）和 `Inf`（无穷大）的列表。"
   ],
   "id": "9cf33523b089fa19"
  },
  {
   "metadata": {
    "ExecuteTime": {
     "end_time": "2025-09-09T11:32:28.084406Z",
     "start_time": "2025-09-09T11:32:28.077610Z"
    }
   },
   "cell_type": "code",
   "source": [
    "import math\n",
    "data = [10,23,float('nan'),17,float('inf'),35,-float('inf'),42,12]\n",
    "print(\"原始数据：\",data)\n",
    "clean_data =[]\n",
    "for value in data :\n",
    "    if math.isfinite(value):\n",
    "        clean_data.append(value)\n",
    "print(clean_data)\n",
    "data_sum = sum(clean_data)\n",
    "data_min = min(clean_data)\n",
    "data_max = max(clean_data)\n",
    "data_avg = data_sum / len(clean_data)\n",
    "print(data_sum)\n",
    "print(data_avg)\n",
    "print(data_max)\n",
    "print(data_min)"
   ],
   "id": "8ba46c4037692f65",
   "outputs": [
    {
     "name": "stdout",
     "output_type": "stream",
     "text": [
      "原始数据： [10, 23, nan, 17, inf, 35, -inf, 42, 12]\n",
      "[10, 23, 17, 35, 42, 12]\n",
      "139\n",
      "23.166666666666668\n",
      "42\n",
      "10\n"
     ]
    }
   ],
   "execution_count": 90
  },
  {
   "metadata": {},
   "cell_type": "markdown",
   "source": [
    "#### **项目二：蒙特卡洛方法估算 π**\n",
    "\n",
    "**原理**：在一个边长为 `2r` 的正方形内随机撒点，统计落在其内切圆（半径 `r`）中的点的数量。`圆的面积 / 正方形的面积 ≈ 圆内点数 / 总点数`。\n",
    "因为 `S_circle = πr²`, `S_square = (2r)² = 4r²`，所以 `π ≈ 4 * (圆内点数 / 总点数)`。"
   ],
   "id": "59211b8003411d8c"
  },
  {
   "metadata": {
    "ExecuteTime": {
     "end_time": "2025-09-09T11:34:22.924026Z",
     "start_time": "2025-09-09T11:34:21.650954Z"
    }
   },
   "cell_type": "code",
   "source": [
    "import math\n",
    "import random\n",
    "def estimate_pi(num_points):\n",
    "    \"\"\"\n",
    "    使用蒙特卡洛方法估算圆周率 π\n",
    "    \"\"\"\n",
    "    points_inside_circle = 0\n",
    "    for _ in range(num_points):\n",
    "        # 在边长为2的正方形内随机生成点 (x, y) 范围 [-1, 1]\n",
    "        x = random.uniform(-1, 1)\n",
    "        y = random.uniform(-1, 1)\n",
    "        # 计算点到原点 (0, 0) 的距离\n",
    "        distance = math.sqrt(x**2 + y**2)\n",
    "        # 如果距离 <= 1，说明点在单位圆内\n",
    "        if distance <= 1:\n",
    "            points_inside_circle += 1\n",
    "    # 计算 π 的近似值\n",
    "    pi_estimate = 4 * points_inside_circle / num_points\n",
    "    return pi_estimate\n",
    "# 使用越多的点，估算越精确，但计算时间越长\n",
    "num_points = 1000000\n",
    "pi_approx = estimate_pi(num_points)\n",
    "print(f\"使用 {num_points} 个点进行估算\")\n",
    "print(f\"π 的估计值为: {pi_approx}\")\n",
    "print(f\"与真实 π 的误差: {abs(pi_approx - math.pi)}\")"
   ],
   "id": "131fbe638f3fded2",
   "outputs": [
    {
     "name": "stdout",
     "output_type": "stream",
     "text": [
      "使用 1000000 个点进行估算\n",
      "π 的估计值为: 3.14242\n",
      "与真实 π 的误差: 0.000827346410206875\n"
     ]
    }
   ],
   "execution_count": 92
  },
  {
   "metadata": {
    "ExecuteTime": {
     "end_time": "2025-09-09T11:47:13.579254Z",
     "start_time": "2025-09-09T11:47:04.186511Z"
    }
   },
   "cell_type": "code",
   "source": [
    "import math\n",
    "import random\n",
    "def estimate_pi(num_points):\n",
    "    \"\"\"\n",
    "    使用蒙特卡洛方法估算圆周率\n",
    "    :param num_points:\n",
    "    :return:\n",
    "    \"\"\"\n",
    "    points_inside_circle = 0\n",
    "    for _ in range (num_points):\n",
    "        x = random.uniform(-1,1)\n",
    "        y = random.uniform(-1,1)\n",
    "        distance = math.sqrt(x**2+y**2)\n",
    "        if distance<=1 :\n",
    "            points_inside_circle+=1\n",
    "    pi_estimate = 4*points_inside_circle/num_points\n",
    "    return pi_estimate\n",
    "pi_approx = estimate_pi(10)\n",
    "print(pi_approx)\n",
    "pi_approx = estimate_pi(100)\n",
    "print(pi_approx)\n",
    "pi_approx = estimate_pi(1000)\n",
    "print(pi_approx)\n",
    "pi_approx = estimate_pi(10000)\n",
    "print(pi_approx)\n",
    "pi_approx = estimate_pi(100000)\n",
    "print(pi_approx)\n",
    "pi_approx = estimate_pi(1000000)\n",
    "print(pi_approx)\n",
    "pi_approx = estimate_pi(10000000)\n",
    "print(pi_approx)"
   ],
   "id": "d5a5c174631c9c39",
   "outputs": [
    {
     "name": "stdout",
     "output_type": "stream",
     "text": [
      "2.8\n",
      "2.88\n",
      "3.084\n",
      "3.132\n",
      "3.14156\n",
      "3.141796\n",
      "3.141256\n"
     ]
    }
   ],
   "execution_count": 97
  },
  {
   "metadata": {
    "ExecuteTime": {
     "end_time": "2025-09-09T11:48:51.969441Z",
     "start_time": "2025-09-09T11:48:51.965559Z"
    }
   },
   "cell_type": "code",
   "source": "print(f\"最终误差：{math.pi/pi_approx*100-100}%\")",
   "id": "df268809b4d9cf0b",
   "outputs": [
    {
     "name": "stdout",
     "output_type": "stream",
     "text": [
      "最终误差：0.010717165038215626%\n"
     ]
    }
   ],
   "execution_count": 100
  },
  {
   "metadata": {
    "ExecuteTime": {
     "end_time": "2025-09-09T11:26:46.365828Z",
     "start_time": "2025-09-09T11:26:46.234678Z"
    }
   },
   "cell_type": "code",
   "source": [
    "# 安装: pip install numpy matplotlib\n",
    "import numpy as np\n",
    "import matplotlib.pyplot as plt\n",
    "# 生成 x 值数组，从 0 到 4π，共 1000 个点\n",
    "x = np.linspace(0, 4 * np.pi, 1000)\n",
    "# 计算对应的正弦值\n",
    "y = np.sin(x)\n",
    "# 创建图形\n",
    "plt.figure(figsize=(10, 5))\n",
    "# 绘制曲线\n",
    "plt.plot(x, y, label='sin(x)')\n",
    "# 添加标题和标签\n",
    "plt.title('Sine Wave')\n",
    "plt.xlabel('x (radians)')\n",
    "plt.ylabel('sin(x)')\n",
    "plt.grid(True)\n",
    "plt.legend()\n",
    "# 显示图形\n",
    "plt.show()"
   ],
   "id": "4e3d93aeaaa274a7",
   "outputs": [
    {
     "data": {
      "text/plain": [
       "<Figure size 1000x500 with 1 Axes>"
      ],
      "image/png": "[encoded data removed]"
     },
     "metadata": {},
     "output_type": "display_data"
    }
   ],
   "execution_count": 86
  }
 ],
 "metadata": {
  "kernelspec": {
   "display_name": "Python 3",
   "language": "python",
   "name": "python3"
  },
  "language_info": {
   "codemirror_mode": {
    "name": "ipython",
    "version": 2
   },
   "file_extension": ".py",
   "mimetype": "text/x-python",
   "name": "python",
   "nbconvert_exporter": "python",
   "pygments_lexer": "ipython2",
   "version": "2.7.6"
  }
 },
 "nbformat": 4,
 "nbformat_minor": 5
}
